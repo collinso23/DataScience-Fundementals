{
 "cells": [
  {
   "cell_type": "markdown",
   "metadata": {},
   "source": [
    "Before you turn this problem in, make sure everything runs as expected. First, **restart the kernel** (in the menubar, select Kernel$\\rightarrow$Restart) and then **run all cells** (in the menubar, select Cell$\\rightarrow$Run All).\n",
    "\n",
    "Make sure you fill in any place that says `YOUR CODE HERE` or \"YOUR ANSWER HERE\", as well as your name and collaborators below:"
   ]
  },
  {
   "cell_type": "code",
   "execution_count": null,
   "metadata": {},
   "outputs": [],
   "source": [
    "NAME = \"Orion\""
   ]
  },
  {
   "cell_type": "markdown",
   "metadata": {},
   "source": [
    "---"
   ]
  },
  {
   "cell_type": "code",
   "execution_count": null,
   "metadata": {},
   "outputs": [],
   "source": [
    "# I am sorry I got swept away with my other classes, and an essay yesterday (10/4/19) and forgot to push the assignment\n",
    "# we spoke in class about the validation error my assignment was returning, but I had already completed all the work assigned \n",
    "#> \"The source of the following cell has changed, but it should not have!\""
   ]
  },
  {
   "cell_type": "markdown",
   "metadata": {
    "deletable": false,
    "editable": false,
    "nbgrader": {
     "checksum": "df929e1624e110c58d930d24f331f8fd",
     "grade": false,
     "grade_id": "cell-20a94f951bca15f1",
     "locked": true,
     "schema_version": 1,
     "solution": false
    }
   },
   "source": [
    "# PA2a\n",
    "\n",
    "PA2 covers intro to computation with Python and NumPy. \n",
    "\n",
    "There are 13 problems, but many of them are brief exercises. \n",
    "\n",
    "It is split in 2 parts (PA2a and PA2b) and is worth 150 points in total. \n",
    "\n",
    "Part a due in 1 week: Friday, 10/4, by 5pm and is worth 60 points. \n",
    "\n",
    "Part b will be assigned next week, worth ~90 points.\n",
    "\n",
    "## Comments\n",
    "\n",
    "-  Use __[Piazza](https://piazza.com/)__ to discuss problems and ask questions.\n",
    "    - Do not post code on Piazza\n",
    "- See Lecture1 for info such as submission.\n",
    "- Validation fails:\n",
    "    - If you get a validation error, look at what error you are excepted to raise in the test.\n",
    "    - Ex: if validation test has: `except ValueError: pass`, then `raise ValueError` in your function\n",
    "     \n",
    "- When a question states do not utilize the `mean` or `std` method, this forbids the use of **_both_** Python's **_and_** NumPy's mean/std functionality."
   ]
  },
  {
   "cell_type": "markdown",
   "metadata": {},
   "source": [
    "## Problem 1 (15 points)\n",
    "\n",
    "Given a 1D list, calculate its mean using `for` loops.\n",
    "\n",
    "Mean of a population can be calculated using\n",
    "$$ \\bar{v} = \\frac {\\sum_{i=1}^n v_i}{n} $$\n",
    "where $v_i$ is the $i^{th}$ element and $n$ is the number of elements of list $v$.\n",
    "\n",
    "#### Constraint: Do not use the built-in `mean` method or `numpy`.\n",
    "\n",
    "Hint: See __[Arithmetic mean](https://en.wikipedia.org/wiki/Arithmetic_mean)__ for the definition. "
   ]
  },
  {
   "cell_type": "code",
   "execution_count": null,
   "metadata": {
    "deletable": false,
    "nbgrader": {
     "checksum": "b0bfa8713118cd880cd1a528297012d6",
     "grade": false,
     "grade_id": "mean1dfor-fn",
     "locked": false,
     "schema_version": 1,
     "solution": true
    }
   },
   "outputs": [],
   "source": [
    "def mean1dfor(v):\n",
    "    \"\"\"Given a 1D list, calculate and return its mean\n",
    "    \"\"\"\n",
    "    if not v:\n",
    "        raise ValueError\n",
    "    else:\n",
    "        sumv = 0\n",
    "        for index in v:\n",
    "            sumv += index\n",
    "            \n",
    "        ans = sumv/len(v)\n",
    "        return ans"
   ]
  },
  {
   "cell_type": "markdown",
   "metadata": {},
   "source": [
    "Expected output:\n",
    "```` python \n",
    "mean1dfor([1,2,3,4]) = 2.5\n",
    "````\n",
    "\n",
    "Use the cell below to test your function."
   ]
  },
  {
   "cell_type": "code",
   "execution_count": null,
   "metadata": {},
   "outputs": [],
   "source": [
    "mean1dfor([1,2,3,4])"
   ]
  },
  {
   "cell_type": "code",
   "execution_count": null,
   "metadata": {
    "deletable": false,
    "editable": false,
    "nbgrader": {
     "checksum": "4da0d506adcdd1fd490d5e0b2ea105fd",
     "grade": true,
     "grade_id": "mean1dfor-test0",
     "locked": true,
     "points": 9,
     "schema_version": 1,
     "solution": false
    }
   },
   "outputs": [],
   "source": [
    "\"\"\"Check that method returns the correct output for several inputs\"\"\"\n",
    "assert mean1dfor([1,2,3,4]) == 2.5\n",
    "assert mean1dfor(list(range(20))) == 9.5\n",
    "assert mean1dfor(list(range(10,100))) == 54.5"
   ]
  },
  {
   "cell_type": "code",
   "execution_count": null,
   "metadata": {
    "deletable": false,
    "editable": false,
    "nbgrader": {
     "checksum": "f9bd5e5f450cbe2acae9ac257b1b1805",
     "grade": true,
     "grade_id": "mean1dfor-validation",
     "locked": true,
     "points": 6,
     "schema_version": 1,
     "solution": false
    }
   },
   "outputs": [],
   "source": [
    "\"\"\"Check that function raises an error for invalid inputs\"\"\"\n",
    "try:\n",
    "    mean1dfor([])\n",
    "except ValueError:\n",
    "    pass\n",
    "else:\n",
    "    raise AssertionError(\"Do not pass an empty list\")"
   ]
  },
  {
   "cell_type": "markdown",
   "metadata": {},
   "source": [
    "## Problem 2 (15 points)\n",
    "\n",
    "Given a 1D list, calculate its sample standard deviation (std) using `for` loops.\n",
    "\n",
    "#### Constraint: Do not use the built-in `std` method or `numpy`.\n",
    "\n",
    "Employ the two-pass algorithm as formulated below:\n",
    "$$ \\sigma = \\sqrt{ \\frac {\\sum_{i=1}^n (v_i - \\bar v)^2}{n-1} }$$\n",
    "where $\\bar v$ is the mean of the vector from `mean1dfor()`.\n",
    "\n",
    "Hint: See the definition for __[Standard deviation](https://en.wikipedia.org/wiki/Standard_deviation)__ . "
   ]
  },
  {
   "cell_type": "code",
   "execution_count": null,
   "metadata": {
    "deletable": false,
    "nbgrader": {
     "checksum": "7e37954b01417dba75dca8c79f8c60bb",
     "grade": false,
     "grade_id": "std1dfor-fn",
     "locked": false,
     "schema_version": 1,
     "solution": true
    }
   },
   "outputs": [],
   "source": [
    "import math\n",
    "\n",
    "def std1dfor(v):\n",
    "    \"\"\"Given a 1D list, return its std\n",
    "    \"\"\"\n",
    "    if not v or len(v) <= 1:\n",
    "        raise ValueError\n",
    "    else:\n",
    "        sumtop = 0\n",
    "        for index in v:\n",
    "            sumtop += (index - mean1dfor(v))**2\n",
    "        ans = math.sqrt(sumtop/(len(v)-1))\n",
    "        return ans"
   ]
  },
  {
   "cell_type": "markdown",
   "metadata": {},
   "source": [
    "Expected output:\n",
    "```` python \n",
    "std1dfor([1,2,3,4]) = 1.2909944487358056\n",
    "````\n",
    "\n",
    "Use the cell below to test your function."
   ]
  },
  {
   "cell_type": "code",
   "execution_count": null,
   "metadata": {},
   "outputs": [],
   "source": [
    "std1dfor([1,2,3,4])\n"
   ]
  },
  {
   "cell_type": "code",
   "execution_count": null,
   "metadata": {
    "deletable": false,
    "editable": false,
    "nbgrader": {
     "checksum": "c9c4b8c6b641485d4f6b0324b0e86b45",
     "grade": true,
     "grade_id": "std1dfor-test0",
     "locked": true,
     "points": 9,
     "schema_version": 1,
     "solution": false
    }
   },
   "outputs": [],
   "source": [
    "\"\"\"Check that method returns the correct output for several inputs\"\"\"\n",
    "assert std1dfor([1,2,3,4]) == 1.2909944487358056\n",
    "assert std1dfor(list(range(20))) == 5.916079783099616\n",
    "assert std1dfor(list(range(10,100))) == 26.124700955226263"
   ]
  },
  {
   "cell_type": "code",
   "execution_count": null,
   "metadata": {
    "deletable": false,
    "editable": false,
    "nbgrader": {
     "checksum": "196b25e4f27203da60bf5ee43594307f",
     "grade": true,
     "grade_id": "std1dfor-validation",
     "locked": true,
     "points": 6,
     "schema_version": 1,
     "solution": false
    }
   },
   "outputs": [],
   "source": [
    "\"\"\"Check that function raises an error for invalid inputs\"\"\"\n",
    "try:\n",
    "    mean1dfor([])\n",
    "except ValueError:\n",
    "    pass\n",
    "else:\n",
    "    raise AssertionError(\"Do not pass an empty list\")\n",
    "    \n",
    "try:\n",
    "    std1dfor([0])\n",
    "except ValueError:\n",
    "    pass\n",
    "else:\n",
    "    raise AssertionError(\"Sample size has to be > 1\")\n",
    "\n",
    "try:\n",
    "    std1dfor([1000000])\n",
    "except ValueError:\n",
    "    pass\n",
    "else:\n",
    "    raise AssertionError(\"Sample size has to be > 1\")\n",
    "     "
   ]
  },
  {
   "cell_type": "markdown",
   "metadata": {},
   "source": [
    "# NumPy Exercises\n",
    "\n",
    "## for better or `(for)` worse\n",
    "\n",
    "Below are quick exercises to familiarize you with NumPy's capabilities. \n",
    "\n",
    "No `for` loops allowed in these exercises. "
   ]
  },
  {
   "cell_type": "markdown",
   "metadata": {},
   "source": [
    "## Problem 5 (6 points)\n",
    "\n",
    "Given an integer number, $n$, create a $n$ by $n$ matrix that has values 0 to $n^2-1$.\n",
    "\n",
    "Use the built-in NumPy methods to solve this problem.\n",
    "\n",
    "You can solve this problem in one line."
   ]
  },
  {
   "cell_type": "code",
   "execution_count": 2,
   "metadata": {
    "deletable": false,
    "nbgrader": {
     "checksum": "6b36a5020a03cb72c0a5381a7daa7105",
     "grade": false,
     "grade_id": "np1-fn",
     "locked": false,
     "schema_version": 1,
     "solution": true
    }
   },
   "outputs": [],
   "source": [
    "import numpy as np\n",
    "\n",
    "def np1(n):\n",
    "    arr = np.arange(n*n).reshape(n,n)\n",
    "    return arr"
   ]
  },
  {
   "cell_type": "markdown",
   "metadata": {},
   "source": [
    "Expected output:\n",
    "```` python \n",
    "  np1(2) yields [[0,1],[2,3]]\n",
    " \n",
    "  np1(3) yields ([[0, 1, 2],\n",
    "                  [3, 4, 5],\n",
    "                  [6, 7, 8]])\n",
    " ````\n",
    "\n",
    "Use the cell below to test your function."
   ]
  },
  {
   "cell_type": "code",
   "execution_count": 3,
   "metadata": {},
   "outputs": [
    {
     "data": {
      "text/plain": [
       "array([[ 0,  1,  2,  3],\n",
       "       [ 4,  5,  6,  7],\n",
       "       [ 8,  9, 10, 11],\n",
       "       [12, 13, 14, 15]])"
      ]
     },
     "execution_count": 3,
     "metadata": {},
     "output_type": "execute_result"
    }
   ],
   "source": [
    " np1(4) "
   ]
  },
  {
   "cell_type": "code",
   "execution_count": 4,
   "metadata": {
    "code_folding": [
     12
    ],
    "deletable": false,
    "editable": false,
    "nbgrader": {
     "checksum": "da134f304e963c98341fd5a30f3884dc",
     "grade": true,
     "grade_id": "np1-test1",
     "locked": true,
     "points": 6,
     "schema_version": 1,
     "solution": false
    }
   },
   "outputs": [],
   "source": [
    "\"\"\"Check that method returns the correct output for several inputs\"\"\"\n",
    "#assert \n",
    "np.testing.assert_allclose(np1(2), \n",
    "                             np.array([[0,1],[2,3]]))\n",
    "\n",
    "np.testing.assert_allclose(np1(3), \n",
    "                              np.array(([[0, 1, 2],\n",
    "       [3, 4, 5],\n",
    "       [6, 7, 8]])))\n",
    " \n",
    "np.testing.assert_allclose(np1(4),\n",
    "                           np.array([[ 0,  1,  2,  3],\n",
    "       [ 4,  5,  6,  7],\n",
    "       [ 8,  9, 10, 11],\n",
    "       [12, 13, 14, 15]]))\n"
   ]
  },
  {
   "cell_type": "markdown",
   "metadata": {},
   "source": [
    "## Problem 6 (5 points)\n",
    "\n",
    "Given an integer number, $n$, create a random $n$ by $n$ matrix and return its min.\n",
    "\n",
    "Use the built-in NumPy methods to solve this problem.\n",
    "\n",
    "You want the random array's shape to be $nxn$\n",
    "\n",
    "You can solve this problem in one line."
   ]
  },
  {
   "cell_type": "code",
   "execution_count": null,
   "metadata": {},
   "outputs": [],
   "source": [
    "rng = np.random.RandomState(42)\n",
    "\n",
    "#Use this seed in your code. For example:\n",
    "#rng.rand(...)"
   ]
  },
  {
   "cell_type": "code",
   "execution_count": null,
   "metadata": {
    "deletable": false,
    "nbgrader": {
     "checksum": "03b7c5ce3dce1e63fdb12da6a2b17366",
     "grade": false,
     "grade_id": "np2-fn",
     "locked": false,
     "schema_version": 1,
     "solution": true
    }
   },
   "outputs": [],
   "source": [
    "import numpy as np\n",
    "def np2(n):\n",
    "    #Use rng\n",
    "    arr = np.min(rng.rand(n,n))\n",
    "    return arr"
   ]
  },
  {
   "cell_type": "markdown",
   "metadata": {},
   "source": [
    "Expected output:\n",
    "```` python \n",
    "  np2(2) yields 0.37454011884736249\n",
    " ````\n",
    "\n",
    "Use the cell below to test your function."
   ]
  },
  {
   "cell_type": "code",
   "execution_count": null,
   "metadata": {},
   "outputs": [],
   "source": [
    "rng = np.random.RandomState(42)\n",
    "\n",
    "np2(2) "
   ]
  },
  {
   "cell_type": "code",
   "execution_count": null,
   "metadata": {
    "code_folding": [
     12
    ],
    "deletable": false,
    "editable": false,
    "nbgrader": {
     "checksum": "2dddb0179a301dff5b33b98cfd849a41",
     "grade": true,
     "grade_id": "np2-test1",
     "locked": true,
     "points": 5,
     "schema_version": 1,
     "solution": false
    }
   },
   "outputs": [],
   "source": [
    "\"\"\"Check that method returns the correct output for several inputs\"\"\"\n",
    "#assert \n",
    "rng = np.random.RandomState(42)\n",
    "np.testing.assert_allclose(np2(2), 0.37454011884736249)\n",
    "\n",
    "rng = np.random.RandomState(42)\n",
    "np.testing.assert_allclose(np2(3), 0.058083612168199461)\n",
    "\n",
    "rng = np.random.RandomState(42)\n",
    "np.testing.assert_allclose(np2(41), 0.0046320230046028588)\n"
   ]
  },
  {
   "cell_type": "markdown",
   "metadata": {},
   "source": [
    "## Problem 7 (7 points)\n",
    "\n",
    "Given an integer number, $n$, create an $n$ by $n$ array that is filled with 1's around the edges and 0's on the inside.\n",
    "\n",
    "Use the built-in NumPy methods to solve this problem. \n",
    "\n",
    "No `for` loops, please.\n",
    "\n",
    "Have fun with it! \n",
    "You can solve this in two lines."
   ]
  },
  {
   "cell_type": "code",
   "execution_count": null,
   "metadata": {
    "deletable": false,
    "nbgrader": {
     "checksum": "526f5ca697bfe2ecdada821ffdabff41",
     "grade": false,
     "grade_id": "np3-fn",
     "locked": false,
     "schema_version": 1,
     "solution": true
    }
   },
   "outputs": [],
   "source": [
    "import numpy as np\n",
    "def np3(n):\n",
    "    arr = np.ones(n*n).reshape(n,n)\n",
    "    arr[1:n-1,1:n-1] = 0\n",
    "    return arr"
   ]
  },
  {
   "cell_type": "markdown",
   "metadata": {},
   "source": [
    "Expected output:\n",
    "```` python \n",
    "np3(3): [ 1.,  1.,  1.],\n",
    "        [ 1.,  0.,  1.],\n",
    "        [ 1.,  1.,  1.]\n",
    "````\n",
    "\n",
    "Use the cell below to test your function."
   ]
  },
  {
   "cell_type": "code",
   "execution_count": null,
   "metadata": {},
   "outputs": [],
   "source": [
    "np3(6)"
   ]
  },
  {
   "cell_type": "code",
   "execution_count": null,
   "metadata": {
    "code_folding": [
     12
    ],
    "deletable": false,
    "editable": false,
    "nbgrader": {
     "checksum": "19d95ff8bee2f9f816326b7ba0811b40",
     "grade": true,
     "grade_id": "np3-test1",
     "locked": true,
     "points": 7,
     "schema_version": 1,
     "solution": false
    }
   },
   "outputs": [],
   "source": [
    "\"\"\"Check that method returns the correct output for several inputs\"\"\"\n",
    "#assert \n",
    "np.testing.assert_allclose(np3(3), np.array([[ 1.,  1.,  1.],\n",
    "       [ 1.,  0.,  1.],\n",
    "       [ 1.,  1.,  1.]]))\n",
    "\n",
    "np.testing.assert_allclose(np3(2), np.array([[ 1.,  1.],\n",
    "       [ 1.,  1.]]))\n",
    "\n",
    "np.testing.assert_allclose(np3(4), np.array([[ 1.,  1.,  1.,  1.],\n",
    "       [ 1.,  0.,  0.,  1.],\n",
    "       [ 1.,  0.,  0.,  1.],\n",
    "       [ 1.,  1.,  1.,  1.]]))\n",
    "                           "
   ]
  },
  {
   "cell_type": "markdown",
   "metadata": {},
   "source": [
    "## Problem 8 (7 points)\n",
    "\n",
    "Given an integer number, $n$, create an $n$ by $n$ array that is filled with with alternating 0's and 1's.\n",
    "\n",
    "Use the built-in NumPy methods to solve this problem. \n",
    "No `for` loops, please.\n",
    "\n",
    "Have fun with it! \n",
    "You can solve this in three lines.\n"
   ]
  },
  {
   "cell_type": "code",
   "execution_count": null,
   "metadata": {
    "deletable": false,
    "nbgrader": {
     "checksum": "383b54a6064e599adb5506b4484f6522",
     "grade": false,
     "grade_id": "np4-fn",
     "locked": false,
     "schema_version": 1,
     "solution": true
    }
   },
   "outputs": [],
   "source": [
    "def np4(n):\n",
    "    arr = np.ones(n*n).reshape(n,n)\n",
    "    arr[1::2,1::2] = 0\n",
    "    arr[::2,::2] = 0\n",
    "    return arr"
   ]
  },
  {
   "cell_type": "markdown",
   "metadata": {},
   "source": [
    "Expected output:\n",
    "```` python \n",
    "np4(4): \n",
    "[[ 0.  1.  0.  1.]\n",
    " [ 1.  0.  1.  0.]\n",
    " [ 0.  1.  0.  1.]\n",
    " [ 1.  0.  1.  0.]]\n",
    "````\n",
    "\n",
    "Use the cell below to test your function."
   ]
  },
  {
   "cell_type": "code",
   "execution_count": null,
   "metadata": {},
   "outputs": [],
   "source": [
    "np4(4)"
   ]
  },
  {
   "cell_type": "code",
   "execution_count": null,
   "metadata": {
    "code_folding": [
     12
    ],
    "deletable": false,
    "editable": false,
    "nbgrader": {
     "checksum": "cd0cdf4c256b62333032ba73544c7297",
     "grade": true,
     "grade_id": "np4-test1",
     "locked": true,
     "points": 7,
     "schema_version": 1,
     "solution": false
    }
   },
   "outputs": [],
   "source": [
    "\"\"\"Check that method returns the correct output for several inputs\"\"\"\n",
    "#assert \n",
    "np.testing.assert_allclose(np4(3), np.array([[ 0.,  1.,  0.],\n",
    "       [ 1.,  0.,  1.],\n",
    "       [ 0.,  1.,  0.]]))\n",
    "\n",
    "np.testing.assert_allclose(np4(2), np.array([[ 0.,  1.],\n",
    "       [ 1.,  0.]]))\n",
    "\n",
    "np.testing.assert_allclose(np4(4), np.array([[ 0.,  1.,  0.,  1.],\n",
    "       [ 1.,  0.,  1.,  0.],\n",
    "       [ 0.,  1.,  0.,  1.],\n",
    "       [ 1.,  0.,  1.,  0.]]))\n",
    "                           "
   ]
  },
  {
   "cell_type": "markdown",
   "metadata": {},
   "source": [
    "## Problem 11 (5 points)\n",
    "\n",
    "Given a contstant, $m$, and unkonwn number of dimensions for your matix: <br>\n",
    "Create a matrix in given dimensions where all values set to m.\n",
    "\n",
    "Use NumPy indexing to solve this problem. \n",
    "No `for` loops, please.\n",
    "\n",
    "You can solve this in one line.<br>\n",
    "Hint: See __[Array creation routines](https://docs.scipy.org/doc/numpy-1.14.0/reference/routines.array-creation.html)__"
   ]
  },
  {
   "cell_type": "code",
   "execution_count": null,
   "metadata": {
    "deletable": false,
    "nbgrader": {
     "checksum": "dd5dcbccd803cb0ba6f357dc4f748c97",
     "grade": false,
     "grade_id": "np7-fn",
     "locked": false,
     "schema_version": 1,
     "solution": true
    }
   },
   "outputs": [],
   "source": [
    "import numpy as np\n",
    "def np7(m, *args):\n",
    "    return np.full(args,m)\n",
    "    "
   ]
  },
  {
   "cell_type": "markdown",
   "metadata": {},
   "source": [
    "Expected output:\n",
    "```` python \n",
    "np7(13,3,2,2) yields a (3,2,2) array where each value is set to 13:\n",
    "\n",
    "[[[ 13.  13.]\n",
    "  [ 13.  13.]]\n",
    "\n",
    " [[ 13.  13.]\n",
    "  [ 13.  13.]]\n",
    "\n",
    " [[ 13.  13.]\n",
    "  [ 13.  13.]]]\n",
    "````\n",
    "\n",
    "Use the cell below to test your function."
   ]
  },
  {
   "cell_type": "code",
   "execution_count": null,
   "metadata": {},
   "outputs": [],
   "source": [
    "np7(13,3,2,2)\n",
    "\n"
   ]
  },
  {
   "cell_type": "code",
   "execution_count": null,
   "metadata": {
    "code_folding": [],
    "deletable": false,
    "editable": false,
    "nbgrader": {
     "checksum": "44205d60dc94906552eb6c5e35938cf1",
     "grade": true,
     "grade_id": "np7-test1",
     "locked": true,
     "points": 5,
     "schema_version": 1,
     "solution": false
    }
   },
   "outputs": [],
   "source": [
    "\"\"\"Check that method returns the correct output for several inputs\"\"\"\n",
    "#assert \n",
    "np.testing.assert_allclose( np7(13,3,2,2), \n",
    "                           np.array([[[ 13.,  13.],\n",
    "        [ 13.,  13.]],\n",
    "\n",
    "       [[ 13.,  13.],\n",
    "        [ 13.,  13.]],\n",
    "\n",
    "       [[ 13.,  13.],\n",
    "        [ 13.,  13.]]]))\n",
    "\n",
    "np.testing.assert_allclose( np7(3.14, 2, 1), \n",
    "                           np.array([[ 3.14], [ 3.14]]))\n",
    "                           \n",
    "np.testing.assert_allclose( np7(2.72, 2,3,4), \n",
    "                           np.array([[[ 2.72,  2.72,  2.72,  2.72],\n",
    "        [ 2.72,  2.72,  2.72,  2.72],\n",
    "        [ 2.72,  2.72,  2.72,  2.72]],\n",
    "\n",
    "       [[ 2.72,  2.72,  2.72,  2.72],\n",
    "        [ 2.72,  2.72,  2.72,  2.72],\n",
    "        [ 2.72,  2.72,  2.72,  2.72]]]))\n",
    "                           \n",
    "np.testing.assert_allclose( np7(0.577,2,6), \n",
    "                           np.array([[ 0.577,  0.577,  0.577,  0.577,  0.577,  0.577],\n",
    "       [ 0.577,  0.577,  0.577,  0.577,  0.577,  0.577]]))\n",
    "                           "
   ]
  },
  {
   "cell_type": "code",
   "execution_count": null,
   "metadata": {},
   "outputs": [],
   "source": []
  }
 ],
 "metadata": {
  "kernelspec": {
   "display_name": "Python 3",
   "language": "python",
   "name": "python3"
  },
  "language_info": {
   "codemirror_mode": {
    "name": "ipython",
    "version": 3
   },
   "file_extension": ".py",
   "mimetype": "text/x-python",
   "name": "python",
   "nbconvert_exporter": "python",
   "pygments_lexer": "ipython3",
   "version": "3.6.7"
  }
 },
 "nbformat": 4,
 "nbformat_minor": 2
}
