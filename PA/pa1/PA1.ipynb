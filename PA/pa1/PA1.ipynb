{
 "cells": [
  {
   "cell_type": "markdown",
   "metadata": {},
   "source": [
    "Before you turn this problem in, make sure everything runs as expected. First, **restart the kernel** (in the menubar, select Kernel$\\rightarrow$Restart) and then **run all cells** (in the menubar, select Cell$\\rightarrow$Run All).\n",
    "\n",
    "Make sure you fill in any place that says `YOUR CODE HERE` or \"YOUR ANSWER HERE\", as well as your name and collaborators below:"
   ]
  },
  {
   "cell_type": "code",
   "execution_count": 7,
   "metadata": {},
   "outputs": [],
   "source": [
    "NAME = \"Orion\"\n",
    "COLLABORATORS = \"\""
   ]
  },
  {
   "cell_type": "markdown",
   "metadata": {},
   "source": [
    "---"
   ]
  },
  {
   "cell_type": "markdown",
   "metadata": {
    "deletable": false,
    "editable": false,
    "nbgrader": {
     "checksum": "946ff81eb500998e3f24071561dcb2b5",
     "grade": false,
     "grade_id": "cell-20a94f951bca15f1",
     "locked": true,
     "schema_version": 1,
     "solution": false
    }
   },
   "source": [
    "# PA1\n",
    "\n",
    "Our first programming assignment!\n",
    "\n",
    "Covers intro to python: strings, if, while, range, for and lists\n",
    "\n",
    "Due Friday, 9/20 by 5pm. \n"
   ]
  },
  {
   "cell_type": "markdown",
   "metadata": {},
   "source": [
    "# Problem 0 (10 points)\n",
    "\n",
    "Given a string, return its length\n",
    "\n",
    "Hints: <br>\n",
    "    https://docs.python.org/3/library/stdtypes.html?highlight=replace#str.replace <br>\n",
    "    https://docs.python.org/3/tutorial/introduction.html#strings"
   ]
  },
  {
   "cell_type": "code",
   "execution_count": 8,
   "metadata": {
    "deletable": false,
    "nbgrader": {
     "checksum": "2e8c97537733d197e48fa80d5d9ed889",
     "grade": false,
     "grade_id": "strfn0-fn",
     "locked": false,
     "schema_version": 1,
     "solution": true
    }
   },
   "outputs": [],
   "source": [
    "def strfn0(s):\n",
    "    \"\"\"Given a string, return its length\n",
    "    \"\"\"\n",
    "    # YOUR CODE HERE\n",
    "    if len(s) <= 0:\n",
    "        #raise IndexError\n",
    "        return print(f\"STRING IS EMPTY YOU DINGUS\")\n",
    "    else:\n",
    "        print(f\"The len of the string is {len(s)}\")\n",
    "        return len(s)\n",
    "        \n",
    "    raise NotImplementedError()"
   ]
  },
  {
   "cell_type": "markdown",
   "metadata": {},
   "source": [
    "Expected output for strfn0(\"doodle\") is 6\n",
    "\n",
    "Use the cell below to test your function."
   ]
  },
  {
   "cell_type": "code",
   "execution_count": 9,
   "metadata": {},
   "outputs": [
    {
     "name": "stdout",
     "output_type": "stream",
     "text": [
      "The len of the string is 6\n"
     ]
    },
    {
     "data": {
      "text/plain": [
       "6"
      ]
     },
     "execution_count": 9,
     "metadata": {},
     "output_type": "execute_result"
    }
   ],
   "source": [
    "#?str.replace()\n",
    "strfn0(\"doodle\")"
   ]
  },
  {
   "cell_type": "code",
   "execution_count": 10,
   "metadata": {
    "deletable": false,
    "editable": false,
    "nbgrader": {
     "checksum": "0713f18f907c7d80d8aa96ce978663b4",
     "grade": true,
     "grade_id": "strfn0-test0",
     "locked": true,
     "points": 6,
     "schema_version": 1,
     "solution": false
    }
   },
   "outputs": [
    {
     "name": "stdout",
     "output_type": "stream",
     "text": [
      "The len of the string is 6\n",
      "The len of the string is 34\n"
     ]
    }
   ],
   "source": [
    "\"\"\"Check that method returns the correct output for several inputs\"\"\"\n",
    "assert strfn0(\"doodle\") == 6\n",
    "assert strfn0(\"Supercalifragilisticexpialidocious\") == 34"
   ]
  },
  {
   "cell_type": "code",
   "execution_count": 11,
   "metadata": {
    "deletable": false,
    "editable": false,
    "nbgrader": {
     "checksum": "cec4aee7be04bff42b3f518e3238d4ef",
     "grade": true,
     "grade_id": "strfn0-validation",
     "locked": true,
     "points": 4,
     "schema_version": 1,
     "solution": false
    }
   },
   "outputs": [
    {
     "name": "stdout",
     "output_type": "stream",
     "text": [
      "STRING IS EMPTY YOU DINGUS\n"
     ]
    }
   ],
   "source": [
    "\"\"\"Check that function raises an error for invalid inputs\"\"\"\n",
    "try:\n",
    "    strfn0(\"\")\n",
    "except IndexError:\n",
    "    raise AssertionError(\"did not handle empty string\")\n",
    "else:\n",
    "    pass"
   ]
  },
  {
   "cell_type": "markdown",
   "metadata": {},
   "source": [
    "## Problem 1 (15 points)\n",
    "\n",
    "Given a string, replace all the instances of the first char with *\n",
    "\n",
    "Constraint: Do NOT use any for-loops in your solution. Employ string indexing or str methods only.\n",
    "\n",
    "Keep everything in lower case.\n",
    "\n",
    "Hint: See\n",
    "    https://docs.python.org/3/library/stdtypes.html?highlight=replace#str.replace\n",
    "    https://docs.python.org/3/tutorial/introduction.html#strings"
   ]
  },
  {
   "cell_type": "code",
   "execution_count": 12,
   "metadata": {
    "deletable": false,
    "nbgrader": {
     "checksum": "bee0ec55aef1db80683e5cc5e4e2a817",
     "grade": false,
     "grade_id": "strfn1-fn",
     "locked": false,
     "schema_version": 1,
     "solution": true
    }
   },
   "outputs": [],
   "source": [
    "def strfn1(s):\n",
    "    \"\"\"Given a string, replace all the instances of the first char with *\n",
    "    Constraint: No for-loops\n",
    "    \"\"\"\n",
    "    # YOUR CODE HERE\n",
    "    if len(s) <= 0:\n",
    "        #raise IndexError\n",
    "        return print(f\"THE STRING IS EMPTY YOU DINGUS!\")\n",
    "    lowstr = s.lower()\n",
    "    \n",
    "    nwstr = lowstr[1:].replace(lowstr[0],\"*\",)\n",
    "    \n",
    "    return lowstr[0]+nwstr\n",
    "    \n",
    "    raise NotImplementedError()"
   ]
  },
  {
   "cell_type": "markdown",
   "metadata": {},
   "source": [
    "Expected output for strfn1(\"Doodle\") is \"doo*le\"\n",
    "\n",
    "Use the cell below to test your function."
   ]
  },
  {
   "cell_type": "code",
   "execution_count": 13,
   "metadata": {},
   "outputs": [
    {
     "data": {
      "text/plain": [
       "'supercalifragili*ticexpialidociou*'"
      ]
     },
     "execution_count": 13,
     "metadata": {},
     "output_type": "execute_result"
    }
   ],
   "source": [
    "#?str.replace()\n",
    "strfn1(\"Supercalifragilisticexpialidocious\")"
   ]
  },
  {
   "cell_type": "code",
   "execution_count": 14,
   "metadata": {
    "deletable": false,
    "editable": false,
    "nbgrader": {
     "checksum": "fd50ba657458b6a78208e8d11986e90f",
     "grade": true,
     "grade_id": "strfn1-test0",
     "locked": true,
     "points": 10,
     "schema_version": 1,
     "solution": false
    }
   },
   "outputs": [],
   "source": [
    "\"\"\"Check that method returns the correct output for several inputs\"\"\"\n",
    "assert strfn1(\"Doodle\") == \"doo*le\"\n",
    "assert strfn1(\"Supercalifragilisticexpialidocious\") == \"supercalifragili*ticexpialidociou*\""
   ]
  },
  {
   "cell_type": "code",
   "execution_count": 15,
   "metadata": {
    "deletable": false,
    "editable": false,
    "nbgrader": {
     "checksum": "e422bbddadfc2857a66088a9e46e0ee5",
     "grade": true,
     "grade_id": "strfn1-validation",
     "locked": true,
     "points": 5,
     "schema_version": 1,
     "solution": false
    }
   },
   "outputs": [
    {
     "name": "stdout",
     "output_type": "stream",
     "text": [
      "THE STRING IS EMPTY YOU DINGUS!\n"
     ]
    }
   ],
   "source": [
    "\"\"\"Check that function raises an error for invalid inputs\"\"\"\n",
    "try:\n",
    "    strfn1(\"\")\n",
    "except IndexError:\n",
    "    raise AssertionError(\"did not handle empty string\")\n",
    "else:\n",
    "    pass"
   ]
  },
  {
   "cell_type": "code",
   "execution_count": 16,
   "metadata": {},
   "outputs": [],
   "source": [
    "# ^^ Ask if this is correct validation in class"
   ]
  },
  {
   "cell_type": "markdown",
   "metadata": {},
   "source": [
    "## Problem 2 (20 points)\n",
    "\n",
    "Given two digits: x and n, return $x+xx+xxx+...+x^n$"
   ]
  },
  {
   "cell_type": "code",
   "execution_count": 17,
   "metadata": {
    "deletable": false,
    "nbgrader": {
     "checksum": "47cdc61deb50718571443aae063c83c7",
     "grade": false,
     "grade_id": "strfn2-fn",
     "locked": false,
     "schema_version": 1,
     "solution": true
    }
   },
   "outputs": [],
   "source": [
    "def strfn2(x, n):\n",
    "    \"\"\"Given two digits: x and n, return $x+xx+xxx+...+x^n$\n",
    "    \"\"\"\n",
    "    # YOUR CODE HERE\n",
    "    \n",
    "    # cast str to (int) for math\n",
    "    #str to contactination\n",
    "    xsum = 0\n",
    "    while n != 0:\n",
    "        xstr = str(x)*n\n",
    "        xsum += int(xstr)\n",
    "        n -= 1\n",
    "    return xsum\n",
    "\n",
    "    raise NotImplementedError()"
   ]
  },
  {
   "cell_type": "markdown",
   "metadata": {},
   "source": [
    "Expected output for strfn2(2, 3) is 2 + 22 + 222 = 246\n",
    "\n",
    "Use the cell below to test your function."
   ]
  },
  {
   "cell_type": "code",
   "execution_count": 18,
   "metadata": {},
   "outputs": [
    {
     "data": {
      "text/plain": [
       "0"
      ]
     },
     "execution_count": 18,
     "metadata": {},
     "output_type": "execute_result"
    }
   ],
   "source": [
    "#?str.replace()\n",
    "strfn2(0,0)"
   ]
  },
  {
   "cell_type": "code",
   "execution_count": 19,
   "metadata": {
    "deletable": false,
    "editable": false,
    "nbgrader": {
     "checksum": "e0da1236023a766ff6a6cb127f0c4d5f",
     "grade": true,
     "grade_id": "strfn2-test0",
     "locked": true,
     "points": 20,
     "schema_version": 1,
     "solution": false
    }
   },
   "outputs": [
    {
     "data": {
      "text/plain": [
       "True"
      ]
     },
     "execution_count": 19,
     "metadata": {},
     "output_type": "execute_result"
    }
   ],
   "source": [
    "\"\"\"Check that method returns the correct output for several inputs\"\"\"\n",
    "assert strfn2(2,3) == 246\n",
    "assert strfn2(1,9) == 123456789\n",
    "strfn2(3,3) == 369"
   ]
  },
  {
   "cell_type": "markdown",
   "metadata": {},
   "source": [
    "## Problem 3 (25 points)\n",
    "\n",
    "Write a function that\n",
    "- takes 4 inputs: a,b, r0, r1\n",
    "- finds all digits that are divisble by `a` BUT not by `b` and are in range `[r0, r1]`"
   ]
  },
  {
   "cell_type": "code",
   "execution_count": 20,
   "metadata": {
    "deletable": false,
    "nbgrader": {
     "checksum": "e0f3ef04903259477318878e8b7acac1",
     "grade": false,
     "grade_id": "divisible-fn",
     "locked": false,
     "schema_version": 1,
     "solution": true
    }
   },
   "outputs": [],
   "source": [
    "def divisible(a, b, r0, r1):\n",
    "    \"\"\" Write a program that takes 4 inputs: a,b, r0, r1.\n",
    "    finds all that are divisble by a BUT not by b and are in range [r0, r1]\n",
    "    \"\"\"\n",
    "    # YOUR CODE HERE\n",
    "    if a <= 0 or b <= 0:\n",
    "        raise ValueError\n",
    "    else:\n",
    "        inarr = []\n",
    "        for num in range(r0,r1):\n",
    "            inarr.append(num+1)\n",
    "        outarr = []\n",
    "        for num in inarr:\n",
    "            if num%a==0 and num%b!=0:\n",
    "                outarr.append(num)\n",
    "        return outarr"
   ]
  },
  {
   "cell_type": "markdown",
   "metadata": {},
   "source": [
    "Expected output for a=3, b=4, r0=0, r1=15 is [3,6,9,15]\n",
    "\n",
    "Use the cell below to test your function."
   ]
  },
  {
   "cell_type": "code",
   "execution_count": 21,
   "metadata": {},
   "outputs": [
    {
     "data": {
      "text/plain": [
       "[3, 6, 9, 15]"
      ]
     },
     "execution_count": 21,
     "metadata": {},
     "output_type": "execute_result"
    }
   ],
   "source": [
    "divisible(3, 4, 0, 15)\n"
   ]
  },
  {
   "cell_type": "code",
   "execution_count": 22,
   "metadata": {
    "deletable": false,
    "editable": false,
    "nbgrader": {
     "checksum": "66a3d7d56852c09af752d55ea1c13229",
     "grade": true,
     "grade_id": "divisible-test0",
     "locked": true,
     "points": 20,
     "schema_version": 1,
     "solution": false
    }
   },
   "outputs": [],
   "source": [
    "\"\"\"Check that method returns the correct output for several inputs\"\"\"\n",
    "assert divisible(3, 4, 0, 15) == [3, 6, 9, 15]"
   ]
  },
  {
   "cell_type": "code",
   "execution_count": 23,
   "metadata": {
    "deletable": false,
    "editable": false,
    "nbgrader": {
     "checksum": "b3bccb477bef1ac81321cd2646a78e34",
     "grade": true,
     "grade_id": "divisible-validation",
     "locked": true,
     "points": 5,
     "schema_version": 1,
     "solution": false
    }
   },
   "outputs": [],
   "source": [
    "\"\"\"Check that function raises an error for invalid inputs\"\"\"\n",
    "try:\n",
    "    divisible(0, 4, 0, 8)\n",
    "except ValueError:\n",
    "    pass\n",
    "else:\n",
    "    raise AssertionError(\"did not raise\")\n",
    "\n",
    "try:\n",
    "    divisible(4, 0, 0, 8)\n",
    "except ValueError:\n",
    "    pass\n",
    "else:\n",
    "    raise AssertionError(\"did not raise\")"
   ]
  },
  {
   "cell_type": "markdown",
   "metadata": {},
   "source": [
    "## Problem 4 (30 points)\n",
    "\n",
    "Write a function that\n",
    "- takes 2 inputs: a,b\n",
    "- use a nested list to create a 2D matrix that has `a` many rows and `b` many columns\n",
    "- where each element equals to the sum of its indeces: matrix(i,j) = i+j\n"
   ]
  },
  {
   "cell_type": "code",
   "execution_count": 24,
   "metadata": {
    "code_folding": [],
    "deletable": false,
    "nbgrader": {
     "checksum": "b31a6adda09e2e5a2b9df8b21cb69f46",
     "grade": false,
     "grade_id": "matrixcreate-fn",
     "locked": false,
     "schema_version": 1,
     "solution": true
    }
   },
   "outputs": [],
   "source": [
    "\n",
    "def matrixcreate(a,b):\n",
    "    # YOUR CODE HERE\n",
    "    #matrix = [[a+b for num in range(a-1)] for y in range(b)]\n",
    "    matrix = [[0]*b for num in range(a)]\n",
    "    \n",
    "    for i in range(a):\n",
    "        for j in range(b):\n",
    "            matrix[i][j] = i+j\n",
    "    \n",
    "    return matrix\n",
    "    #raise NotImplementedError()"
   ]
  },
  {
   "cell_type": "markdown",
   "metadata": {},
   "source": [
    "Hint:https://docs.python.org/3/tutorial/datastructures.html#nested-list-comprehensions\n",
    "\n",
    "\n",
    "Expected output for a=3, b=2 is [[0, 1], [1, 2], [2, 3]]\n",
    "\n",
    "Use the cell below to test your function."
   ]
  },
  {
   "cell_type": "code",
   "execution_count": 25,
   "metadata": {},
   "outputs": [
    {
     "data": {
      "text/plain": [
       "[[0, 1], [1, 2], [2, 3]]"
      ]
     },
     "execution_count": 25,
     "metadata": {},
     "output_type": "execute_result"
    }
   ],
   "source": [
    "matrixcreate(3,2)"
   ]
  },
  {
   "cell_type": "code",
   "execution_count": 26,
   "metadata": {
    "deletable": false,
    "editable": false,
    "nbgrader": {
     "checksum": "3c92729d4d6d551250783355388a9e59",
     "grade": true,
     "grade_id": "matrixcreate-test0",
     "locked": true,
     "points": 30,
     "schema_version": 1,
     "solution": false
    }
   },
   "outputs": [],
   "source": [
    "\"\"\"Check that method returns the correct output for several inputs\"\"\"\n",
    "assert matrixcreate(3, 2) == [[0, 1], [1, 2], [2, 3]]\n",
    "assert matrixcreate(2, 3) == [[0, 1, 2], [1, 2, 3]]\n"
   ]
  },
  {
   "cell_type": "code",
   "execution_count": null,
   "metadata": {},
   "outputs": [],
   "source": []
  }
 ],
 "metadata": {
  "kernelspec": {
   "display_name": "Python 3",
   "language": "python",
   "name": "python3"
  },
  "language_info": {
   "codemirror_mode": {
    "name": "ipython",
    "version": 3
   },
   "file_extension": ".py",
   "mimetype": "text/x-python",
   "name": "python",
   "nbconvert_exporter": "python",
   "pygments_lexer": "ipython3",
   "version": "3.6.7"
  }
 },
 "nbformat": 4,
 "nbformat_minor": 2
}
