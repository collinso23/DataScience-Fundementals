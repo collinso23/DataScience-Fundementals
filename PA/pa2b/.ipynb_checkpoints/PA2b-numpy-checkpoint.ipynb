{
 "cells": [
  {
   "cell_type": "markdown",
   "metadata": {},
   "source": [
    "Before you turn this problem in, make sure everything runs as expected. First, **restart the kernel** (in the menubar, select Kernel$\\rightarrow$Restart) and then **run all cells** (in the menubar, select Cell$\\rightarrow$Run All).\n",
    "\n",
    "Make sure you fill in any place that says `YOUR CODE HERE` or \"YOUR ANSWER HERE\", as well as your name and collaborators below:"
   ]
  },
  {
   "cell_type": "code",
   "execution_count": null,
   "metadata": {},
   "outputs": [],
   "source": [
    "NAME = \"Orion\"\n",
    "COLLABORATORS = \"\""
   ]
  },
  {
   "cell_type": "markdown",
   "metadata": {},
   "source": [
    "---"
   ]
  },
  {
   "cell_type": "markdown",
   "metadata": {
    "deletable": false,
    "editable": false,
    "nbgrader": {
     "checksum": "3e591b5a1da2b788590992b75f88caed",
     "grade": false,
     "grade_id": "cell-20a94f951bca15f1",
     "locked": true,
     "schema_version": 1,
     "solution": false
    }
   },
   "source": [
    "# PA2b\n",
    "\n",
    "PA2 covers intro to computation with Python and NumPy. \n",
    "\n",
    "There are 13 problems, but many of them are brief exercises. \n",
    "\n",
    "It is split in 2 parts (PA2a and PA2b) and is worth 150 points in total. \n",
    "\n",
    "Part a was due in 1 week: Friday, 10/4, by 5pm and is worth 60 points. \n",
    "\n",
    "Part b due in 2 weeks: Friday, 10/18, by 5pm and is worth ~90 points. \n",
    "\n",
    "## Comments\n",
    "\n",
    "-  Use __[Piazza](https://piazza.com/)__ to discuss problems and ask questions.\n",
    "    - Do not post code on Piazza\n",
    "- See Lecture1 for info such as submission.\n",
    "- Validation fails:\n",
    "    - If you get a validation error, look at what error you are excepted to raise in the test.\n",
    "    - Ex: if validation test has: `except ValueError: pass`, then `raise ValueError` in your function\n",
    "     \n",
    "- When a question states do not utilize the `mean` or `std` method, this forbids the use of **_both_** Python's **_and_** NumPy's mean/std functionality."
   ]
  },
  {
   "cell_type": "markdown",
   "metadata": {},
   "source": [
    "## Problem 3 (25 points)\n",
    "\n",
    "Given a 1D array, calculate its mean _in place_ using `numpy`.\n",
    "\n",
    "Mean of a population can be calculated using\n",
    "$$ \\bar{v} = \\frac {\\sum_{i=1}^n v_i}{n} $$\n",
    "where $v_i$ is the $i^{th}$ element and $n$ is the number of elements of list $v$.\n",
    "\n",
    "#### Constraint: Do not use `for` loops or the built-in `mean` method.\n",
    "\n",
    "See __[Arithmetic mean](https://en.wikipedia.org/wiki/Arithmetic_mean)__ for the definition. \n",
    "\n",
    "Hint: Your code should be shorter than the list implementation."
   ]
  },
  {
   "cell_type": "code",
   "execution_count": null,
   "metadata": {},
   "outputs": [],
   "source": [
    "import numpy as np\n",
    "import math"
   ]
  },
  {
   "cell_type": "code",
   "execution_count": null,
   "metadata": {
    "deletable": false,
    "nbgrader": {
     "checksum": "d9ed6f8f79f459f4a9092d7b3e9f2b71",
     "grade": false,
     "grade_id": "mean1dnp-fn",
     "locked": false,
     "schema_version": 1,
     "solution": true
    }
   },
   "outputs": [],
   "source": [
    "def mean1dnp(v):\n",
    "    \"\"\"Given a 1D numpy array, return its mean\n",
    "    \"\"\"\n",
    "    # YOUR CODE HERE\n",
    "    raise NotImplementedError()"
   ]
  },
  {
   "cell_type": "markdown",
   "metadata": {},
   "source": [
    "Expected output:\n",
    "```` python \n",
    "mean1dnp(np.array([1, 2, 3, 4])) = 2.5\n",
    "````\n",
    "\n",
    "Use the cell below to test your function."
   ]
  },
  {
   "cell_type": "code",
   "execution_count": null,
   "metadata": {},
   "outputs": [],
   "source": [
    "#mean1dnp(np.arange(1,5))\n",
    "#np.arange(1,5).mean()\n",
    "\n",
    "mean1dnp(np.array([1, 2, 3, 4]))"
   ]
  },
  {
   "cell_type": "code",
   "execution_count": null,
   "metadata": {
    "deletable": false,
    "editable": false,
    "nbgrader": {
     "checksum": "6b2fb408af1bb2fcdb0abcf36a925ac7",
     "grade": true,
     "grade_id": "mean1dnp-test0",
     "locked": true,
     "points": 10,
     "schema_version": 1,
     "solution": false
    }
   },
   "outputs": [],
   "source": [
    "\"\"\"Check that method returns the correct output for several inputs\"\"\"\n",
    "assert mean1dnp(np.array([1, 2, 3, 4])) == 2.5\n",
    "assert mean1dnp(np.arange(20)) == 9.5\n",
    "assert mean1dnp(np.arange(10,100)) == 54.5"
   ]
  },
  {
   "cell_type": "code",
   "execution_count": null,
   "metadata": {
    "deletable": false,
    "editable": false,
    "nbgrader": {
     "checksum": "7ecb0ce8efba758d7853877495f97536",
     "grade": true,
     "grade_id": "mean1dnp-validation",
     "locked": true,
     "points": 6,
     "schema_version": 1,
     "solution": false
    }
   },
   "outputs": [],
   "source": [
    "\"\"\"Check that function raises an error for invalid inputs\"\"\"\n",
    "try:\n",
    "    mean1dnp(np.array([]))\n",
    "except ValueError:\n",
    "    pass\n",
    "else:\n",
    "    raise AssertionError(\"Do not pass an empty array\")"
   ]
  },
  {
   "cell_type": "markdown",
   "metadata": {},
   "source": [
    "Given a 2D matrix, your method, `mean1dnp`, should return the mean for each column.\n",
    "\n",
    "You might not have to change your code for this work. \n",
    "\n",
    "Expected output:\n",
    "```` python\n",
    "mean1dnp(np.array([[1, 2, 3, 4], [0, 0, 0, 0]])) = [ 0.5,  1. ,  1.5,  2. ]\n",
    "\n",
    "````"
   ]
  },
  {
   "cell_type": "code",
   "execution_count": null,
   "metadata": {},
   "outputs": [],
   "source": [
    "#mean1dnp(np.array([[1, 2, 3, 4], [1, 2, 3, 4]]))\n",
    "mean1dnp(np.array([[1, 2, 3, 4], [0, 0, 0, 0]]))\n"
   ]
  },
  {
   "cell_type": "code",
   "execution_count": null,
   "metadata": {
    "code_folding": [
     12
    ],
    "deletable": false,
    "editable": false,
    "nbgrader": {
     "checksum": "28754cd8cc5333ce5532032fd8758701",
     "grade": true,
     "grade_id": "mean1dnp-test1",
     "locked": true,
     "points": 9,
     "schema_version": 1,
     "solution": false
    }
   },
   "outputs": [],
   "source": [
    "\"\"\"Check that method returns the correct output for several inputs\"\"\"\n",
    "#assert \n",
    "np.testing.assert_array_equal(mean1dnp(np.array([[1, 2, 3, 4], [0, 0, 0, 0]])), \n",
    "                              np.array([ 0.5,  1. ,  1.5,  2. ]))\n",
    "np.testing.assert_array_equal(mean1dnp(np.array([[1, 2, 3, 4], [1, 2, 3, 4]])), \n",
    "                              np.array([ 1.,  2.,  3.,  4.]))\n",
    "np.testing.assert_array_equal(mean1dnp(np.array([[np.arange(1,10)],[np.arange(1, 10)]])), \n",
    "                              np.array([[ 1.,  2.,  3.,  4.,  5.,  6.,  7.,  8.,  9.]]))\n",
    "np.testing.assert_array_equal(mean1dnp(np.array([[np.arange(1,10)],[np.arange(101, 110)]])), \n",
    "                              np.array([[ 51.,  52.,  53.,  54.,  55.,  56.,  57.,  58.,  59.] ] ))\n"
   ]
  },
  {
   "cell_type": "markdown",
   "metadata": {},
   "source": [
    "## Problem 4 (30 points)\n",
    "\n",
    "Given a 1D array, calculate its sample standard deviation, std, _in place_ using `numpy`.\n",
    "\n",
    "Employ the two-pass algorithm as formulated below:\n",
    "$$ \\sigma = \\sqrt{ \\frac {\\sum_{i=1}^n (v_i - \\bar v)^2}{n-1} }$$\n",
    "where $\\bar v$ is the mean of the vector from `mean1dnp()`.\n",
    "\n",
    "Same as Problem 2, BUT:\n",
    "#### Constraint: Do not use `for` loops or the built-in `std` or `mean` methods.\n",
    "\n",
    "Hint: Your code should be shorter than the list implementation."
   ]
  },
  {
   "cell_type": "code",
   "execution_count": null,
   "metadata": {
    "deletable": false,
    "nbgrader": {
     "checksum": "db2c534599a5b9c5295a971023f3c3a0",
     "grade": false,
     "grade_id": "std1dnp-fn",
     "locked": false,
     "schema_version": 1,
     "solution": true
    }
   },
   "outputs": [],
   "source": [
    "def std1dnp(v):\n",
    "    \"\"\"Given a 1D array, return its std\n",
    "    \"\"\"\n",
    "    # Numpy.sum used in solution\n",
    "    # YOUR CODE HERE\n",
    "    raise NotImplementedError()"
   ]
  },
  {
   "cell_type": "markdown",
   "metadata": {},
   "source": [
    "Expected output:\n",
    "```` python \n",
    "std1dnp([1,2,3,4]) = 1.2909944487358056\n",
    "````\n",
    "\n",
    "Use the cell below to test your function."
   ]
  },
  {
   "cell_type": "code",
   "execution_count": null,
   "metadata": {},
   "outputs": [],
   "source": [
    "std1dnp(np.arange(1,5))\n"
   ]
  },
  {
   "cell_type": "code",
   "execution_count": null,
   "metadata": {
    "deletable": false,
    "editable": false,
    "nbgrader": {
     "checksum": "a70adb2b6fe6f58ae73fc3c7e1184025",
     "grade": true,
     "grade_id": "std1dnp-test0",
     "locked": true,
     "points": 10,
     "schema_version": 1,
     "solution": false
    }
   },
   "outputs": [],
   "source": [
    "\"\"\"Check that method returns the correct output for several inputs\"\"\"\n",
    "assert std1dnp(np.array([1,2,3,4])) == 1.2909944487358056\n",
    "assert std1dnp(np.arange(20)) == 5.916079783099616\n",
    "assert std1dnp(np.arange(10,100)) == 26.124700955226263"
   ]
  },
  {
   "cell_type": "code",
   "execution_count": null,
   "metadata": {
    "deletable": false,
    "editable": false,
    "nbgrader": {
     "checksum": "a73cdaea2538620bf132693dd3db211f",
     "grade": true,
     "grade_id": "std1dnp-validation",
     "locked": true,
     "points": 10,
     "schema_version": 1,
     "solution": false
    }
   },
   "outputs": [],
   "source": [
    "\"\"\"Check that function raises an error for invalid inputs\"\"\"\n",
    "try:\n",
    "    std1dnp(np.array([]))\n",
    "except ValueError:\n",
    "    pass\n",
    "else:\n",
    "    raise AssertionError(\"Do not pass an empty list\")\n",
    "    \n",
    "try:\n",
    "    std1dnp(np.array([0]))\n",
    "except ValueError:\n",
    "    pass\n",
    "else:\n",
    "    raise AssertionError(\"Sample size has to be > 1\")\n",
    "\n",
    "try:\n",
    "    std1dnp(np.array([100000]))\n",
    "except ValueError:\n",
    "    pass\n",
    "else:\n",
    "    raise AssertionError(\"Sample size has to be > 1\")\n",
    "   "
   ]
  },
  {
   "cell_type": "markdown",
   "metadata": {},
   "source": [
    "Given a 2D matrix, your method, `std1dnp`, should return the std for each column.\n",
    "\n",
    "You _might_ have to update your code for this work. \n",
    "\n",
    "Expected output:\n",
    "```` python\n",
    "std1dnp(np.array([[1, 2, 3, 4], [0, 0, 0, 0]])) \n",
    "                         = [ 0.26726124,  0.53452248,  0.80178373,  1.06904497]\n",
    "\n",
    "````"
   ]
  },
  {
   "cell_type": "code",
   "execution_count": null,
   "metadata": {},
   "outputs": [],
   "source": [
    "#work / debug area\n",
    "a2 = np.array([[1, 2, 3, 4], [0, 0, 0, 0]])\n",
    "print(std1dnp(a2))\n",
    "\n",
    "a = np.array([[1, 2], [3, 4]])\n",
    "print(std1dnp(a))\n"
   ]
  },
  {
   "cell_type": "code",
   "execution_count": null,
   "metadata": {
    "code_folding": [],
    "deletable": false,
    "editable": false,
    "nbgrader": {
     "checksum": "56eddc81870a211a7dd308c53349b5ca",
     "grade": true,
     "grade_id": "std1dnp-test1",
     "locked": true,
     "points": 10,
     "schema_version": 1,
     "solution": false
    }
   },
   "outputs": [],
   "source": [
    "\"\"\"Check that method returns the correct output for several inputs\n",
    "ME: Updated size. \n",
    "\"\"\"\n",
    "\n",
    "#assert \n",
    "np.testing.assert_allclose(std1dnp(np.array([[1, 2, 3, 4], [0, 0, 0, 0]])), \n",
    "                             np.array([ 0.70710678,  1.41421356,  2.12132034,  2.82842712]))\n",
    "\n",
    "np.testing.assert_allclose(std1dnp(np.array([[1, 2, 3, 4], [1, 2, 3, 4]])), \n",
    "                              np.array([ 0.,  0.,  0.,  0.]))\n",
    " \n",
    "answer= np.array([[ 77.78174593,  77.78174593,  77.78174593,  77.78174593,\n",
    "         77.78174593,  77.78174593,  77.78174593,  77.78174593,\n",
    "         77.78174593]])   \n",
    "np.testing.assert_allclose(std1dnp(np.array([[np.arange(1,10)],[np.arange(111, 120)]])), \n",
    "                              answer)\n",
    "\n",
    "rng = np.random.RandomState(42)\n",
    "np.testing.assert_allclose(std1dnp(rng.randint(11, size=(2, 4))), \n",
    "                              np.array([ 1.41421356,  2.12132034,  0.70710678,  3.53553391]))\n",
    "\n",
    "rng = np.random.RandomState(42)\n",
    "np.testing.assert_allclose(std1dnp(rng.randint(11, size=(8, 4))), \n",
    "                              np.array([ 2.72226271,  2.92464894,  3.38061702,  2.92464894]))"
   ]
  },
  {
   "cell_type": "markdown",
   "metadata": {},
   "source": [
    "Note that, if you pass the 2D array tests, it means that your code should be working for even higher dimensions!\n",
    "\n",
    "We have implemented std using one of the slowest algorithms. \n",
    "\n",
    "Let's compare the difference in performance using Python's lists with for loops vs. NumPy arrays. "
   ]
  },
  {
   "cell_type": "code",
   "execution_count": null,
   "metadata": {},
   "outputs": [],
   "source": [
    "#Fun: Time your functions!\n",
    "\n",
    "#generate a random array and its equivalent list\n",
    "n=10**7\n",
    "a1np = np.random.randint(0,100,n)\n",
    "a1list = a1np.tolist()\n",
    "len(a1np)\n",
    "\n",
    "print(\"Std implementation using lists:\")\n",
    "%time print(std1dfor(a1list)) #Wall time: 2.4 s\n",
    "\n",
    "print(\"Std implementation using NumPy:\")\n",
    "%time print(std1dnp(a1np)) #Wall time: 1.3 s\n",
    "\n",
    "print(\"NumPy's built-in std algorithm:\")\n",
    "%time print(a1np.std()) #Wall time: 0.1 s"
   ]
  },
  {
   "cell_type": "markdown",
   "metadata": {},
   "source": [
    "If all is well, all implementations should return the same answer.\n",
    "\n",
    "But our NumPy implementation should be about twice as fast as our `for` loop one. \n"
   ]
  },
  {
   "cell_type": "markdown",
   "metadata": {},
   "source": [
    "# NumPy Exercises\n",
    "\n",
    "## for better or `(for)` worse\n",
    "\n",
    "Below are quick exercises to familiarize you with NumPy's capabilities. \n",
    "\n",
    "No `for` loops allowed in these exercises. "
   ]
  },
  {
   "cell_type": "markdown",
   "metadata": {},
   "source": [
    "## Problem 9 (7 points)\n",
    "\n",
    "Given a 1-d array and two digits: $i$ and $j$, set all values between $i$ and $j$ to 0, in place.\n",
    "\n",
    "Use NumPy indexing to solve this problem. \n",
    "No `for` loops, please.\n",
    "\n",
    "Have fun with it! \n",
    "You can solve this in one line.\n"
   ]
  },
  {
   "cell_type": "code",
   "execution_count": null,
   "metadata": {
    "deletable": false,
    "nbgrader": {
     "checksum": "3354adfd1cf1a1c00f49ca91bebdd9e2",
     "grade": false,
     "grade_id": "np5-fn",
     "locked": false,
     "schema_version": 1,
     "solution": true
    }
   },
   "outputs": [],
   "source": [
    "def np5(a, i, j):\n",
    "    # YOUR CODE HERE\n",
    "    raise NotImplementedError()"
   ]
  },
  {
   "cell_type": "markdown",
   "metadata": {},
   "source": [
    "Expected output:\n",
    "```` python \n",
    "np5( np.arange(11), 3, 8)\n",
    "    ([ 0,  1,  2,  3,  0,  0,  0,  0,  0,  9, 10])\n",
    "````\n",
    "\n",
    "Use the cell below to test your function."
   ]
  },
  {
   "cell_type": "code",
   "execution_count": null,
   "metadata": {},
   "outputs": [],
   "source": [
    "np5( np.arange(1,5), 2, 4)"
   ]
  },
  {
   "cell_type": "code",
   "execution_count": null,
   "metadata": {
    "code_folding": [
     12
    ],
    "deletable": false,
    "editable": false,
    "nbgrader": {
     "checksum": "ddaac0e4dc6df9c0f031c9fe7a224cb0",
     "grade": true,
     "grade_id": "np5-test1",
     "locked": true,
     "points": 7,
     "schema_version": 1,
     "solution": false
    }
   },
   "outputs": [],
   "source": [
    "\"\"\"Check that method returns the correct output for several inputs\"\"\"\n",
    "#assert \n",
    "np.testing.assert_allclose( np5( np.arange(1,5), 2, 4), \n",
    "                           np.array([ 1,  2, 0,  0]))\n",
    "\n",
    "np.testing.assert_allclose(np5( np.arange(11), 3, 8), \n",
    "                           np.array([ 0,  1,  2,  3,  0,  0,  0,  0,  0,  9, 10]))\n",
    "\n",
    "np.testing.assert_allclose(np5( np.arange(43,55), 12, 34),\n",
    "                           np.array([43, 44, 45, 46, 47, 48, 49, 50, 51, 52, 53, 54]))\n",
    "\n",
    "np.testing.assert_allclose(np5( np.arange(43,55), 43, 43),\n",
    "                           np.array([43, 44, 45, 46, 47, 48, 49, 50, 51, 52, 53, 54]))\n",
    "\n",
    "np.testing.assert_allclose(np5( np.arange(43,55), 43, 44),\n",
    "                           np.array([43, 0, 45, 46, 47, 48, 49, 50, 51, 52, 53, 54]))\n",
    " "
   ]
  },
  {
   "cell_type": "markdown",
   "metadata": {},
   "source": [
    "## Problem 10 (7 points)\n",
    "\n",
    "Given a 2-d array swap rows r and r+1, in place.\n",
    "\n",
    "Use NumPy indexing to solve this problem. \n",
    "No `for` loops, please.\n",
    "\n",
    "Have fun with it! \n",
    "You can solve this in one line.\n"
   ]
  },
  {
   "cell_type": "code",
   "execution_count": null,
   "metadata": {
    "deletable": false,
    "nbgrader": {
     "checksum": "4ecb3dcbf7ec51baf2f746e666b02be0",
     "grade": false,
     "grade_id": "np6-fn",
     "locked": false,
     "schema_version": 1,
     "solution": true
    }
   },
   "outputs": [],
   "source": [
    "def np6(a, r):\n",
    "    # YOUR CODE HERE\n",
    "    raise NotImplementedError()"
   ]
  },
  {
   "cell_type": "markdown",
   "metadata": {},
   "source": [
    "Expected output:\n",
    "```` python \n",
    "np6( np.arange(9).reshape(3,3), 1) =\n",
    "    array([[0, 1, 2],\n",
    "       [6, 7, 8],\n",
    "       [3, 4, 5]])\n",
    "````\n",
    "\n",
    "Use the cell below to test your function."
   ]
  },
  {
   "cell_type": "code",
   "execution_count": null,
   "metadata": {},
   "outputs": [],
   "source": [
    "np6( np.arange(6).reshape(3,2), 1)"
   ]
  },
  {
   "cell_type": "code",
   "execution_count": null,
   "metadata": {
    "code_folding": [
     12
    ],
    "deletable": false,
    "editable": false,
    "nbgrader": {
     "checksum": "5ad04a6b31ee969e2ebb7a44fdf4fcb3",
     "grade": true,
     "grade_id": "np6-test1",
     "locked": true,
     "points": 7,
     "schema_version": 1,
     "solution": false
    }
   },
   "outputs": [],
   "source": [
    "\"\"\"Check that method returns the correct output for several inputs\"\"\"\n",
    "#assert \n",
    "np.testing.assert_allclose( np6( np.arange(9).reshape(3,3), 1), \n",
    "                           np.array([[0, 1, 2],\n",
    "       [6, 7, 8],\n",
    "       [3, 4, 5]]))\n",
    "\n",
    "np.testing.assert_allclose( np6( np.arange(10).reshape(5,2), 3), \n",
    "                           np.array([[0, 1],\n",
    "       [2, 3],\n",
    "       [4, 5],\n",
    "       [8, 9],\n",
    "       [6, 7]]))\n",
    " \n",
    "np.testing.assert_allclose( np6( np.arange(12).reshape(4,3), 0), \n",
    "                           np.array([[ 3,  4,  5],\n",
    "       [ 0,  1,  2],\n",
    "       [ 6,  7,  8],\n",
    "       [ 9, 10, 11]]))\n",
    "                           "
   ]
  },
  {
   "cell_type": "markdown",
   "metadata": {},
   "source": [
    "## Problem 12 (5 points)\n",
    "\n",
    "Given an integer, $m$, create an array containing $m$ evenly-spaced values between -5 and 5.\n",
    "\n",
    "No `for` loops, please.\n",
    "\n",
    "You can solve this in one line.<br>\n",
    "Hint: See __[Array creation routines](https://docs.scipy.org/doc/numpy-1.14.0/reference/routines.array-creation.html)__\n"
   ]
  },
  {
   "cell_type": "code",
   "execution_count": null,
   "metadata": {
    "deletable": false,
    "nbgrader": {
     "checksum": "e0ed66e6eb482471bc44fb5bf56cee67",
     "grade": false,
     "grade_id": "np8-fn",
     "locked": false,
     "schema_version": 1,
     "solution": true
    }
   },
   "outputs": [],
   "source": [
    "def np8(m):\n",
    "    # YOUR CODE HERE\n",
    "    raise NotImplementedError()"
   ]
  },
  {
   "cell_type": "markdown",
   "metadata": {},
   "source": [
    "Expected output:\n",
    "```` python \n",
    "np8(5) yields ([-5. , -2.5,  0. ,  2.5,  5. ])\n",
    "````\n",
    "\n",
    "Use the cell below to test your function."
   ]
  },
  {
   "cell_type": "code",
   "execution_count": null,
   "metadata": {},
   "outputs": [],
   "source": [
    "np8(5)\n",
    "\n"
   ]
  },
  {
   "cell_type": "code",
   "execution_count": null,
   "metadata": {
    "code_folding": [
     12
    ],
    "deletable": false,
    "editable": false,
    "nbgrader": {
     "checksum": "fd9a1f9053963b64bf85f04d210e8b32",
     "grade": true,
     "grade_id": "np8-test1",
     "locked": true,
     "points": 5,
     "schema_version": 1,
     "solution": false
    }
   },
   "outputs": [],
   "source": [
    "\"\"\"Check that method returns the correct output for several inputs\"\"\"\n",
    "#assert \n",
    "np.testing.assert_allclose( np8(5), \n",
    "                           np.array(([-5. , -2.5,  0. ,  2.5,  5. ])))\n",
    "\n",
    "np.testing.assert_allclose( np8(9), \n",
    "                           np.array([-5.  , -3.75, -2.5 , -1.25,  0.  ,  1.25,  2.5 ,  3.75,  5.  ]))\n",
    "\n",
    "np.testing.assert_allclose( np8(2), \n",
    "                           np.array([-5.,  5.]))\n",
    "                           \n",
    "np.testing.assert_allclose( np8(6), \n",
    "                           np.array([-5., -3., -1.,  1.,  3.,  5.]))\n"
   ]
  },
  {
   "cell_type": "markdown",
   "metadata": {},
   "source": [
    "# Final bit\n",
    "\n",
    "Let's do another quick compare. "
   ]
  },
  {
   "cell_type": "markdown",
   "metadata": {},
   "source": [
    "## Problem 13 (20 points)\n",
    "\n",
    "Many AI algorithms rely on repeatedly calculating the distance between two points. \n",
    "\n",
    "For instance, if we want to classify photos together, we would want the items in the same class to have a smaller distance between them. \n",
    "\n",
    "One of the most common distance tool for the job is the Euclidean Distance. It can apply to $n$ dimensional spaces and is fast to calculate. \n",
    "\n",
    "More more info, see the __[Wiki article](https://en.wikipedia.org/wiki/Euclidean_distance)__\n",
    "\n",
    "Below is the relevant equation that calculate the distance between two $n$-dimensional points: $\\mathbf{p},\\mathbf{q}$.\n",
    "\n",
    "$$ \n",
    "\\begin{align} \n",
    "d(\\mathbf{p},\\mathbf{q}) = d(\\mathbf{q},\\mathbf{p}) & = \\sqrt{(q_1-p_1)^2 + (q_2-p_2)^2 + \\cdots + (q_n-p_n)^2} \\\\\n",
    "& = \\sqrt{\\sum_{i=1}^n (q_i-p_i)^2}.\n",
    "\\end{align}\n",
    "$$\n",
    "\n",
    "Use a `for` loop on NumPy arays for the following function."
   ]
  },
  {
   "cell_type": "code",
   "execution_count": null,
   "metadata": {
    "deletable": false,
    "nbgrader": {
     "checksum": "76d94eac6bfd1beccd3b751edc0d95e3",
     "grade": false,
     "grade_id": "edfor-fn",
     "locked": false,
     "schema_version": 1,
     "solution": true
    }
   },
   "outputs": [],
   "source": [
    "def edfor(p, q):\n",
    "    ''' \n",
    "    Implement Euclidean Distance using a for loop\n",
    "    Expects 2 np.arrays as input\n",
    "    Returns their distance\n",
    "    '''\n",
    "    # YOUR CODE HERE\n",
    "    raise NotImplementedError()"
   ]
  },
  {
   "cell_type": "markdown",
   "metadata": {},
   "source": [
    "Expected output:\n",
    "```` python \n",
    "edfor([3,4], [0,0]) yields 5.\n",
    "````\n",
    "\n",
    "Use the cell below to test your function."
   ]
  },
  {
   "cell_type": "code",
   "execution_count": null,
   "metadata": {},
   "outputs": [],
   "source": [
    "p=np.array([3,4])\n",
    "q=np.array([0,0])\n",
    "edfor(p,q)\n"
   ]
  },
  {
   "cell_type": "code",
   "execution_count": null,
   "metadata": {
    "code_folding": [
     12
    ],
    "deletable": false,
    "editable": false,
    "nbgrader": {
     "checksum": "772261a00e1830c38b13e47ec9cd390d",
     "grade": true,
     "grade_id": "edfor-test1",
     "locked": true,
     "points": 8,
     "schema_version": 1,
     "solution": false
    }
   },
   "outputs": [],
   "source": [
    "\"\"\"Check that method returns the correct output for several inputs\"\"\"\n",
    "#assert \n",
    "p=np.array([3]); q=np.array([0]); ed=3.0\n",
    "np.testing.assert_allclose( edfor(p,q), ed)\n",
    "\n",
    "p=np.array([3,4]); q=np.array([0,0]); ed=5.0\n",
    "np.testing.assert_allclose( edfor(p,q), ed)\n",
    "\n",
    "p=np.array([3,4,5]); q=np.array([0,0, 0]); ed=7.0710678118654755\n",
    "np.testing.assert_allclose( edfor(p,q), ed)\n",
    "\n",
    "p=np.array([3,4,5]); q=np.array([1,1,1]); ed=5.3851648071345037\n",
    "np.testing.assert_allclose( edfor(p,q), ed)\n",
    "\n",
    "p=np.array([3,4,5]); q=np.array([12,9,6]); ed=10.344080432788601\n",
    "np.testing.assert_allclose( edfor(p,q), ed)\n"
   ]
  },
  {
   "cell_type": "markdown",
   "metadata": {},
   "source": [
    "### (cont.)\n",
    "\n",
    "Modify your algorithm to use vectorization. Implement:\n",
    "\n",
    "$$ \n",
    "d(\\mathbf{p},\\mathbf{q}) = \\sqrt{\\sum_{i=1}^n (q_i-p_i)^2}.\n",
    "$$\n",
    "\n",
    "No `for` loops.\n",
    "\n",
    "Your code can be a single line. "
   ]
  },
  {
   "cell_type": "code",
   "execution_count": null,
   "metadata": {
    "deletable": false,
    "nbgrader": {
     "checksum": "06da56a3a676df3901c33589f6aa7c46",
     "grade": false,
     "grade_id": "ednp1-fn",
     "locked": false,
     "schema_version": 1,
     "solution": true
    }
   },
   "outputs": [],
   "source": [
    "def ednp1(p, q):\n",
    "    ''' \n",
    "    Implement Euclidean Distance using a for loop\n",
    "    Expects 2 np.arrays as input\n",
    "    Returns their distance\n",
    "    '''\n",
    "    # YOUR CODE HERE\n",
    "    raise NotImplementedError()"
   ]
  },
  {
   "cell_type": "markdown",
   "metadata": {},
   "source": [
    "Expected output:\n",
    "```` python \n",
    "ednp1([3,4], [0,0]) yields 5.\n",
    "````\n",
    "\n",
    "Use the cell below to test your function."
   ]
  },
  {
   "cell_type": "code",
   "execution_count": null,
   "metadata": {},
   "outputs": [],
   "source": [
    "p=np.array([3,4])\n",
    "q=np.array([0,0])\n",
    "ednp1(p,q)\n"
   ]
  },
  {
   "cell_type": "code",
   "execution_count": null,
   "metadata": {
    "code_folding": [
     12
    ],
    "deletable": false,
    "editable": false,
    "nbgrader": {
     "checksum": "87518a561b808fe6867c501585bb22fd",
     "grade": true,
     "grade_id": "ednp1-test1",
     "locked": true,
     "points": 12,
     "schema_version": 1,
     "solution": false
    }
   },
   "outputs": [],
   "source": [
    "\"\"\"Check that method returns the correct output for several inputs\"\"\"\n",
    "#assert \n",
    "p=np.array([3]); q=np.array([0]); ed=3.0\n",
    "np.testing.assert_allclose( ednp1(p,q), ed)\n",
    "\n",
    "p=np.array([3,4]); q=np.array([0,0]); ed=5.0\n",
    "np.testing.assert_allclose( ednp1(p,q), ed)\n",
    "\n",
    "p=np.array([3,4,5]); q=np.array([0,0, 0]); ed=7.0710678118654755\n",
    "np.testing.assert_allclose( ednp1(p,q), ed)\n",
    "\n",
    "p=np.array([3,4,5]); q=np.array([1,1,1]); ed=5.3851648071345037\n",
    "np.testing.assert_allclose( ednp1(p,q), ed)\n",
    "\n",
    "p=np.array([3,4,5]); q=np.array([12,9,6]); ed=10.344080432788601\n",
    "np.testing.assert_allclose( ednp1(p,q), ed)\n"
   ]
  },
  {
   "cell_type": "markdown",
   "metadata": {},
   "source": [
    "### (cont.)\n",
    "\n",
    "Let's test the speed difference in these one-dimensional arrays.\n",
    "\n",
    "We are comparing the performance of 2 1-d NumPy arrays: running `for` loop vs. vectorized code. "
   ]
  },
  {
   "cell_type": "code",
   "execution_count": null,
   "metadata": {},
   "outputs": [],
   "source": [
    "#generate two random arrays\n",
    "n=10**7\n",
    "p = np.random.randint(0,100,n)\n",
    "q = np.random.randint(0,100,n)\n",
    "\n",
    "from scipy.spatial import distance\n",
    "\n",
    "print(\"NumPy implementation using for loop:\")\n",
    "%time print(edfor(p,q)) #Wall time: 11.4 s\n",
    "\n",
    "print(\"NumPy implementation using vectorization:\")\n",
    "%time print(ednp1(p,q)) #Wall time: 0.2 s\n",
    "\n",
    "print(\"SciPy's built-in method:\")\n",
    "%time print(distance.euclidean(p,q)) #Wall time: 0.2 s"
   ]
  },
  {
   "cell_type": "markdown",
   "metadata": {},
   "source": [
    "Our vectorized code could be about 50 times faster than the `for` loop implementation: 11/0.2 sec\n",
    "\n",
    "Note that your times might be different, but the ratio should be similar.\n",
    "\n",
    "Also, our vectorized code should be as fast, if not faster than SciPy's built-in Euclidean Distance method."
   ]
  },
  {
   "cell_type": "code",
   "execution_count": null,
   "metadata": {},
   "outputs": [],
   "source": [
    "11/0.2"
   ]
  }
 ],
 "metadata": {
  "kernelspec": {
   "display_name": "Python 3",
   "language": "python",
   "name": "python3"
  },
  "language_info": {
   "codemirror_mode": {
    "name": "ipython",
    "version": 3
   },
   "file_extension": ".py",
   "mimetype": "text/x-python",
   "name": "python",
   "nbconvert_exporter": "python",
   "pygments_lexer": "ipython3",
   "version": "3.6.7"
  }
 },
 "nbformat": 4,
 "nbformat_minor": 2
}
