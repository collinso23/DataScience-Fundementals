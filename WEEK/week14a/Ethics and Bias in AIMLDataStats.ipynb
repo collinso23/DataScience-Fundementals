{
 "cells": [
  {
   "cell_type": "markdown",
   "metadata": {},
   "source": [
    "Before you turn this problem in, make sure everything runs as expected. First, **restart the kernel** (in the menubar, select Kernel$\\rightarrow$Restart) and then **run all cells** (in the menubar, select Cell$\\rightarrow$Run All).\n",
    "\n",
    "Make sure you fill in any place that says `YOUR CODE HERE` or \"YOUR ANSWER HERE\", as well as your name and collaborators below:"
   ]
  },
  {
   "cell_type": "code",
   "execution_count": null,
   "metadata": {},
   "outputs": [],
   "source": [
    "NAME = \"\"\n",
    "COLLABORATORS = \"\""
   ]
  },
  {
   "cell_type": "markdown",
   "metadata": {},
   "source": [
    "---"
   ]
  },
  {
   "cell_type": "markdown",
   "metadata": {
    "slideshow": {
     "slide_type": "slide"
    }
   },
   "source": [
    "# Ethics / Bias in ML\n"
   ]
  },
  {
   "cell_type": "code",
   "execution_count": null,
   "metadata": {
    "slideshow": {
     "slide_type": "slide"
    }
   },
   "outputs": [],
   "source": [
    "from IPython.display import Image\n",
    "from IPython.core.display import HTML \n",
    "Image(\"/home/memo/public/ml_learns.jpg\")"
   ]
  },
  {
   "cell_type": "markdown",
   "metadata": {
    "slideshow": {
     "slide_type": "slide"
    }
   },
   "source": [
    "## Lesson Objective\n",
    "\n",
    "Touretzky et al. (2019) state in [Envisioning AI for K-12: What should every child know about AI?](https://github.com/touretzkyds/ai4k12/raw/master/documents/AAAI_Blue_Sky_2019.pdf) :\n",
    "\n",
    "### Big Idea #5 - AI applications can impact society in both positive and negative ways"
   ]
  },
  {
   "cell_type": "markdown",
   "metadata": {
    "slideshow": {
     "slide_type": "slide"
    }
   },
   "source": [
    "#### Big Idea #5\n",
    "In the near future many people will work alongside intelligent assistants or autonomous robots, but in the long term, the automation of many jobs may lead to massive unemployment or a shift in the kinds of work people pursue. \n",
    "\n",
    "Technologies that allow intelligent agents to better understand humans could give us the robotic servants we’ve long been dreaming of, or home health aides for the elderly, but they could also enable massive government surveillance and complete loss of privacy.\n",
    "\n",
    "Students should understand that the ethical construction of AI systems that make decisions affecting people’s lives requires attention to the issues of transparency and fairness."
   ]
  },
  {
   "cell_type": "markdown",
   "metadata": {
    "slideshow": {
     "slide_type": "slide"
    }
   },
   "source": [
    "Bias predates AI:\n",
    "    \n",
    "- Banks determining if/how much to lend\n",
    "- Judge determining if defendant be released on bond or detained"
   ]
  },
  {
   "cell_type": "markdown",
   "metadata": {
    "slideshow": {
     "slide_type": "slide"
    }
   },
   "source": [
    "## NIPS 2017 \n",
    "\n",
    "Kate Crawford, [“The Trouble with Bias” min14](https://youtu.be/fMym_BKWQzk?t=840), NIPS conference keynote, December 2017\n",
    "\n",
    "Another section: [“The Trouble with Bias” min32](https://youtu.be/fMym_BKWQzk?t=2003)"
   ]
  },
  {
   "cell_type": "markdown",
   "metadata": {
    "slideshow": {
     "slide_type": "slide"
    }
   },
   "source": [
    "### Response\n",
    "\n",
    "Write a bullet points in reflection to the topics brought in the video. \n",
    "\n",
    "Any issues that you found particularly striking? What draw a strong emotional response from you? \n",
    "\n",
    "[Share your views online](https://PollEv.com/memoerg089)\n",
    "or via text MEMOERG089 to 37607 to join"
   ]
  },
  {
   "cell_type": "markdown",
   "metadata": {
    "slideshow": {
     "slide_type": "slide"
    }
   },
   "source": [
    "## Discussion\n",
    "\n",
    "[Forbes article](https://www.forbes.com/sites/kashmirhill/2012/02/16/how-target-figured-out-a-teen-girl-was-pregnant-before-her-father-did/#4b8403736668)\n",
    " "
   ]
  },
  {
   "cell_type": "markdown",
   "metadata": {
    "slideshow": {
     "slide_type": "subslide"
    }
   },
   "source": [
    "[Hill](https://www.forbes.com/sites/kashmirhill/2012/02/16/how-target-figured-out-a-teen-girl-was-pregnant-before-her-father-did/#4b8403736668) (2012) writes:\n",
    "\n",
    "Target started sending coupons for baby items to customers according to their pregnancy scores. Duhigg shares an anecdote -- so good that it sounds made up -- that conveys how eerily accurate the targeting is. An angry man went into a Target outside of Minneapolis, demanding to talk to a manager:\n",
    "\n",
    "Target knows before it shows.\n",
    "\n",
    "“My daughter got this in the mail!” he said. “She’s still in high school, and you’re sending her coupons for baby clothes and cribs? Are you trying to encourage her to get pregnant?”\n",
    "The manager didn’t have any idea what the man was talking about. He looked at the mailer. Sure enough, it was addressed to the man’s daughter and contained advertisements for maternity clothing, nursery furniture and pictures of smiling infants. The manager apologized and then called a few days later to apologize again.\n",
    "(Nice customer service, Target.)\n",
    "On the phone, though, the father was somewhat abashed. “I had a talk with my daughter,” he said. “It turns out there’s been some activities in my house I haven’t been completely aware of. She’s due in August. I owe you an apology.”\n"
   ]
  },
  {
   "cell_type": "markdown",
   "metadata": {
    "slideshow": {
     "slide_type": "subslide"
    }
   },
   "source": [
    "Target can predict if a shopper is pregnant before some family members can figure it out. So even though the company has good intentions, results are unsettling for many. \n",
    "\n",
    "Is this a valid move by Target? \n",
    "How far can this be taken: If someone pays cash for bleach at a store, and that paying cash for bleach is a precursor for a criminal activity, should the police be alerted?\n",
    "\n",
    "What is the soical and ethical responsability of data scientists/statisticians/the machine learning engineers?\n"
   ]
  },
  {
   "cell_type": "markdown",
   "metadata": {
    "slideshow": {
     "slide_type": "slide"
    }
   },
   "source": [
    "Another example: Risk assessment in criminal justice <br>\n",
    "J. Angwin et. al (2012) [Machine Bias](https://www.propublica.org/article/machine-bias-risk-assessments-in-criminal-sentencing)\n",
    "\n",
    "Good overview <br>\n",
    "S. Corbett-Davies, S. Goel (2018) [The Measure and Mismeasure of Fairness: A Critical Review of Fair Machine Learning](https://footprints.stanford.edu/papers/fair-ml.pdf)"
   ]
  },
  {
   "cell_type": "markdown",
   "metadata": {
    "slideshow": {
     "slide_type": "slide"
    }
   },
   "source": [
    "## Proposals\n",
    "\n",
    "M. Mitchell et al. [Model Cards for Model Reporting](https://arxiv.org/pdf/1810.03993.pdf)\n",
    "\n",
    "M. Zook, S. Barocas, d. boyd, K. Crawford, E. Keller, S.P. Gangadharan, et al. (2017) [\"Ten simple rules for responsible big data research.\"](https://www.ncbi.nlm.nih.gov/pmc/articles/PMC5373508/pdf/pcbi.1005399.pdf)\n"
   ]
  },
  {
   "cell_type": "markdown",
   "metadata": {
    "slideshow": {
     "slide_type": "slide"
    }
   },
   "source": [
    "## Other topics: Data\n",
    "\n",
    "OkCupid’s data on compatibility by horoscope, religion, race, etc.\n",
    "\n",
    "Christian (2009, archieve from April 2010) [How Races and Religions Match in Online Dating](https://web.archive.org/web/20100405113914/http://blog.okcupid.com:80/index.php/2009/09/29/how-races-and-religions-match-in-online-dating/)\n",
    "\n",
    "Do you believe in horoscope? "
   ]
  },
  {
   "cell_type": "markdown",
   "metadata": {
    "slideshow": {
     "slide_type": "slide"
    }
   },
   "source": [
    "Torrey et al. (1997) [Seasonality of births in schizophrenia and bipolar disorder: a review of the literature](https://www.sciencedirect.com/science/article/pii/S0920996497000923):\n",
    "\n",
    "... This seasonal birth excess is also found in schizoaffective disorder (December–March), major depression (March–May), and autism (March)\n",
    "\n",
    "[schizophrenia birth dates](https://ars.els-cdn.com/content/image/1-s2.0-S0920996497000923-gr1.gif)\n",
    "\n",
    "NCAA (2013) [The birthday effect in college athletics](http://www.ncaa.org/about/resources/research/birthday-effect-college-athletics)"
   ]
  },
  {
   "cell_type": "code",
   "execution_count": null,
   "metadata": {},
   "outputs": [],
   "source": []
  }
 ],
 "metadata": {
  "kernelspec": {
   "display_name": "Python 3",
   "language": "python",
   "name": "python3"
  },
  "language_info": {
   "codemirror_mode": {
    "name": "ipython",
    "version": 3
   },
   "file_extension": ".py",
   "mimetype": "text/x-python",
   "name": "python",
   "nbconvert_exporter": "python",
   "pygments_lexer": "ipython3",
   "version": "3.6.7"
  }
 },
 "nbformat": 4,
 "nbformat_minor": 2
}
