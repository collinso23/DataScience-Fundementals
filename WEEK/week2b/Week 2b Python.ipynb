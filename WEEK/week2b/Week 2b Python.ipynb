{
 "cells": [
  {
   "cell_type": "markdown",
   "metadata": {},
   "source": [
    "Before you turn this problem in, make sure everything runs as expected. First, **restart the kernel** (in the menubar, select Kernel$\\rightarrow$Restart) and then **run all cells** (in the menubar, select Cell$\\rightarrow$Run All).\n",
    "\n",
    "Make sure you fill in any place that says `YOUR CODE HERE` or \"YOUR ANSWER HERE\", as well as your name and collaborators below:"
   ]
  },
  {
   "cell_type": "code",
   "execution_count": null,
   "metadata": {},
   "outputs": [],
   "source": [
    "NAME = \"Orion\"\n",
    "COLLABORATORS = \"\""
   ]
  },
  {
   "cell_type": "markdown",
   "metadata": {},
   "source": [
    "---"
   ]
  },
  {
   "cell_type": "markdown",
   "metadata": {
    "slideshow": {
     "slide_type": "slide"
    }
   },
   "source": [
    "## Week 2b Python (cont.)\n",
    "\n",
    "Covers intro to Python language. \n",
    "\n",
    "Part 1:\n",
    "- Data types\n",
    "- Variables \n",
    "- Strings\n",
    "    - formatting & print\n",
    "\n",
    "Part 2a:\n",
    "- Conditionals\n",
    "    - While\n",
    "    - For\n",
    "- Sequences\n",
    "    - Lists\n",
    "        - Range()\n",
    "        \n",
    "Part 2b:\n",
    "- Functions"
   ]
  },
  {
   "cell_type": "markdown",
   "metadata": {
    "slideshow": {
     "slide_type": "slide"
    }
   },
   "source": [
    "```\n",
    "Weeks of programming can save you hours of planning.\n",
    "Unknown\n",
    "```"
   ]
  },
  {
   "cell_type": "markdown",
   "metadata": {
    "slideshow": {
     "slide_type": "slide"
    }
   },
   "source": [
    "## Functions\n",
    "\n",
    "### Creating functions\n",
    "\n",
    "- A function is defined using the keyword `def`\n",
    "- Colon `:` marks the end of the function header\n",
    "- Any arugment can be included in the function header in the parentheses\n",
    "- [Optional] Return values from the function body using the keyword `return`"
   ]
  },
  {
   "cell_type": "markdown",
   "metadata": {
    "slideshow": {
     "slide_type": "slide"
    }
   },
   "source": [
    "Example:<br>\n",
    "Are you tired of typing x+=1? <br>\n",
    "Here is an option!\n",
    "```python \n",
    "def increment(x):\n",
    "    return x+1\n",
    "```\n",
    "\n",
    "- Define the function below\n",
    "- try\n",
    "    - increment(3)\n",
    "    - print(increment(3))\n",
    "    - print(increment(x))\n",
    "    - print(increment)\n",
    "    - type(increment)"
   ]
  },
  {
   "cell_type": "code",
   "execution_count": null,
   "metadata": {
    "slideshow": {
     "slide_type": "fragment"
    }
   },
   "outputs": [],
   "source": []
  },
  {
   "cell_type": "markdown",
   "metadata": {
    "slideshow": {
     "slide_type": "slide"
    }
   },
   "source": [
    "### Functions as objects\n",
    "\n",
    "Functions are first-class objects in Python. "
   ]
  },
  {
   "cell_type": "markdown",
   "metadata": {
    "slideshow": {
     "slide_type": "fragment"
    }
   },
   "source": [
    "They can be used as arguments or parameters. "
   ]
  },
  {
   "cell_type": "markdown",
   "metadata": {
    "slideshow": {
     "slide_type": "fragment"
    }
   },
   "source": [
    "Function below will use `f` as a function and `x` and `y` as numbers.\n",
    "```python \n",
    "def incremult(f,x,y):\n",
    "    if y <= x:\n",
    "        return x\n",
    "    else:\n",
    "        while(x < y):\n",
    "            print(x)\n",
    "            x=f(x)\n",
    "        return x\n",
    "```"
   ]
  },
  {
   "cell_type": "markdown",
   "metadata": {
    "slideshow": {
     "slide_type": "slide"
    }
   },
   "source": [
    "Define `incremult` and try calling it with:\n",
    "- incremult(increment, 3, 6)\n",
    "- incremult(increment, 3, 2)\n",
    "- incremult(1, 3, 6)"
   ]
  },
  {
   "cell_type": "code",
   "execution_count": null,
   "metadata": {
    "slideshow": {
     "slide_type": "slide"
    }
   },
   "outputs": [],
   "source": []
  },
  {
   "cell_type": "markdown",
   "metadata": {
    "slideshow": {
     "slide_type": "slide"
    }
   },
   "source": [
    "\n",
    "## Exercise 1\n",
    "\n",
    "Write a function called cumsum that takes a list of numbers and returns the cumulative sum; that is, a new list where the ith element is the sum of the first i+1 elements from the original list. \n",
    "\n",
    "Expected output: \n",
    "```\n",
    "cumsum([1,3,5])\n",
    "[1, 4, 9]\n",
    "```\n"
   ]
  },
  {
   "cell_type": "code",
   "execution_count": 6,
   "metadata": {},
   "outputs": [
    {
     "data": {
      "text/plain": [
       "[1, 4, 9]"
      ]
     },
     "execution_count": 6,
     "metadata": {},
     "output_type": "execute_result"
    }
   ],
   "source": [
    "def cumsum(nums):\n",
    "    sum = 0\n",
    "    list = []\n",
    "    \n",
    "    for n in nums:\n",
    "        sum = sum + n\n",
    "        list.append(sum)\n",
    "    \n",
    "    return list\n",
    "\n",
    "cumsum([1,3,5])"
   ]
  },
  {
   "cell_type": "markdown",
   "metadata": {
    "slideshow": {
     "slide_type": "slide"
    }
   },
   "source": [
    "## Solution"
   ]
  },
  {
   "cell_type": "code",
   "execution_count": null,
   "metadata": {
    "slideshow": {
     "slide_type": "slide"
    }
   },
   "outputs": [],
   "source": [
    "# %load w2b1.py\n"
   ]
  },
  {
   "cell_type": "code",
   "execution_count": null,
   "metadata": {
    "slideshow": {
     "slide_type": "fragment"
    }
   },
   "outputs": [],
   "source": []
  },
  {
   "cell_type": "markdown",
   "metadata": {
    "slideshow": {
     "slide_type": "slide"
    }
   },
   "source": [
    "Everything is passed by _reference_ (as oppose to pass by ?) \n",
    "\n",
    "Thus, if we change a parameter in the function, its value should change. "
   ]
  },
  {
   "cell_type": "markdown",
   "metadata": {
    "slideshow": {
     "slide_type": "slide"
    }
   },
   "source": [
    "## Exercise 2\n",
    "Create a function called `myf1(s0, l0)`, such that: \n",
    "- expects a string (s0) and a list (l0) as arguments\n",
    "- capitializes the string and appends 'apple' to the list\n",
    "- returns nothing"
   ]
  },
  {
   "cell_type": "code",
   "execution_count": null,
   "metadata": {},
   "outputs": [],
   "source": [
    "#Strings are immutable, we can not change strings"
   ]
  },
  {
   "cell_type": "code",
   "execution_count": null,
   "metadata": {},
   "outputs": [],
   "source": []
  },
  {
   "cell_type": "markdown",
   "metadata": {
    "slideshow": {
     "slide_type": "slide"
    }
   },
   "source": [
    "## Solution"
   ]
  },
  {
   "cell_type": "code",
   "execution_count": null,
   "metadata": {
    "slideshow": {
     "slide_type": "slide"
    }
   },
   "outputs": [],
   "source": [
    "# %load w2b2.py\n"
   ]
  },
  {
   "cell_type": "code",
   "execution_count": null,
   "metadata": {
    "slideshow": {
     "slide_type": "slide"
    }
   },
   "outputs": [],
   "source": []
  },
  {
   "cell_type": "code",
   "execution_count": null,
   "metadata": {
    "slideshow": {
     "slide_type": "slide"
    }
   },
   "outputs": [],
   "source": [
    "#Pass by ref example:\n",
    "str0=\"caramba\" \n",
    "list0=[\"grapes\", 34]\n",
    "myf1(str0, list0)\n",
    "print(str0, list0) #nochange, change"
   ]
  },
  {
   "cell_type": "code",
   "execution_count": null,
   "metadata": {
    "slideshow": {
     "slide_type": "-"
    }
   },
   "outputs": [],
   "source": [
    "str.upper?"
   ]
  },
  {
   "cell_type": "markdown",
   "metadata": {
    "slideshow": {
     "slide_type": "fragment"
    }
   },
   "source": [
    "Why didn't the string, `s0`, change its value?"
   ]
  },
  {
   "cell_type": "markdown",
   "metadata": {
    "slideshow": {
     "slide_type": "fragment"
    }
   },
   "source": [
    "Because strings are `<?complete me?>` in Python."
   ]
  },
  {
   "cell_type": "markdown",
   "metadata": {
    "slideshow": {
     "slide_type": "slide"
    }
   },
   "source": [
    "## Function Arguments\n",
    "\n",
    "Common argument types in Python:\n",
    "- Required arguments\n",
    "- Keyword arguments\n",
    "- Default arguments\n",
    "- Variable-length arguments"
   ]
  },
  {
   "cell_type": "markdown",
   "metadata": {
    "slideshow": {
     "slide_type": "slide"
    }
   },
   "source": [
    "### Required Arguments\n",
    "\n",
    "When we called `myf1(s0, l0)`, we had to pass two parameters: s0 and l0. \n",
    "\n",
    "These type of args are *required* by the function"
   ]
  },
  {
   "cell_type": "markdown",
   "metadata": {
    "slideshow": {
     "slide_type": "slide"
    }
   },
   "source": [
    "### Keyword Arguments\n",
    "\n",
    "Use the argument name during a function call. \n",
    "\n",
    "Allows us to go out of order. \n"
   ]
  },
  {
   "cell_type": "code",
   "execution_count": null,
   "metadata": {
    "slideshow": {
     "slide_type": "fragment"
    }
   },
   "outputs": [],
   "source": [
    "def myfunc(x, y, z, d):\n",
    "        #process x,y,z,d\n",
    "        return (x+y)-(z+d)\n",
    "    \n",
    "myfunc(d=10, z=20, y=1, x=2)\n"
   ]
  },
  {
   "cell_type": "code",
   "execution_count": null,
   "metadata": {
    "slideshow": {
     "slide_type": "fragment"
    }
   },
   "outputs": [],
   "source": [
    "# Exercise:\n",
    "#Call myf1(s0, l0) using l0=['pineapples', 42], s0=\"pencil_sharpner\"\n"
   ]
  },
  {
   "cell_type": "code",
   "execution_count": null,
   "metadata": {
    "slideshow": {
     "slide_type": "slide"
    }
   },
   "outputs": [],
   "source": []
  },
  {
   "cell_type": "markdown",
   "metadata": {
    "slideshow": {
     "slide_type": "slide"
    }
   },
   "source": [
    "### Default Arguments\n",
    "\n",
    "Assign a _default_ value to an argument\n",
    "\n",
    "Allows the arguments to be optional\n"
   ]
  },
  {
   "cell_type": "code",
   "execution_count": null,
   "metadata": {
    "slideshow": {
     "slide_type": "slide"
    }
   },
   "outputs": [],
   "source": [
    "# All arguments here default to 10\n",
    "def myfunc(x=10, y=10, z=10, d=10):\n",
    "        #process x,y,z,d\n",
    "        return (x+y)-(z+d)"
   ]
  },
  {
   "cell_type": "code",
   "execution_count": null,
   "metadata": {
    "slideshow": {
     "slide_type": "fragment"
    }
   },
   "outputs": [],
   "source": [
    "a = myfunc(10, 10, 10, 10)\n",
    "aa = myfunc()\n",
    "aaa = myfunc(x=15, d=5)\n",
    "aaaa = myfunc(d=15, x=5)\n",
    "print(a)"
   ]
  },
  {
   "cell_type": "code",
   "execution_count": null,
   "metadata": {
    "slideshow": {
     "slide_type": "slide"
    }
   },
   "outputs": [],
   "source": [
    "# Exercise:\n",
    "#Modify myf1(s0, l0) such that l0 defaults to ['pineapples', 42]"
   ]
  },
  {
   "cell_type": "code",
   "execution_count": null,
   "metadata": {
    "slideshow": {
     "slide_type": "slide"
    }
   },
   "outputs": [],
   "source": []
  },
  {
   "cell_type": "markdown",
   "metadata": {
    "slideshow": {
     "slide_type": "slide"
    }
   },
   "source": [
    "### Variable-length Arguments\n",
    "\n",
    "2 types:\n",
    "- `*args`\n",
    "- `**kwargs`"
   ]
  },
  {
   "cell_type": "markdown",
   "metadata": {
    "slideshow": {
     "slide_type": "slide"
    }
   },
   "source": [
    "#### `*args`\n",
    "- Allow a function to receive _indefinite/any_ number of arguments\n",
    "- These arguments do **not** have a keyword\n",
    "- Syntax is `*`. Generally referred as `*args`\n",
    "- Values are stored in a tuple\n"
   ]
  },
  {
   "cell_type": "code",
   "execution_count": null,
   "metadata": {
    "slideshow": {
     "slide_type": "fragment"
    }
   },
   "outputs": [],
   "source": [
    "#Function to sum all passed variables\n",
    "def myfunc(x, *args):\n",
    "    total = x\n",
    "    for i in args:\n",
    "        total += i\n",
    "    return total\n",
    "    \n",
    "print(myfunc(5))\n",
    "print(myfunc(5, 10))\n",
    "print(myfunc(5, 10, 15, 1, 2, 4))"
   ]
  },
  {
   "cell_type": "code",
   "execution_count": null,
   "metadata": {
    "slideshow": {
     "slide_type": "fragment"
    }
   },
   "outputs": [],
   "source": [
    "# Exercise:\n",
    "#Write a function that takes 1 default arg and unkown amount of other args.\n",
    "#Print all arguments"
   ]
  },
  {
   "cell_type": "code",
   "execution_count": null,
   "metadata": {
    "slideshow": {
     "slide_type": "fragment"
    }
   },
   "outputs": [],
   "source": []
  },
  {
   "cell_type": "markdown",
   "metadata": {
    "slideshow": {
     "slide_type": "slide"
    }
   },
   "source": [
    "#### `**kargs`\n",
    "- Allow a function to receive _indefinite/any_ number of arguments\n",
    "- These arguments **_do have_** a keyword\n",
    "- Syntax is `**`. Generally referred as `**kargs`\n",
    "- Structure is akin to a dictionary\n",
    "- Must follow `*args`, if one is present\n"
   ]
  },
  {
   "cell_type": "code",
   "execution_count": null,
   "metadata": {
    "slideshow": {
     "slide_type": "slide"
    }
   },
   "outputs": [],
   "source": [
    "#Function to sum all passed variables\n",
    "def my_other_func(x, *args, **kargs):\n",
    "    total = x\n",
    "    for i in args:\n",
    "        total += i\n",
    "    for k in kargs:\n",
    "        print(k, \":\", kargs[k])\n",
    "    return total\n",
    "    \n",
    "print(myfunc(5))\n",
    "print(myfunc(5, 10))\n",
    "print(my_other_func(5, 10, 15))\n",
    "print(my_other_func(5, 10, 15, a0=\"bug\"))\n",
    "print(my_other_func(5, 10, 15, a0=\"bug\", a1=\"bunny\"))\n",
    "\n"
   ]
  },
  {
   "cell_type": "markdown",
   "metadata": {
    "slideshow": {
     "slide_type": "slide"
    }
   },
   "source": [
    "### Docstrings\n",
    "\n",
    "Like our [beloved] JavaDocs.\n"
   ]
  },
  {
   "cell_type": "code",
   "execution_count": null,
   "metadata": {
    "slideshow": {
     "slide_type": "fragment"
    }
   },
   "outputs": [],
   "source": [
    "def increment(x):\n",
    "    \"\"\" \n",
    "    Increments x.\n",
    "    Parameters:\n",
    "    x: int or float\n",
    "\n",
    "    Returns: \n",
    "    x+1\n",
    "    \"\"\"\n",
    "    return x+1\n",
    "\n",
    "#print(increment.__doc__)\n",
    "help(increment)\n",
    "incremen?\n",
    "#How do we see the source code?"
   ]
  },
  {
   "cell_type": "code",
   "execution_count": null,
   "metadata": {
    "slideshow": {
     "slide_type": "slide"
    }
   },
   "outputs": [],
   "source": [
    "#Exercise:\n",
    "#Add Docstring to the following function\n",
    "\n",
    "def myfunc(x=10, y=10, z=10, d=10):\n",
    "    return (x+y)-(z+d)\n",
    "    \n",
    "myfunc(x=15, d=5)\n",
    "myfunc\n"
   ]
  },
  {
   "cell_type": "markdown",
   "metadata": {
    "slideshow": {
     "slide_type": "slide"
    }
   },
   "source": [
    "### Other\n",
    "\n",
    "- Recursion\n",
    "- lambda, $\\lambda$, functions"
   ]
  },
  {
   "cell_type": "markdown",
   "metadata": {
    "slideshow": {
     "slide_type": "slide"
    }
   },
   "source": [
    "We have discussed functions in Python. \n",
    "\n",
    "We are now familiar with\n",
    "- function declaration\n",
    "- common argument types in Python:\n",
    "    - Required arguments\n",
    "    - Keyword arguments\n",
    "    - Default arguments\n",
    "    - Variable-length arguments\n",
    "- Docstrings"
   ]
  },
  {
   "cell_type": "markdown",
   "metadata": {
    "slideshow": {
     "slide_type": "fragment"
    }
   },
   "source": [
    "That is the end of our Python review.\n",
    "\n",
    "https://media.giphy.com/media/RBEUIVI6ey5Ta/giphy.gif\n",
    "\n",
    "We are now ready to talk about Data Scency-topics, such arrays and NumPy"
   ]
  },
  {
   "cell_type": "code",
   "execution_count": null,
   "metadata": {},
   "outputs": [],
   "source": []
  }
 ],
 "metadata": {
  "kernelspec": {
   "display_name": "Python 3",
   "language": "python",
   "name": "python3"
  },
  "language_info": {
   "codemirror_mode": {
    "name": "ipython",
    "version": 3
   },
   "file_extension": ".py",
   "mimetype": "text/x-python",
   "name": "python",
   "nbconvert_exporter": "python",
   "pygments_lexer": "ipython3",
   "version": "3.6.7"
  }
 },
 "nbformat": 4,
 "nbformat_minor": 2
}
