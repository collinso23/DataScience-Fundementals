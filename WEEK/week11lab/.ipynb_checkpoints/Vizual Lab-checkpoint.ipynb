{
 "cells": [
  {
   "cell_type": "markdown",
   "metadata": {},
   "source": [
    "Before you turn this problem in, make sure everything runs as expected. First, **restart the kernel** (in the menubar, select Kernel$\\rightarrow$Restart) and then **run all cells** (in the menubar, select Cell$\\rightarrow$Run All).\n",
    "\n",
    "Make sure you fill in any place that says `YOUR CODE HERE` or \"YOUR ANSWER HERE\", as well as your name and collaborators below:"
   ]
  },
  {
   "cell_type": "code",
   "execution_count": null,
   "metadata": {},
   "outputs": [],
   "source": [
    "NAME = \"Orion\"\n",
    "COLLABORATORS = \"\""
   ]
  },
  {
   "cell_type": "markdown",
   "metadata": {},
   "source": [
    "---"
   ]
  },
  {
   "cell_type": "markdown",
   "metadata": {},
   "source": [
    "# Visualization Activity\n",
    "\n"
   ]
  },
  {
   "cell_type": "markdown",
   "metadata": {},
   "source": [
    "See the chart about gun homicide rates at Reuters:\n",
    "\n",
    "[chart](http://graphics.thomsonreuters.com/14/02/US-FLORIDA0214.gif)\n",
    "\n",
    "\n",
    "Do you think Florida's stand your ground law helped reduce gun murders?\n"
   ]
  },
  {
   "cell_type": "code",
   "execution_count": null,
   "metadata": {},
   "outputs": [],
   "source": [
    "#discussion"
   ]
  },
  {
   "cell_type": "markdown",
   "metadata": {},
   "source": [
    "Data source:\n",
    "    \n",
    "http://www.fdle.state.fl.us/FSAC/Crime-Data/Homicide.aspx\n",
    "        \n",
    "Scroll to find: `Murder: Firearm Type and Rate for Florida, 1971 - 2018` excel file.\n",
    "       "
   ]
  },
  {
   "cell_type": "markdown",
   "metadata": {},
   "source": [
    "If you are interested in the story and the law:\n",
    "\n",
    "https://www.businessinsider.com/gun-deaths-in-florida-increased-with-stand-your-ground-2014-2\n",
    "\n",
    "https://en.wikipedia.org/wiki/Stand-your-ground_law"
   ]
  },
  {
   "cell_type": "markdown",
   "metadata": {},
   "source": [
    "## LAB\n",
    "Split to groups. \n",
    "\n",
    "Uplaod the Florida file to Jupyter (you can do so using the GUI)\n",
    "\n",
    "Read the file into a dataframe and clean it up"
   ]
  },
  {
   "cell_type": "code",
   "execution_count": 35,
   "metadata": {},
   "outputs": [
    {
     "data": {
      "text/html": [
       "<div>\n",
       "<style scoped>\n",
       "    .dataframe tbody tr th:only-of-type {\n",
       "        vertical-align: middle;\n",
       "    }\n",
       "\n",
       "    .dataframe tbody tr th {\n",
       "        vertical-align: top;\n",
       "    }\n",
       "\n",
       "    .dataframe thead th {\n",
       "        text-align: right;\n",
       "    }\n",
       "</style>\n",
       "<table border=\"1\" class=\"dataframe\">\n",
       "  <thead>\n",
       "    <tr style=\"text-align: right;\">\n",
       "      <th></th>\n",
       "      <th>Population</th>\n",
       "      <th>Total Murders</th>\n",
       "      <th>Murder Rate per 100,000</th>\n",
       "      <th>Total by Firearm</th>\n",
       "      <th>Total Handgun</th>\n",
       "      <th>Total Other Firearm</th>\n",
       "      <th>Total Percent by Firearms</th>\n",
       "      <th>Percent by Handguns</th>\n",
       "      <th>Percent by Other Firearms</th>\n",
       "      <th>Total by Firearm % change</th>\n",
       "      <th>Population % Change</th>\n",
       "    </tr>\n",
       "    <tr>\n",
       "      <th>Year</th>\n",
       "      <th></th>\n",
       "      <th></th>\n",
       "      <th></th>\n",
       "      <th></th>\n",
       "      <th></th>\n",
       "      <th></th>\n",
       "      <th></th>\n",
       "      <th></th>\n",
       "      <th></th>\n",
       "      <th></th>\n",
       "      <th></th>\n",
       "    </tr>\n",
       "  </thead>\n",
       "  <tbody>\n",
       "    <tr>\n",
       "      <th>2001</th>\n",
       "      <td>16331739</td>\n",
       "      <td>867.0</td>\n",
       "      <td>5.300000</td>\n",
       "      <td>502.0</td>\n",
       "      <td>339.0</td>\n",
       "      <td>163.0</td>\n",
       "      <td>57.900807</td>\n",
       "      <td>39.100346</td>\n",
       "      <td>18.800461</td>\n",
       "      <td>0.601202</td>\n",
       "      <td>2.185914</td>\n",
       "    </tr>\n",
       "    <tr>\n",
       "      <th>2002</th>\n",
       "      <td>16674608</td>\n",
       "      <td>906.0</td>\n",
       "      <td>5.433411</td>\n",
       "      <td>552.0</td>\n",
       "      <td>392.0</td>\n",
       "      <td>160.0</td>\n",
       "      <td>60.927152</td>\n",
       "      <td>43.267108</td>\n",
       "      <td>17.660044</td>\n",
       "      <td>9.960159</td>\n",
       "      <td>2.099403</td>\n",
       "    </tr>\n",
       "    <tr>\n",
       "      <th>2003</th>\n",
       "      <td>17071508</td>\n",
       "      <td>924.0</td>\n",
       "      <td>5.412527</td>\n",
       "      <td>586.0</td>\n",
       "      <td>396.0</td>\n",
       "      <td>190.0</td>\n",
       "      <td>63.419913</td>\n",
       "      <td>42.857143</td>\n",
       "      <td>20.562771</td>\n",
       "      <td>6.159420</td>\n",
       "      <td>2.380266</td>\n",
       "    </tr>\n",
       "    <tr>\n",
       "      <th>2004</th>\n",
       "      <td>17516732</td>\n",
       "      <td>946.0</td>\n",
       "      <td>5.400551</td>\n",
       "      <td>555.0</td>\n",
       "      <td>341.0</td>\n",
       "      <td>214.0</td>\n",
       "      <td>58.668076</td>\n",
       "      <td>36.046512</td>\n",
       "      <td>22.621564</td>\n",
       "      <td>-5.290102</td>\n",
       "      <td>2.607995</td>\n",
       "    </tr>\n",
       "    <tr>\n",
       "      <th>2005</th>\n",
       "      <td>17918227</td>\n",
       "      <td>881.0</td>\n",
       "      <td>4.916781</td>\n",
       "      <td>521.0</td>\n",
       "      <td>321.0</td>\n",
       "      <td>200.0</td>\n",
       "      <td>59.137344</td>\n",
       "      <td>36.435868</td>\n",
       "      <td>22.701476</td>\n",
       "      <td>-6.126126</td>\n",
       "      <td>2.292066</td>\n",
       "    </tr>\n",
       "    <tr>\n",
       "      <th>2006</th>\n",
       "      <td>18349132</td>\n",
       "      <td>1129.0</td>\n",
       "      <td>6.200000</td>\n",
       "      <td>740.0</td>\n",
       "      <td>450.0</td>\n",
       "      <td>290.0</td>\n",
       "      <td>65.544730</td>\n",
       "      <td>39.858282</td>\n",
       "      <td>25.686448</td>\n",
       "      <td>42.034549</td>\n",
       "      <td>2.404842</td>\n",
       "    </tr>\n",
       "    <tr>\n",
       "      <th>2007</th>\n",
       "      <td>18680367</td>\n",
       "      <td>1202.0</td>\n",
       "      <td>6.400000</td>\n",
       "      <td>825.0</td>\n",
       "      <td>506.0</td>\n",
       "      <td>319.0</td>\n",
       "      <td>68.635607</td>\n",
       "      <td>42.096506</td>\n",
       "      <td>26.539101</td>\n",
       "      <td>11.486486</td>\n",
       "      <td>1.805181</td>\n",
       "    </tr>\n",
       "    <tr>\n",
       "      <th>2008</th>\n",
       "      <td>18807219</td>\n",
       "      <td>1168.0</td>\n",
       "      <td>6.210381</td>\n",
       "      <td>780.0</td>\n",
       "      <td>456.0</td>\n",
       "      <td>324.0</td>\n",
       "      <td>66.780822</td>\n",
       "      <td>39.041096</td>\n",
       "      <td>27.739726</td>\n",
       "      <td>-5.454545</td>\n",
       "      <td>0.679066</td>\n",
       "    </tr>\n",
       "    <tr>\n",
       "      <th>2009</th>\n",
       "      <td>18750483</td>\n",
       "      <td>1017.0</td>\n",
       "      <td>5.423860</td>\n",
       "      <td>695.0</td>\n",
       "      <td>412.0</td>\n",
       "      <td>283.0</td>\n",
       "      <td>68.338250</td>\n",
       "      <td>40.511308</td>\n",
       "      <td>27.826942</td>\n",
       "      <td>-10.897436</td>\n",
       "      <td>-0.301671</td>\n",
       "    </tr>\n",
       "    <tr>\n",
       "      <th>2010</th>\n",
       "      <td>18771768</td>\n",
       "      <td>987.0</td>\n",
       "      <td>5.257896</td>\n",
       "      <td>669.0</td>\n",
       "      <td>389.0</td>\n",
       "      <td>280.0</td>\n",
       "      <td>67.781155</td>\n",
       "      <td>39.412361</td>\n",
       "      <td>28.368794</td>\n",
       "      <td>-3.741007</td>\n",
       "      <td>0.113517</td>\n",
       "    </tr>\n",
       "  </tbody>\n",
       "</table>\n",
       "</div>"
      ],
      "text/plain": [
       "      Population  Total Murders  Murder Rate per 100,000  Total by Firearm  \\\n",
       "Year                                                                         \n",
       "2001    16331739          867.0                 5.300000             502.0   \n",
       "2002    16674608          906.0                 5.433411             552.0   \n",
       "2003    17071508          924.0                 5.412527             586.0   \n",
       "2004    17516732          946.0                 5.400551             555.0   \n",
       "2005    17918227          881.0                 4.916781             521.0   \n",
       "2006    18349132         1129.0                 6.200000             740.0   \n",
       "2007    18680367         1202.0                 6.400000             825.0   \n",
       "2008    18807219         1168.0                 6.210381             780.0   \n",
       "2009    18750483         1017.0                 5.423860             695.0   \n",
       "2010    18771768          987.0                 5.257896             669.0   \n",
       "\n",
       "      Total Handgun  Total Other Firearm  Total Percent by Firearms  \\\n",
       "Year                                                                  \n",
       "2001          339.0                163.0                  57.900807   \n",
       "2002          392.0                160.0                  60.927152   \n",
       "2003          396.0                190.0                  63.419913   \n",
       "2004          341.0                214.0                  58.668076   \n",
       "2005          321.0                200.0                  59.137344   \n",
       "2006          450.0                290.0                  65.544730   \n",
       "2007          506.0                319.0                  68.635607   \n",
       "2008          456.0                324.0                  66.780822   \n",
       "2009          412.0                283.0                  68.338250   \n",
       "2010          389.0                280.0                  67.781155   \n",
       "\n",
       "      Percent by Handguns  Percent by Other Firearms  \\\n",
       "Year                                                   \n",
       "2001            39.100346                  18.800461   \n",
       "2002            43.267108                  17.660044   \n",
       "2003            42.857143                  20.562771   \n",
       "2004            36.046512                  22.621564   \n",
       "2005            36.435868                  22.701476   \n",
       "2006            39.858282                  25.686448   \n",
       "2007            42.096506                  26.539101   \n",
       "2008            39.041096                  27.739726   \n",
       "2009            40.511308                  27.826942   \n",
       "2010            39.412361                  28.368794   \n",
       "\n",
       "      Total by Firearm % change  Population % Change  \n",
       "Year                                                  \n",
       "2001                   0.601202             2.185914  \n",
       "2002                   9.960159             2.099403  \n",
       "2003                   6.159420             2.380266  \n",
       "2004                  -5.290102             2.607995  \n",
       "2005                  -6.126126             2.292066  \n",
       "2006                  42.034549             2.404842  \n",
       "2007                  11.486486             1.805181  \n",
       "2008                  -5.454545             0.679066  \n",
       "2009                 -10.897436            -0.301671  \n",
       "2010                  -3.741007             0.113517  "
      ]
     },
     "execution_count": 35,
     "metadata": {},
     "output_type": "execute_result"
    }
   ],
   "source": [
    "## Display the rows  from 2001 to 2010\n",
    "import numpy as np\n",
    "import pandas as pd\n",
    "\n",
    "# removed title line from xlsx\n",
    "# removed NaN first row\n",
    "# re-uploaded\n",
    "\n",
    "data=pd.read_excel(\"murders_FL.xlsx\")\n",
    "data = data.replace(r'^--$', np.nan, regex=True)\n",
    "data = data.set_index('Year')\n",
    "data.index = data.index.map(int)\n",
    "\n",
    "data = data.loc[2001:2010,:]\n",
    "data"
   ]
  },
  {
   "cell_type": "markdown",
   "metadata": {},
   "source": [
    "Which cols are we interested in?\n",
    "\n",
    "See the original chart. Which col gives the data of interest?"
   ]
  },
  {
   "cell_type": "raw",
   "metadata": {},
   "source": [
    "# We are interested in the Total Murders, Total murders by firearms, and the Year."
   ]
  },
  {
   "cell_type": "markdown",
   "metadata": {},
   "source": [
    "Submit your notebook with the plot you have created. \n",
    "\n",
    "Feel free to use Markdown cells to clarify your work."
   ]
  },
  {
   "cell_type": "code",
   "execution_count": 42,
   "metadata": {
    "deletable": false,
    "nbgrader": {
     "checksum": "9410fe6e32096796bc5fc918a833ed92",
     "grade": true,
     "grade_id": "cell-a803d8c1baad72e5",
     "locked": false,
     "points": 0,
     "schema_version": 1,
     "solution": true
    }
   },
   "outputs": [
    {
     "ename": "ValueError",
     "evalue": "need at least one array to concatenate",
     "output_type": "error",
     "traceback": [
      "\u001b[0;31m---------------------------------------------------------------------------\u001b[0m",
      "\u001b[0;31mValueError\u001b[0m                                Traceback (most recent call last)",
      "\u001b[0;32m<ipython-input-42-2d702301811e>\u001b[0m in \u001b[0;36m<module>\u001b[0;34m\u001b[0m\n\u001b[1;32m      2\u001b[0m \u001b[0mgraph\u001b[0m\u001b[0;34m=\u001b[0m\u001b[0mdata\u001b[0m\u001b[0;34m[\u001b[0m\u001b[0;34m[\u001b[0m\u001b[0;34m'Total Murders'\u001b[0m\u001b[0;34m,\u001b[0m\u001b[0;34m'Total by Firearm'\u001b[0m\u001b[0;34m]\u001b[0m\u001b[0;34m]\u001b[0m\u001b[0;34m.\u001b[0m\u001b[0mcopy\u001b[0m\u001b[0;34m(\u001b[0m\u001b[0;34m)\u001b[0m\u001b[0;34m\u001b[0m\u001b[0;34m\u001b[0m\u001b[0m\n\u001b[1;32m      3\u001b[0m \u001b[0;31m#graph\u001b[0m\u001b[0;34m\u001b[0m\u001b[0;34m\u001b[0m\u001b[0;34m\u001b[0m\u001b[0m\n\u001b[0;32m----> 4\u001b[0;31m \u001b[0mplt\u001b[0m\u001b[0;34m.\u001b[0m\u001b[0mstackplot\u001b[0m\u001b[0;34m(\u001b[0m\u001b[0mgraph\u001b[0m\u001b[0;34m)\u001b[0m\u001b[0;34m\u001b[0m\u001b[0;34m\u001b[0m\u001b[0m\n\u001b[0m",
      "\u001b[0;32m/opt/conda/lib/python3.6/site-packages/matplotlib/pyplot.py\u001b[0m in \u001b[0;36mstackplot\u001b[0;34m(x, data, *args, **kwargs)\u001b[0m\n\u001b[1;32m   2911\u001b[0m     return gca().stackplot(\n\u001b[1;32m   2912\u001b[0m         \u001b[0mx\u001b[0m\u001b[0;34m,\u001b[0m \u001b[0;34m*\u001b[0m\u001b[0margs\u001b[0m\u001b[0;34m,\u001b[0m \u001b[0;34m**\u001b[0m\u001b[0;34m(\u001b[0m\u001b[0;34m{\u001b[0m\u001b[0;34m\"data\"\u001b[0m\u001b[0;34m:\u001b[0m \u001b[0mdata\u001b[0m\u001b[0;34m}\u001b[0m \u001b[0;32mif\u001b[0m \u001b[0mdata\u001b[0m \u001b[0;32mis\u001b[0m \u001b[0;32mnot\u001b[0m \u001b[0;32mNone\u001b[0m \u001b[0;32melse\u001b[0m \u001b[0;34m{\u001b[0m\u001b[0;34m}\u001b[0m\u001b[0;34m)\u001b[0m\u001b[0;34m,\u001b[0m\u001b[0;34m\u001b[0m\u001b[0;34m\u001b[0m\u001b[0m\n\u001b[0;32m-> 2913\u001b[0;31m         **kwargs)\n\u001b[0m\u001b[1;32m   2914\u001b[0m \u001b[0;34m\u001b[0m\u001b[0m\n\u001b[1;32m   2915\u001b[0m \u001b[0;34m\u001b[0m\u001b[0m\n",
      "\u001b[0;32m/opt/conda/lib/python3.6/site-packages/matplotlib/__init__.py\u001b[0m in \u001b[0;36minner\u001b[0;34m(ax, data, *args, **kwargs)\u001b[0m\n\u001b[1;32m   1808\u001b[0m                         \u001b[0;34m\"the Matplotlib list!)\"\u001b[0m \u001b[0;34m%\u001b[0m \u001b[0;34m(\u001b[0m\u001b[0mlabel_namer\u001b[0m\u001b[0;34m,\u001b[0m \u001b[0mfunc\u001b[0m\u001b[0;34m.\u001b[0m\u001b[0m__name__\u001b[0m\u001b[0;34m)\u001b[0m\u001b[0;34m,\u001b[0m\u001b[0;34m\u001b[0m\u001b[0;34m\u001b[0m\u001b[0m\n\u001b[1;32m   1809\u001b[0m                         RuntimeWarning, stacklevel=2)\n\u001b[0;32m-> 1810\u001b[0;31m             \u001b[0;32mreturn\u001b[0m \u001b[0mfunc\u001b[0m\u001b[0;34m(\u001b[0m\u001b[0max\u001b[0m\u001b[0;34m,\u001b[0m \u001b[0;34m*\u001b[0m\u001b[0margs\u001b[0m\u001b[0;34m,\u001b[0m \u001b[0;34m**\u001b[0m\u001b[0mkwargs\u001b[0m\u001b[0;34m)\u001b[0m\u001b[0;34m\u001b[0m\u001b[0;34m\u001b[0m\u001b[0m\n\u001b[0m\u001b[1;32m   1811\u001b[0m \u001b[0;34m\u001b[0m\u001b[0m\n\u001b[1;32m   1812\u001b[0m         inner.__doc__ = _add_data_doc(inner.__doc__,\n",
      "\u001b[0;32m/opt/conda/lib/python3.6/site-packages/matplotlib/axes/_axes.py\u001b[0m in \u001b[0;36mstackplot\u001b[0;34m(self, x, *args, **kwargs)\u001b[0m\n\u001b[1;32m   4856\u001b[0m     \u001b[0;34m@\u001b[0m\u001b[0m_preprocess_data\u001b[0m\u001b[0;34m(\u001b[0m\u001b[0mreplace_all_args\u001b[0m\u001b[0;34m=\u001b[0m\u001b[0;32mTrue\u001b[0m\u001b[0;34m,\u001b[0m \u001b[0mlabel_namer\u001b[0m\u001b[0;34m=\u001b[0m\u001b[0;32mNone\u001b[0m\u001b[0;34m)\u001b[0m\u001b[0;34m\u001b[0m\u001b[0;34m\u001b[0m\u001b[0m\n\u001b[1;32m   4857\u001b[0m     \u001b[0;32mdef\u001b[0m \u001b[0mstackplot\u001b[0m\u001b[0;34m(\u001b[0m\u001b[0mself\u001b[0m\u001b[0;34m,\u001b[0m \u001b[0mx\u001b[0m\u001b[0;34m,\u001b[0m \u001b[0;34m*\u001b[0m\u001b[0margs\u001b[0m\u001b[0;34m,\u001b[0m \u001b[0;34m**\u001b[0m\u001b[0mkwargs\u001b[0m\u001b[0;34m)\u001b[0m\u001b[0;34m:\u001b[0m\u001b[0;34m\u001b[0m\u001b[0;34m\u001b[0m\u001b[0m\n\u001b[0;32m-> 4858\u001b[0;31m         \u001b[0;32mreturn\u001b[0m \u001b[0mmstack\u001b[0m\u001b[0;34m.\u001b[0m\u001b[0mstackplot\u001b[0m\u001b[0;34m(\u001b[0m\u001b[0mself\u001b[0m\u001b[0;34m,\u001b[0m \u001b[0mx\u001b[0m\u001b[0;34m,\u001b[0m \u001b[0;34m*\u001b[0m\u001b[0margs\u001b[0m\u001b[0;34m,\u001b[0m \u001b[0;34m**\u001b[0m\u001b[0mkwargs\u001b[0m\u001b[0;34m)\u001b[0m\u001b[0;34m\u001b[0m\u001b[0;34m\u001b[0m\u001b[0m\n\u001b[0m\u001b[1;32m   4859\u001b[0m     \u001b[0mstackplot\u001b[0m\u001b[0;34m.\u001b[0m\u001b[0m__doc__\u001b[0m \u001b[0;34m=\u001b[0m \u001b[0mmstack\u001b[0m\u001b[0;34m.\u001b[0m\u001b[0mstackplot\u001b[0m\u001b[0;34m.\u001b[0m\u001b[0m__doc__\u001b[0m\u001b[0;34m\u001b[0m\u001b[0;34m\u001b[0m\u001b[0m\n\u001b[1;32m   4860\u001b[0m \u001b[0;34m\u001b[0m\u001b[0m\n",
      "\u001b[0;32m/opt/conda/lib/python3.6/site-packages/matplotlib/stackplot.py\u001b[0m in \u001b[0;36mstackplot\u001b[0;34m(axes, x, labels, colors, baseline, *args, **kwargs)\u001b[0m\n\u001b[1;32m     59\u001b[0m     \"\"\"\n\u001b[1;32m     60\u001b[0m \u001b[0;34m\u001b[0m\u001b[0m\n\u001b[0;32m---> 61\u001b[0;31m     \u001b[0my\u001b[0m \u001b[0;34m=\u001b[0m \u001b[0mnp\u001b[0m\u001b[0;34m.\u001b[0m\u001b[0mrow_stack\u001b[0m\u001b[0;34m(\u001b[0m\u001b[0margs\u001b[0m\u001b[0;34m)\u001b[0m\u001b[0;34m\u001b[0m\u001b[0;34m\u001b[0m\u001b[0m\n\u001b[0m\u001b[1;32m     62\u001b[0m \u001b[0;34m\u001b[0m\u001b[0m\n\u001b[1;32m     63\u001b[0m     \u001b[0mlabels\u001b[0m \u001b[0;34m=\u001b[0m \u001b[0miter\u001b[0m\u001b[0;34m(\u001b[0m\u001b[0mlabels\u001b[0m\u001b[0;34m)\u001b[0m\u001b[0;34m\u001b[0m\u001b[0;34m\u001b[0m\u001b[0m\n",
      "\u001b[0;32m/opt/conda/lib/python3.6/site-packages/numpy/core/shape_base.py\u001b[0m in \u001b[0;36mvstack\u001b[0;34m(tup)\u001b[0m\n\u001b[1;32m    232\u001b[0m \u001b[0;34m\u001b[0m\u001b[0m\n\u001b[1;32m    233\u001b[0m     \"\"\"\n\u001b[0;32m--> 234\u001b[0;31m     \u001b[0;32mreturn\u001b[0m \u001b[0m_nx\u001b[0m\u001b[0;34m.\u001b[0m\u001b[0mconcatenate\u001b[0m\u001b[0;34m(\u001b[0m\u001b[0;34m[\u001b[0m\u001b[0matleast_2d\u001b[0m\u001b[0;34m(\u001b[0m\u001b[0m_m\u001b[0m\u001b[0;34m)\u001b[0m \u001b[0;32mfor\u001b[0m \u001b[0m_m\u001b[0m \u001b[0;32min\u001b[0m \u001b[0mtup\u001b[0m\u001b[0;34m]\u001b[0m\u001b[0;34m,\u001b[0m \u001b[0;36m0\u001b[0m\u001b[0;34m)\u001b[0m\u001b[0;34m\u001b[0m\u001b[0;34m\u001b[0m\u001b[0m\n\u001b[0m\u001b[1;32m    235\u001b[0m \u001b[0;34m\u001b[0m\u001b[0m\n\u001b[1;32m    236\u001b[0m \u001b[0;32mdef\u001b[0m \u001b[0mhstack\u001b[0m\u001b[0;34m(\u001b[0m\u001b[0mtup\u001b[0m\u001b[0;34m)\u001b[0m\u001b[0;34m:\u001b[0m\u001b[0;34m\u001b[0m\u001b[0;34m\u001b[0m\u001b[0m\n",
      "\u001b[0;31mValueError\u001b[0m: need at least one array to concatenate"
     ]
    },
    {
     "data": {
      "image/png": "[encoded data removed]",
      "text/plain": [
       "<Figure size 432x288 with 1 Axes>"
      ]
     },
     "metadata": {
      "needs_background": "light"
     },
     "output_type": "display_data"
    }
   ],
   "source": [
    "import matplotlib.pyplot as plt\n",
    "graph=data[['Total Murders','Total by Firearm']].copy()\n",
    "x = data['Years']\n",
    "plt.stackplot(graph)"
   ]
  },
  {
   "cell_type": "code",
   "execution_count": null,
   "metadata": {},
   "outputs": [],
   "source": []
  }
 ],
 "metadata": {
  "kernelspec": {
   "display_name": "Python 3",
   "language": "python",
   "name": "python3"
  },
  "language_info": {
   "codemirror_mode": {
    "name": "ipython",
    "version": 3
   },
   "file_extension": ".py",
   "mimetype": "text/x-python",
   "name": "python",
   "nbconvert_exporter": "python",
   "pygments_lexer": "ipython3",
   "version": "3.6.7"
  }
 },
 "nbformat": 4,
 "nbformat_minor": 2
}
