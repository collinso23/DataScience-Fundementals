{
 "cells": [
  {
   "cell_type": "markdown",
   "metadata": {},
   "source": [
    "Before you turn this problem in, make sure everything runs as expected. First, **restart the kernel** (in the menubar, select Kernel$\\rightarrow$Restart) and then **run all cells** (in the menubar, select Cell$\\rightarrow$Run All).\n",
    "\n",
    "Make sure you fill in any place that says `YOUR CODE HERE` or \"YOUR ANSWER HERE\", as well as your name and collaborators below:"
   ]
  },
  {
   "cell_type": "code",
   "execution_count": null,
   "metadata": {},
   "outputs": [],
   "source": [
    "NAME = \"Orion\"\n",
    "COLLABORATORS = \"\""
   ]
  },
  {
   "cell_type": "markdown",
   "metadata": {},
   "source": [
    "---"
   ]
  },
  {
   "cell_type": "markdown",
   "metadata": {
    "slideshow": {
     "slide_type": "slide"
    }
   },
   "source": [
    "## Week 2a Python (cont.)\n",
    "\n",
    "Covers intro to Python language. \n",
    "\n",
    "Part 1c:\n",
    "- Data types\n",
    "- Variables \n",
    "- Strings\n",
    "    - formatting & print\n",
    "\n",
    "Part 2a:\n",
    "- Conditionals\n",
    "    - if / elif / else\n",
    "    - while\n",
    "    - for\n",
    "- Sequences\n",
    "    - Lists\n",
    "        - Range()\n",
    "        \n",
    "Part 2b:\n",
    "- Functions"
   ]
  },
  {
   "cell_type": "markdown",
   "metadata": {
    "slideshow": {
     "slide_type": "slide"
    }
   },
   "source": [
    "The first 90% of the code accounts for the first 90% of the development time. "
   ]
  },
  {
   "cell_type": "markdown",
   "metadata": {
    "slideshow": {
     "slide_type": "fragment"
    }
   },
   "source": [
    "The remaining 10% of the code accounts for the other 90% of the development time.   \n",
    "\n",
    "-- Tom Cargill, object-oriented programming expert at Bell Labs"
   ]
  },
  {
   "cell_type": "markdown",
   "metadata": {
    "slideshow": {
     "slide_type": "slide"
    }
   },
   "source": [
    "## Conditionals\n",
    "\n",
    "### If\n",
    "\n",
    "- Terminate statestement with `:`\n",
    "- No brackets, instead use indentation\n",
    "- Relational operators: `==`, `!=`, `<`, `>`, `<=`, `>=`\n",
    "- Keywords: `if`, `elif` and `else`\n",
    "- Boolean Operators: `and`, `or`, `not`"
   ]
  },
  {
   "cell_type": "markdown",
   "metadata": {
    "slideshow": {
     "slide_type": "slide"
    }
   },
   "source": [
    "Try the the following code:\n",
    "\n",
    "```python \n",
    "age = int(input('Enter your age: '))\n",
    "if (age < 16):\n",
    "    print('You are too young to drive. \\n')\n",
    "elif (age > 65):\n",
    "    print('You get a senior discount! \\n')\n",
    "else:\n",
    "    print('Can you give me a ride to the airport? \\n')\n",
    "```\n",
    "\n",
    "Note that we have to cast `age` as an int. What is its original type? "
   ]
  },
  {
   "cell_type": "code",
   "execution_count": null,
   "metadata": {
    "slideshow": {
     "slide_type": "fragment"
    }
   },
   "outputs": [],
   "source": []
  },
  {
   "cell_type": "markdown",
   "metadata": {
    "slideshow": {
     "slide_type": "slide"
    }
   },
   "source": [
    "#### Exercise 0:\n",
    "Write an if statement that asks the user for the number of games (`nog`) in their _Steam_ library.\n",
    "\n",
    "- if `nog` is less than 10: let them know that you don't assoociate with noobs\n",
    "- if `nog` is greater than 100: ask them to share their library\n",
    "- if `nog` is in between: tell them that there is a sale coming soon"
   ]
  },
  {
   "cell_type": "code",
   "execution_count": null,
   "metadata": {
    "slideshow": {
     "slide_type": "fragment"
    }
   },
   "outputs": [],
   "source": []
  },
  {
   "cell_type": "markdown",
   "metadata": {
    "slideshow": {
     "slide_type": "slide"
    }
   },
   "source": [
    "### While loop\n",
    "\n",
    "- Terminate statement with `:`\n",
    "- No braces/brackets, instead use indentation\n",
    "- keywords `while`, `continue` and `break`"
   ]
  },
  {
   "cell_type": "markdown",
   "metadata": {
    "slideshow": {
     "slide_type": "slide"
    }
   },
   "source": [
    "#### Example\n",
    "\n",
    "```python \n",
    "nums = list()\n",
    "i = 0\n",
    "while (i <= 9):\n",
    "    nums.append(i)\n",
    "    i = i+2\n",
    "print('Odd nums', nums)\n",
    "```\n",
    "\n",
    "Note that I snuck in a `list` in that example. We define them a bit later."
   ]
  },
  {
   "cell_type": "code",
   "execution_count": null,
   "metadata": {
    "slideshow": {
     "slide_type": "fragment"
    }
   },
   "outputs": [],
   "source": [
    "#example\n",
    "\n",
    "%whos"
   ]
  },
  {
   "cell_type": "markdown",
   "metadata": {
    "slideshow": {
     "slide_type": "slide"
    }
   },
   "source": [
    "## Exercise 1"
   ]
  },
  {
   "cell_type": "markdown",
   "metadata": {
    "slideshow": {
     "slide_type": "fragment"
    }
   },
   "source": [
    "Running sum:\n",
    "- Ask user to enter a digit\n",
    "- Keep a running total of digits\n",
    "- Keep collecting digits until user enters `0`\n",
    "- Print running sum when done\n",
    "\n",
    "Ex: \n",
    "\n",
    "```\n",
    "Enter an int to sum, 0 to quit: 3\n",
    "Enter an int to sum, 0 to quit: 4\n",
    "Enter an int to sum, 0 to quit: 0\n",
    "Total is 7\n",
    "```"
   ]
  },
  {
   "cell_type": "code",
   "execution_count": null,
   "metadata": {},
   "outputs": [],
   "source": []
  },
  {
   "cell_type": "markdown",
   "metadata": {
    "slideshow": {
     "slide_type": "slide"
    }
   },
   "source": [
    "## Solution"
   ]
  },
  {
   "cell_type": "code",
   "execution_count": null,
   "metadata": {
    "slideshow": {
     "slide_type": "slide"
    }
   },
   "outputs": [],
   "source": [
    "# %load w2a1.py\n"
   ]
  },
  {
   "cell_type": "markdown",
   "metadata": {
    "slideshow": {
     "slide_type": "slide"
    }
   },
   "source": [
    "## Exercise 2"
   ]
  },
  {
   "cell_type": "markdown",
   "metadata": {
    "slideshow": {
     "slide_type": "fragment"
    }
   },
   "source": [
    "If the user enters a non-digit input, above code will go kaput. \n",
    "\n",
    "Modify your code to avoid this. \n",
    "\n",
    "See the string methods to verify that the input is valid. <br>\n",
    "https://docs.python.org/3/library/stdtypes.html#string-methods\n",
    "\n",
    "Expected output:\n",
    "\n",
    "```\n",
    "Enter an int to sum, 0 to quit: 5\n",
    "Enter an int to sum, 0 to quit: r\n",
    "Please enter an int.\n",
    "Enter an int to sum, 0 to quit: 4.0\n",
    "Please enter an int.\n",
    "Enter an int to sum, 0 to quit: 11\n",
    "Enter an int to sum, 0 to quit: 0\n",
    "Total is 16\n",
    "```"
   ]
  },
  {
   "cell_type": "code",
   "execution_count": null,
   "metadata": {},
   "outputs": [],
   "source": []
  },
  {
   "cell_type": "markdown",
   "metadata": {
    "slideshow": {
     "slide_type": "slide"
    }
   },
   "source": [
    "## Solution"
   ]
  },
  {
   "cell_type": "code",
   "execution_count": null,
   "metadata": {
    "slideshow": {
     "slide_type": "slide"
    }
   },
   "outputs": [],
   "source": [
    "# %load w2a2.py\n"
   ]
  },
  {
   "cell_type": "markdown",
   "metadata": {
    "slideshow": {
     "slide_type": "slide"
    }
   },
   "source": [
    "## Exercise 3"
   ]
  },
  {
   "cell_type": "markdown",
   "metadata": {
    "slideshow": {
     "slide_type": "slide"
    }
   },
   "source": [
    "Write a script to:\n",
    "- Ask the user for their name\n",
    "- We want names to be 4 to 8 chars\n",
    "- If their name has more than 8 char, re-assign their name to be the first 8 chars\n",
    "- If the name has less than 4 chars, append 0's at the end to make it 4 chars\n",
    "- Once the name is 4 to 8 chars, print it in capital letters"
   ]
  },
  {
   "cell_type": "markdown",
   "metadata": {
    "slideshow": {
     "slide_type": "slide"
    }
   },
   "source": [
    "Expected output:\n",
    "\n",
    "```\n",
    "Please enter your name: Xi\n",
    "HELLO XI00!\n",
    "\n",
    "Please enter your name: Ronaldinho\n",
    "HELLO RONALDIN!\n",
    "```"
   ]
  },
  {
   "cell_type": "code",
   "execution_count": null,
   "metadata": {},
   "outputs": [],
   "source": []
  },
  {
   "cell_type": "markdown",
   "metadata": {
    "slideshow": {
     "slide_type": "slide"
    }
   },
   "source": [
    "## Solution"
   ]
  },
  {
   "cell_type": "code",
   "execution_count": null,
   "metadata": {
    "slideshow": {
     "slide_type": "slide"
    }
   },
   "outputs": [],
   "source": [
    "# %load w2a3.py\n"
   ]
  },
  {
   "cell_type": "markdown",
   "metadata": {
    "slideshow": {
     "slide_type": "slide"
    }
   },
   "source": [
    "## Lists\n",
    "\n",
    "Lists are muteable sequences. \n",
    "\n",
    "Common list operations include \n",
    "- `list.sort()`, \n",
    "- `list.append(x)`, \n",
    "- `list.clear()`, \n",
    "- `list.insert(i,x)`, \n",
    "- `del list[i:j]` <br> \n",
    "\n",
    "where `x` is an element and `i, j` are list indices. \n",
    "\n",
    "Complete list operations are listed at:<br>\n",
    "https://docs.python.org/3/library/stdtypes.html#mutable-sequence-types"
   ]
  },
  {
   "cell_type": "code",
   "execution_count": null,
   "metadata": {
    "slideshow": {
     "slide_type": "fragment"
    }
   },
   "outputs": [],
   "source": [
    "l=['a','c','b','x']\n",
    "l.insert(0,'z')\n",
    "del l[0:2]\n",
    "print(l)"
   ]
  },
  {
   "cell_type": "markdown",
   "metadata": {
    "slideshow": {
     "slide_type": "slide"
    }
   },
   "source": [
    "Lists can be nested:\n",
    "```python\n",
    "veggies = ['eggplant', 'tomatoes']\n",
    "prices = [2.0, 4.5]\n",
    "shop = veggies + prices\n",
    "print(shop)\n",
    "print(shop[0])\n",
    "#slicing ex:\n",
    "print(shop[1:]) \n",
    "```"
   ]
  },
  {
   "cell_type": "code",
   "execution_count": null,
   "metadata": {
    "slideshow": {
     "slide_type": "fragment"
    }
   },
   "outputs": [],
   "source": [
    "#Give it a go\n",
    " "
   ]
  },
  {
   "cell_type": "markdown",
   "metadata": {
    "slideshow": {
     "slide_type": "slide"
    }
   },
   "source": [
    "Lists are mutable.\n",
    "\n",
    "We can use indeces to change the values.\n",
    "\n",
    "```python\n",
    "#create a shallow copy\n",
    "alias_prices = prices\n",
    "prices[1] = 1.99\n",
    "print(prices)\n",
    "print(shop)\n",
    "print(alias_prices)\n",
    "```"
   ]
  },
  {
   "cell_type": "code",
   "execution_count": null,
   "metadata": {
    "slideshow": {
     "slide_type": "fragment"
    }
   },
   "outputs": [],
   "source": []
  },
  {
   "cell_type": "markdown",
   "metadata": {
    "slideshow": {
     "slide_type": "fragment"
    }
   },
   "source": [
    "Note that `alias_prices` is a reference to `prices` as they are referring to the same memory location. "
   ]
  },
  {
   "cell_type": "markdown",
   "metadata": {
    "slideshow": {
     "slide_type": "slide"
    }
   },
   "source": [
    "## Exercise 4"
   ]
  },
  {
   "cell_type": "markdown",
   "metadata": {
    "slideshow": {
     "slide_type": "slide"
    }
   },
   "source": [
    "\n",
    "- Create a list to include the most popular male and female [baby names][1] in the US from 2010: \n",
    "\n",
    "Female | Male\n",
    "- | -\n",
    "Sophia | Aiden\n",
    "Isabella | Jacob\n",
    "Olivia | Jackson\n",
    "Emma | Ethan\n",
    "Chloe | Jayden\n",
    "\n",
    "- Sort the list alphabetically \n",
    "- Print every other name\n",
    "    - Hint: You don't need a loop for this. \n",
    "    - Create a slice using `[start:stop:step]` notations \n",
    "    - See the first example at [SciPy slicing documentation][2]\n",
    "    - We will talk more about different indecing options\n",
    "\n",
    "Expected output:\n",
    "```\n",
    "['Aiden', 'Emma', 'Isabella', 'Jacob', 'Olivia']\n",
    "```\n",
    "\n",
    "[1]: https://www.babycenter.com/top-baby-names-2010.htm\n",
    "[2]: https://docs.scipy.org/doc/numpy-1.13.0/reference/arrays.indexing.html"
   ]
  },
  {
   "cell_type": "code",
   "execution_count": null,
   "metadata": {},
   "outputs": [],
   "source": []
  },
  {
   "cell_type": "markdown",
   "metadata": {
    "slideshow": {
     "slide_type": "slide"
    }
   },
   "source": [
    "## Solution"
   ]
  },
  {
   "cell_type": "code",
   "execution_count": null,
   "metadata": {
    "slideshow": {
     "slide_type": "slide"
    }
   },
   "outputs": [],
   "source": [
    "# %load w2a4.py\n"
   ]
  },
  {
   "cell_type": "code",
   "execution_count": null,
   "metadata": {
    "slideshow": {
     "slide_type": "fragment"
    }
   },
   "outputs": [],
   "source": []
  },
  {
   "cell_type": "markdown",
   "metadata": {
    "slideshow": {
     "slide_type": "slide"
    }
   },
   "source": [
    "#### Range()\n",
    "\n",
    "Range is a practical function that generates a list of numbers.\n",
    "\n",
    "Useage: `range([start],stop,[step])` <br>\n",
    "where start (inclusive) and step are optional integer parameters. <br>\n",
    "stop is expected and is exclusive.\n",
    "\n",
    "`start`\n",
    "The value of the start parameter (or `0` if the parameter was not supplied)\n",
    "\n",
    "`stop`\n",
    "The value of the stop parameter\n",
    "\n",
    "`step`\n",
    "The value of the step parameter (or `1` if the parameter was not supplied)\n",
    "\n",
    "Examples:\n",
    "```python\n",
    "#Create 5 sequential numbers\n",
    "l0a=range(5)\n",
    "l0b=range(0,5)\n",
    "l0c=range(0,5,1)\n",
    "#All of the above are identical \n",
    "\n",
    "```"
   ]
  },
  {
   "cell_type": "code",
   "execution_count": null,
   "metadata": {
    "slideshow": {
     "slide_type": "fragment"
    }
   },
   "outputs": [],
   "source": [
    "l0a=range(5)\n",
    "l0b=range(0,5)\n",
    "l0c=range(0,10,2)\n",
    "\n",
    "print(l0a, list(l0a))"
   ]
  },
  {
   "cell_type": "markdown",
   "metadata": {
    "slideshow": {
     "slide_type": "slide"
    }
   },
   "source": [
    "### For loop\n",
    "\n",
    "Now that we are familar with lists and range, we can introduce the for loop. "
   ]
  },
  {
   "cell_type": "markdown",
   "metadata": {
    "slideshow": {
     "slide_type": "fragment"
    }
   },
   "source": [
    "`range()` and `for` loops are commonly used together. "
   ]
  },
  {
   "cell_type": "markdown",
   "metadata": {
    "slideshow": {
     "slide_type": "fragment"
    }
   },
   "source": [
    "We commonly rely on the `in` operator for `for` loops.\n",
    "\n",
    "`in` can be used to check if `x` is contained within an iterable object. "
   ]
  },
  {
   "cell_type": "markdown",
   "metadata": {
    "slideshow": {
     "slide_type": "fragment"
    }
   },
   "source": [
    "You can print the ranges defined above using a for loop:\n",
    "```python\n",
    "for idx in l0a:\n",
    "    print(idx)\n",
    "```"
   ]
  },
  {
   "cell_type": "code",
   "execution_count": null,
   "metadata": {
    "slideshow": {
     "slide_type": "fragment"
    }
   },
   "outputs": [],
   "source": [
    "print(l0a)\n",
    "#try for loop here:\n",
    "\n",
    "#What would it print for l0c?"
   ]
  },
  {
   "cell_type": "markdown",
   "metadata": {
    "slideshow": {
     "slide_type": "slide"
    }
   },
   "source": [
    "Note that `step` parameter can be negative to traverse backwards\n",
    "\n",
    "Example: \n",
    "- Create a range of numbers counting down from 30 to 0: step size: -1\n",
    "- Print them from largest to smallest from 30 downto 0.\n",
    "    - using a `for` loop\n",
    "\n",
    "```python\n",
    "l1 = range(30,0,-1)\n",
    "for idx in l1:\n",
    "    print(idx)\n",
    "```"
   ]
  },
  {
   "cell_type": "code",
   "execution_count": null,
   "metadata": {
    "slideshow": {
     "slide_type": "fragment"
    }
   },
   "outputs": [],
   "source": [
    "#try for loop here:\n"
   ]
  },
  {
   "cell_type": "markdown",
   "metadata": {
    "slideshow": {
     "slide_type": "slide"
    }
   },
   "source": [
    "Modify the exampe above to\n",
    "- Create a list of numbers counting down from 50 to 0, step size: -5\n",
    "- Print them using a `for` loop\n",
    "- Expected: `50 45 40 35 30 25 20 15 10 5 0 `"
   ]
  },
  {
   "cell_type": "code",
   "execution_count": null,
   "metadata": {
    "slideshow": {
     "slide_type": "fragment"
    }
   },
   "outputs": [],
   "source": [
    "#try for loop here:\n"
   ]
  },
  {
   "cell_type": "markdown",
   "metadata": {
    "slideshow": {
     "slide_type": "slide"
    }
   },
   "source": [
    "We can use similar funcitonality with strings:\n",
    "```python\n",
    "for myChar in myString:\n",
    "    print(myChar)\n",
    "```"
   ]
  },
  {
   "cell_type": "code",
   "execution_count": null,
   "metadata": {
    "slideshow": {
     "slide_type": "fragment"
    }
   },
   "outputs": [],
   "source": [
    "#Run the code above. \n",
    "    "
   ]
  },
  {
   "cell_type": "markdown",
   "metadata": {
    "slideshow": {
     "slide_type": "slide"
    }
   },
   "source": [
    "## Exercise 5"
   ]
  },
  {
   "cell_type": "markdown",
   "metadata": {
    "slideshow": {
     "slide_type": "slide"
    }
   },
   "source": [
    "Char counter:\n",
    "- Ask user for a word\n",
    "- Ask user for a char\n",
    "- Count the number of occurances of char in the word\n",
    "- Make it capitilization agnostic by capitalizing everything\n",
    "\n",
    "Expected output:\n",
    "```\n",
    "Enter a word: KAwaBANga\n",
    "Enter a letter to search: a\n",
    "Found 4 occurances of A in KAWABANGA\n",
    "```"
   ]
  },
  {
   "cell_type": "code",
   "execution_count": null,
   "metadata": {},
   "outputs": [],
   "source": [
    "usword = input(\"gimme a word\\n\")\n",
    "uschar = input(\"gimme a char\\n\")\n",
    "char_counter = 0\n",
    "\n",
    "usword.upper()\n",
    "uschar.upper()\n",
    "\n",
    "for char in usword:\n",
    "    if uschar == usword[char]:\n",
    "        charcounter +=1\n",
    "\n",
    "print(f\"there is {charcounter} in the word {usword} for the char: {char}\")\n",
    "        "
   ]
  },
  {
   "cell_type": "markdown",
   "metadata": {
    "slideshow": {
     "slide_type": "slide"
    }
   },
   "source": [
    "## Solution"
   ]
  },
  {
   "cell_type": "code",
   "execution_count": null,
   "metadata": {
    "slideshow": {
     "slide_type": "slide"
    }
   },
   "outputs": [],
   "source": [
    "# %load w2a5.py\n"
   ]
  },
  {
   "cell_type": "markdown",
   "metadata": {
    "slideshow": {
     "slide_type": "slide"
    }
   },
   "source": [
    "This notebook introduced Python syntax for:\n",
    "- Conditionals\n",
    "    - if / elif / else\n",
    "    - while\n",
    "    - for\n",
    "- Sequences\n",
    "    - Lists\n",
    "        - range()\n"
   ]
  },
  {
   "cell_type": "markdown",
   "metadata": {
    "slideshow": {
     "slide_type": "fragment"
    }
   },
   "source": [
    "Next, we'll introduce functions and wrap up our intro to Python."
   ]
  },
  {
   "cell_type": "code",
   "execution_count": null,
   "metadata": {},
   "outputs": [],
   "source": []
  }
 ],
 "metadata": {
  "kernelspec": {
   "display_name": "Python 3",
   "language": "python",
   "name": "python3"
  }
 },
 "nbformat": 4,
 "nbformat_minor": 2
}
