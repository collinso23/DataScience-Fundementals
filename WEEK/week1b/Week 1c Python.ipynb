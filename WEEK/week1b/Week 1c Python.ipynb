{
 "cells": [
  {
   "cell_type": "markdown",
   "metadata": {},
   "source": [
    "Before you turn this problem in, make sure everything runs as expected. First, **restart the kernel** (in the menubar, select Kernel$\\rightarrow$Restart) and then **run all cells** (in the menubar, select Cell$\\rightarrow$Run All).\n",
    "\n",
    "Make sure you fill in any place that says `YOUR CODE HERE` or \"YOUR ANSWER HERE\", as well as your name and collaborators below:"
   ]
  },
  {
   "cell_type": "code",
   "execution_count": null,
   "metadata": {},
   "outputs": [],
   "source": [
    "NAME = \"Orion\"\n",
    "COLLABORATORS = \"\""
   ]
  },
  {
   "cell_type": "markdown",
   "metadata": {},
   "source": [
    "---"
   ]
  },
  {
   "cell_type": "markdown",
   "metadata": {
    "deletable": false,
    "editable": false,
    "nbgrader": {
     "checksum": "70ff37f9b1fc73375014971f2ab68bf4",
     "grade": false,
     "grade_id": "cell-9c8f209206a3cf3d",
     "locked": true,
     "schema_version": 1,
     "solution": false
    },
    "slideshow": {
     "slide_type": "slide"
    }
   },
   "source": [
    "## Week 1c Python\n",
    "\n",
    "Intro to Python language. \n",
    "\n",
    "Part c:\n",
    "- Data types\n",
    "- Variables \n",
    "- Strings\n",
    "    - formatting & print\n",
    "\n",
    "Coming up:\n",
    "- Conditionals\n",
    "    - While\n",
    "    - For\n",
    "- Sequences\n",
    "    - Lists\n",
    "        - Range()\n",
    "        \n",
    "Part e:\n",
    "- Functions"
   ]
  },
  {
   "cell_type": "markdown",
   "metadata": {
    "slideshow": {
     "slide_type": "slide"
    }
   },
   "source": [
    "A little girl goes into a pet show and asks for a wabbit. The shop keeper looks down at her, smiles and says:\n",
    "\n",
    "\"Would you like a lovely fluffy little white rabbit, or a cutesy wootesly little brown rabbit?\"\n",
    "\n",
    "\"Actually\", says the little girl, \"I don't think my python would notice.\"\n",
    "\n",
    "—Nick Leaton, Wed, 04 Dec 1996"
   ]
  },
  {
   "cell_type": "markdown",
   "metadata": {
    "slideshow": {
     "slide_type": "slide"
    }
   },
   "source": [
    "### Capabilities\n",
    "\n",
    "1. Web and Networking\n",
    "    - Frameworks, such as __[Django](http://www.djangoproject.com/)__ and __[Flask](http://flask.pocoo.org/)__\n",
    "    - Built-in protocol support for __[HTML](http://docs.python.org/library/markup)__, JSON, Email, FTP, etc.\n",
    "2. Scientific / Compuational libraries\n",
    " - Array-type operations: __[Numpy](http://www.numpy.org/)__. \n",
    " - Scientific operations: __[Scipy](http://scipy.org/)__. More modules and features than numpy. \n",
    " - Plotting: __[matplotlib](http://matplotlib.org/)__\n",
    " - Data analysis/structures: __[pandas](http://pandas.pydata.org/)__\n",
    " - Machine learning and data mining: __[scikit-learn](http://scikit-learn.org/stable/)__\n",
    "3. GUI\n",
    "    - Platform indepent, Qt: __[pyqt](http://www.riverbankcomputing.co.uk/software/pyqt/intro)__\n",
    "    - Widgets: __[wxWidgets](http://www.wxpython.org/)__\n",
    "    - Multitouch: __[Kivy](http://kivy.org/)__\n",
    "    "
   ]
  },
  {
   "cell_type": "markdown",
   "metadata": {
    "slideshow": {
     "slide_type": "slide"
    }
   },
   "source": [
    "### Data Types\n",
    "\n",
    "We don't have to declare our data types. \n",
    "\n",
    "Create three variables: x, y and z. Set them to `2`, `2.0` and `\"2.0\"` accordingly."
   ]
  },
  {
   "cell_type": "code",
   "execution_count": 1,
   "metadata": {
    "slideshow": {
     "slide_type": "fragment"
    }
   },
   "outputs": [],
   "source": [
    "x, y, z = 2, 2.0, \"2.0\""
   ]
  },
  {
   "cell_type": "markdown",
   "metadata": {
    "slideshow": {
     "slide_type": "slide"
    }
   },
   "source": [
    "We can check the data type using the function `type`. \n",
    "\n",
    "Find the type for x, y and z\n"
   ]
  },
  {
   "cell_type": "code",
   "execution_count": 3,
   "metadata": {
    "slideshow": {
     "slide_type": "fragment"
    }
   },
   "outputs": [
    {
     "name": "stdout",
     "output_type": "stream",
     "text": [
      "<class 'int'> <class 'float'> <class 'str'>\n"
     ]
    }
   ],
   "source": [
    "print(f\"{type(x)} {type(y)} {type(z)}\")"
   ]
  },
  {
   "cell_type": "code",
   "execution_count": 5,
   "metadata": {
    "slideshow": {
     "slide_type": "fragment"
    }
   },
   "outputs": [
    {
     "name": "stdout",
     "output_type": "stream",
     "text": [
      "x =  2 , y = 2.0\n"
     ]
    }
   ],
   "source": [
    "#Example: print variables:\n",
    "print('x = ',x, ', y =', y)\n",
    "#print x,y and z:\n",
    "#print?"
   ]
  },
  {
   "cell_type": "code",
   "execution_count": 6,
   "metadata": {
    "slideshow": {
     "slide_type": "slide"
    }
   },
   "outputs": [
    {
     "name": "stdout",
     "output_type": "stream",
     "text": [
      "Variable   Type     Data/Info\n",
      "-----------------------------\n",
      "x          int      2\n",
      "y          float    2.0\n",
      "z          str      2.0\n"
     ]
    }
   ],
   "source": [
    "#display variables in namespace\n",
    "%whos"
   ]
  },
  {
   "cell_type": "markdown",
   "metadata": {
    "slideshow": {
     "slide_type": "slide"
    }
   },
   "source": [
    "## Exercise 1"
   ]
  },
  {
   "cell_type": "markdown",
   "metadata": {
    "slideshow": {
     "slide_type": "fragment"
    }
   },
   "source": [
    "Compute the polynomial $y=ax^2+bx+c$ \n",
    "\n",
    "at $x=-2$, $x=0$, and $x=2$ <br>\n",
    "using $a=-1$, $b=2$, $c=3$\n",
    "\n",
    "print to get: $x = -2 , y = -5$"
   ]
  },
  {
   "cell_type": "code",
   "execution_count": 13,
   "metadata": {},
   "outputs": [
    {
     "name": "stdout",
     "output_type": "stream",
     "text": [
      "3\n",
      "-5\n",
      "x = -2 will result in y = -5\n"
     ]
    }
   ],
   "source": [
    "x = [-2,0,2]\n",
    "a = -1\n",
    "b = 2\n",
    "c = 3\n",
    "for num in x:\n",
    "    y = a*x[num]**2 + b*x[num] + c\n",
    "    print(f\"{y}\")\n",
    "    if y == -5:\n",
    "        print(f\"x = {x[num]} will result in y = -5\")\n",
    "        break"
   ]
  },
  {
   "cell_type": "markdown",
   "metadata": {
    "slideshow": {
     "slide_type": "slide"
    }
   },
   "source": [
    "## Solution"
   ]
  },
  {
   "cell_type": "code",
   "execution_count": 14,
   "metadata": {
    "slideshow": {
     "slide_type": "slide"
    }
   },
   "outputs": [
    {
     "name": "stdout",
     "output_type": "stream",
     "text": [
      "Variable   Type    Data/Info\n",
      "----------------------------\n",
      "a          int     -1\n",
      "b          int     2\n",
      "c          int     3\n",
      "num        int     0\n",
      "x          list    n=3\n",
      "y          int     -5\n",
      "z          str     2.0\n"
     ]
    }
   ],
   "source": [
    "# %load w1c1.py\n",
    "%whos\n"
   ]
  },
  {
   "cell_type": "markdown",
   "metadata": {
    "slideshow": {
     "slide_type": "slide"
    }
   },
   "source": [
    "Since we don't have to declare the data types, this is called **dynamic typing**."
   ]
  },
  {
   "cell_type": "markdown",
   "metadata": {
    "slideshow": {
     "slide_type": "fragment"
    }
   },
   "source": [
    "In languages such as Java and C, we would have to declare our variable **statically** `x` as a `double` or an `int`."
   ]
  },
  {
   "cell_type": "markdown",
   "metadata": {
    "slideshow": {
     "slide_type": "fragment"
    }
   },
   "source": [
    "Since Python infers the type, we can re-assign `x` as a string without any errors. \n",
    "\n",
    "Some other languages might not allow this flexiblity.  "
   ]
  },
  {
   "cell_type": "code",
   "execution_count": null,
   "metadata": {
    "slideshow": {
     "slide_type": "slide"
    }
   },
   "outputs": [],
   "source": [
    "x = 4\n",
    "print('x=',x,'. Type of x is', type(x))\n",
    "\n",
    "x = 'shoe laces'\n",
    "print('x=',x,'. Type of x is', type(x))"
   ]
  },
  {
   "cell_type": "markdown",
   "metadata": {
    "slideshow": {
     "slide_type": "slide"
    }
   },
   "source": [
    "### Variables\n",
    "Thus, a,b,c and x,y,z are our variables. Commands like `whos` allow us to monitor them."
   ]
  },
  {
   "cell_type": "markdown",
   "metadata": {
    "slideshow": {
     "slide_type": "slide"
    }
   },
   "source": [
    "Not many restrictions on variable names. \n",
    "- They are case sensitive\n",
    "    - 'a' and 'A' are different variables\n",
    "- Respect the reserved words\n",
    "    - do not call your variable 'if','class', etc. \n",
    "- Variable names cannot start with a number. "
   ]
  },
  {
   "cell_type": "markdown",
   "metadata": {
    "slideshow": {
     "slide_type": "slide"
    }
   },
   "source": [
    "Which of the following variable names valid in Python 3?\n",
    "- Aardvark\n",
    "- Patrick34\n",
    "- 64Wicked\n",
    "- true\n",
    "- True\n"
   ]
  },
  {
   "cell_type": "code",
   "execution_count": null,
   "metadata": {},
   "outputs": [],
   "source": [
    "#64Wicked is not valid var name bc starts with num"
   ]
  },
  {
   "cell_type": "markdown",
   "metadata": {
    "slideshow": {
     "slide_type": "slide"
    }
   },
   "source": [
    "### Strings \n",
    "\n",
    "Str objects are immutable Unicode sequences. \n",
    "\n",
    "List of string methods:\n",
    "https://docs.python.org/3/library/stdtypes.html#string-methods"
   ]
  },
  {
   "cell_type": "markdown",
   "metadata": {
    "slideshow": {
     "slide_type": "slide"
    }
   },
   "source": [
    "We can operate on Strings:\n",
    "\n",
    "`+`: String concatenation"
   ]
  },
  {
   "cell_type": "code",
   "execution_count": 16,
   "metadata": {
    "slideshow": {
     "slide_type": "fragment"
    }
   },
   "outputs": [],
   "source": [
    "a = 'hungry '\n",
    "b = 'hippo'\n",
    "#c = a+b\n",
    "#print(c)\n"
   ]
  },
  {
   "cell_type": "markdown",
   "metadata": {
    "slideshow": {
     "slide_type": "slide"
    }
   },
   "source": [
    "`*`: String repetition\n"
   ]
  },
  {
   "cell_type": "code",
   "execution_count": null,
   "metadata": {
    "slideshow": {
     "slide_type": "fragment"
    }
   },
   "outputs": [],
   "source": [
    "b*5\n",
    "\n",
    "#Also, use hashtags to comment things.\n",
    "#Comments are green. Because they are good for you."
   ]
  },
  {
   "cell_type": "markdown",
   "metadata": {
    "slideshow": {
     "slide_type": "slide"
    }
   },
   "source": [
    "We also have access to many string functions such as `len`, `lower/upper` and `replace`"
   ]
  },
  {
   "cell_type": "code",
   "execution_count": 17,
   "metadata": {
    "slideshow": {
     "slide_type": "slide"
    }
   },
   "outputs": [
    {
     "name": "stdout",
     "output_type": "stream",
     "text": [
      "7\n",
      "angry hippo\n"
     ]
    }
   ],
   "source": [
    "print(len(a))\n",
    "print(a.replace('hu','a')+b)\n",
    "\n",
    "c= 'I DoNt cARe AbOuT SchOOl'\n",
    "#Exercise: use the lower method to print c using lower case letters:\n",
    "\n",
    "#Exercise: print the number of chars in 'c'\n"
   ]
  },
  {
   "cell_type": "markdown",
   "metadata": {
    "slideshow": {
     "slide_type": "slide"
    }
   },
   "source": [
    "## Tab-completion of object contents\n",
    "To see a list of all available attributes of an object, you can type the name of the object followed by a period (\".\") character and the Tab key:"
   ]
  },
  {
   "cell_type": "code",
   "execution_count": 26,
   "metadata": {
    "scrolled": true,
    "slideshow": {
     "slide_type": "fragment"
    }
   },
   "outputs": [
    {
     "name": "stdout",
     "output_type": "stream",
     "text": [
      "i dont care about school\n",
      "24\n"
     ]
    }
   ],
   "source": [
    "#Type c.<tab>\n",
    "\n",
    "print(c.lower())\n",
    "#Type c.is<tab>\n",
    "print(len(c))"
   ]
  },
  {
   "cell_type": "markdown",
   "metadata": {
    "slideshow": {
     "slide_type": "slide"
    }
   },
   "source": [
    "\n",
    "### Exercise\n",
    "\n",
    "How much butter beer can I drink out of a traffic cone that is 45.7 cm tall and has a radius of 35 cm? <br> Give your answer in liters.   \n",
    "\n",
    "Recall that volume of a circular cone is $V=\\pi r^2 \\frac{h}{3}$"
   ]
  },
  {
   "cell_type": "code",
   "execution_count": 28,
   "metadata": {
    "slideshow": {
     "slide_type": "slide"
    }
   },
   "outputs": [
    {
     "name": "stdout",
     "output_type": "stream",
     "text": [
      "58.62473690986353 Liters\n"
     ]
    }
   ],
   "source": [
    "import math\n",
    "mypi = math.pi\n",
    "r = 35\n",
    "h = 45.7\n",
    "\n",
    "V = ((mypi*r**2)*(h/3))/1000\n",
    "print(f\"{V} Liters\")\n",
    "#Result: Print:\n",
    "#V= 58.62473690986352 liters"
   ]
  },
  {
   "cell_type": "markdown",
   "metadata": {
    "slideshow": {
     "slide_type": "slide"
    }
   },
   "source": [
    "## Beyond tab completion: wildcard matching\n",
    "\n",
    "Use `*` to  match characters at the middle or end of the word.\n",
    "\n",
    "Try: \n",
    "`*Warning?`"
   ]
  },
  {
   "cell_type": "code",
   "execution_count": 32,
   "metadata": {
    "slideshow": {
     "slide_type": "fragment"
    }
   },
   "outputs": [],
   "source": [
    "*Warning?"
   ]
  },
  {
   "cell_type": "markdown",
   "metadata": {
    "slideshow": {
     "slide_type": "slide"
    }
   },
   "source": [
    "## Help!\n",
    "\n",
    "`help x`: print results on x\n",
    "`x?`: docstring for x\n",
    "`x??`: source code for x"
   ]
  },
  {
   "cell_type": "code",
   "execution_count": 41,
   "metadata": {
    "slideshow": {
     "slide_type": "fragment"
    }
   },
   "outputs": [],
   "source": [
    "help??\n",
    "#Try all three for len:"
   ]
  },
  {
   "cell_type": "code",
   "execution_count": null,
   "metadata": {
    "slideshow": {
     "slide_type": "fragment"
    }
   },
   "outputs": [],
   "source": [
    "#Why do you think len doesn't have source code?\n",
    "the function is too small to display source code\n",
    "#Where do you think it might be implemented? "
   ]
  },
  {
   "cell_type": "markdown",
   "metadata": {
    "slideshow": {
     "slide_type": "slide"
    }
   },
   "source": [
    "#### String formatting\n",
    "\n",
    "`print` function is inspired by the `C` language. "
   ]
  },
  {
   "cell_type": "markdown",
   "metadata": {
    "slideshow": {
     "slide_type": "fragment"
    }
   },
   "source": [
    "Actually, Python as a language is implemented in C*. \n",
    "\n",
    "*CPython is the most popular and the reference implementation for Python.\n",
    "\n",
    "Consequently `print` can be employed similarly to `printf`. "
   ]
  },
  {
   "cell_type": "markdown",
   "metadata": {
    "slideshow": {
     "slide_type": "slide"
    }
   },
   "source": [
    "Conversion types\n",
    "\n",
    "Converts to | Char\n",
    "-|-\n",
    "Single char | c\n",
    "Decimal/long int | d, i\n",
    "Unsinged int | u\n",
    "Floating point | f\n",
    "Exponential notation | e, E\n",
    "String via str() | s\n",
    "String via rep() | r\n",
    "\n",
    "`r` displays the raw data and is great for debugging! \n",
    "\n",
    "Also, you can use escape codes such as `\\n`. \n",
    "Let's print a couple variables:"
   ]
  },
  {
   "cell_type": "code",
   "execution_count": 42,
   "metadata": {
    "scrolled": true,
    "slideshow": {
     "slide_type": "slide"
    }
   },
   "outputs": [
    {
     "name": "stdout",
     "output_type": "stream",
     "text": [
      "a is hungry  and b is hippo \n",
      "Together they are 'hungry hippo' \n",
      "\n",
      "Pi can be printed to two decimal places as 3.14\n"
     ]
    }
   ],
   "source": [
    "#String via str() and rep()\n",
    "print('a is %s and b is %s \\nTogether they are %r \\n' % (a, b, a+b))\n",
    "\n",
    "#We can also use precision:\n",
    "print('Pi can be printed to two decimal places as %.2f' % (math.pi))\n"
   ]
  },
  {
   "cell_type": "markdown",
   "metadata": {
    "slideshow": {
     "slide_type": "slide"
    }
   },
   "source": [
    "## Exercise 2"
   ]
  },
  {
   "cell_type": "markdown",
   "metadata": {
    "slideshow": {
     "slide_type": "fragment"
    }
   },
   "source": [
    "Your goal is to write a single print statement to print the following sentance using the given variables:\n",
    "\n",
    "Expected result: <br>\n",
    "My rabit weights 3.1 pounds. <br>\n",
    "My parrot weights 3.9 pounds."
   ]
  },
  {
   "cell_type": "code",
   "execution_count": null,
   "metadata": {},
   "outputs": [],
   "source": [
    "\n"
   ]
  },
  {
   "cell_type": "markdown",
   "metadata": {
    "slideshow": {
     "slide_type": "slide"
    }
   },
   "source": [
    "## Solution"
   ]
  },
  {
   "cell_type": "code",
   "execution_count": 44,
   "metadata": {
    "slideshow": {
     "slide_type": "slide"
    }
   },
   "outputs": [
    {
     "name": "stdout",
     "output_type": "stream",
     "text": [
      "My rabbit weights 3.142857142857143 pounds\n",
      "My parrot wieghs 3.888888888888889 pounds\n"
     ]
    }
   ],
   "source": [
    "# %load w1c2.py\n",
    "a1 = 'rabbit'\n",
    "a2 ='parrot'\n",
    "w1=22/7\n",
    "w2=35/9\n",
    "print(f\"My {} weights {} pounds\".format(a1,))\n",
    "print(f\"My {a2} wieghs {w2} pounds\")"
   ]
  },
  {
   "cell_type": "markdown",
   "metadata": {
    "slideshow": {
     "slide_type": "slide"
    }
   },
   "source": [
    "We covered:\n",
    "- what can Python be used for\n",
    "- data types\n",
    "- variables \n",
    "- `whos`\n",
    "- Strings and formatting"
   ]
  },
  {
   "cell_type": "markdown",
   "metadata": {
    "slideshow": {
     "slide_type": "slide"
    }
   },
   "source": [
    "Based on\n",
    "__[Help and Documentation in IPython](https://jakevdp.github.io/PythonDataScienceHandbook/01.01-help-and-documentation.html)__\n"
   ]
  },
  {
   "cell_type": "code",
   "execution_count": null,
   "metadata": {
    "slideshow": {
     "slide_type": "slide"
    }
   },
   "outputs": [],
   "source": []
  }
 ],
 "metadata": {
  "kernelspec": {
   "display_name": "Python 3",
   "language": "python",
   "name": "python3"
  },
  "language_info": {
   "codemirror_mode": {
    "name": "ipython",
    "version": 3
   },
   "file_extension": ".py",
   "mimetype": "text/x-python",
   "name": "python",
   "nbconvert_exporter": "python",
   "pygments_lexer": "ipython3",
   "version": "3.6.7"
  }
 },
 "nbformat": 4,
 "nbformat_minor": 2
}
