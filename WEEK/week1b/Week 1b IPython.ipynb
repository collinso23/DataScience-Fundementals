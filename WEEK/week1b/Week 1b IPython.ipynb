{
 "cells": [
  {
   "cell_type": "markdown",
   "metadata": {},
   "source": [
    "Before you turn this problem in, make sure everything runs as expected. First, **restart the kernel** (in the menubar, select Kernel$\\rightarrow$Restart) and then **run all cells** (in the menubar, select Cell$\\rightarrow$Run All).\n",
    "\n",
    "Make sure you fill in any place that says `YOUR CODE HERE` or \"YOUR ANSWER HERE\", as well as your name and collaborators below:"
   ]
  },
  {
   "cell_type": "code",
   "execution_count": 7,
   "metadata": {},
   "outputs": [],
   "source": [
    "NAME = \"\"\n",
    "COLLABORATORS = \"\""
   ]
  },
  {
   "cell_type": "markdown",
   "metadata": {},
   "source": [
    "---"
   ]
  },
  {
   "cell_type": "markdown",
   "metadata": {
    "deletable": false,
    "editable": false,
    "nbgrader": {
     "checksum": "f742cb89d936729ff6835b24c71be592",
     "grade": false,
     "grade_id": "cell-7841efc6e66cfb19",
     "locked": true,
     "schema_version": 1,
     "solution": false
    },
    "slideshow": {
     "slide_type": "slide"
    }
   },
   "source": [
    "## IPython Tutorial\n",
    "\n",
    "These notebook will introduce IPhyton and Jupyter notebooks. "
   ]
  },
  {
   "cell_type": "markdown",
   "metadata": {
    "slideshow": {
     "slide_type": "slide"
    }
   },
   "source": [
    "### Why do we use it? \n",
    "\n",
    "Login to class server via terminal on Jupy or SSH. \n",
    "\n",
    "Use your favorite editor to create a Python scipt. If you don't have a favorite, use nano:\n",
    "\n",
    "   `nano hello_world.py`\n",
    "    "
   ]
  },
  {
   "cell_type": "markdown",
   "metadata": {
    "slideshow": {
     "slide_type": "slide"
    }
   },
   "source": [
    "Enter the following code:\n",
    "\n",
    "    `print(\"Hello WIT! Have a good semester!\")`\n",
    "    "
   ]
  },
  {
   "cell_type": "markdown",
   "metadata": {
    "slideshow": {
     "slide_type": "slide"
    }
   },
   "source": [
    "Exit your editor. [`Ctrl + X` for nano]. \n",
    "Execute your python code:\n",
    "    ``python hello_world.py``\n",
    "    \n",
    "It should display the string. "
   ]
  },
  {
   "cell_type": "markdown",
   "metadata": {
    "slideshow": {
     "slide_type": "slide"
    }
   },
   "source": [
    "Enter the same statement in cell below and execute by pressing `Shift + Enter` or click on 'Run'\n",
    "\n"
   ]
  },
  {
   "cell_type": "markdown",
   "metadata": {
    "slideshow": {
     "slide_type": "slide"
    }
   },
   "source": [
    "## Exercise 1"
   ]
  },
  {
   "cell_type": "code",
   "execution_count": 8,
   "metadata": {
    "slideshow": {
     "slide_type": "fragment"
    }
   },
   "outputs": [
    {
     "name": "stdout",
     "output_type": "stream",
     "text": [
      "Hello WIT!\n",
      "Have a good semester!\n"
     ]
    }
   ],
   "source": [
    "#Execute a print statement here\n",
    "print(\"Hello WIT!\\nHave a good semester!\")"
   ]
  },
  {
   "cell_type": "code",
   "execution_count": 9,
   "metadata": {},
   "outputs": [],
   "source": [
    "###############My very own note!####################"
   ]
  },
  {
   "cell_type": "markdown",
   "metadata": {
    "slideshow": {
     "slide_type": "slide"
    }
   },
   "source": [
    "## Solution"
   ]
  },
  {
   "cell_type": "code",
   "execution_count": 10,
   "metadata": {
    "slideshow": {
     "slide_type": "slide"
    }
   },
   "outputs": [],
   "source": [
    "# %load w1b1.py\n",
    "\n"
   ]
  },
  {
   "cell_type": "markdown",
   "metadata": {
    "slideshow": {
     "slide_type": "slide"
    }
   },
   "source": [
    "Note that everything you have entered in a cell is **global**. \n",
    "\n",
    "So, the cells below can access it. \n"
   ]
  },
  {
   "cell_type": "markdown",
   "metadata": {
    "slideshow": {
     "slide_type": "slide"
    }
   },
   "source": [
    "### Math operations\n",
    "\n",
    "Operation | Symbol\n",
    "-|-\n",
    "Addition | + \n",
    "Subratction | -\n",
    "Division | /\n",
    "Multiplication | *\n",
    "Exponentiation | **\n",
    "\n",
    "#### Operation order is PEMDAS\n",
    "- Parenthesis \n",
    "- Exponentiation\n",
    "- Division/Multiplication\n",
    "- Addition/Subratction"
   ]
  },
  {
   "cell_type": "markdown",
   "metadata": {
    "slideshow": {
     "slide_type": "slide"
    }
   },
   "source": [
    "## Exercise 2"
   ]
  },
  {
   "cell_type": "code",
   "execution_count": 11,
   "metadata": {
    "slideshow": {
     "slide_type": "fragment"
    }
   },
   "outputs": [
    {
     "name": "stdout",
     "output_type": "stream",
     "text": [
      "8760\n",
      "625\n",
      "511\n",
      "7682\n"
     ]
    }
   ],
   "source": [
    "#Solve the math problems below using the tabulated operations.\n",
    "\n",
    "#Calculate and print the number of hours in a year.\n",
    "print(f\"{24*365}\")\n",
    "#What is 5*5*5*5?\n",
    "print(f\"{5*5*5*5}\")\n",
    "#What is the largest unsigned int that we can store in 9 bits? \n",
    "print(f\"{2**9-1}\")\n",
    "#Set x to be your age in days. Assume each month is 30 days and each year is 365 days.\n",
    "x = 365*21+17\n",
    "print(f\"{x}\")"
   ]
  },
  {
   "cell_type": "markdown",
   "metadata": {
    "slideshow": {
     "slide_type": "slide"
    }
   },
   "source": [
    "## Solution"
   ]
  },
  {
   "cell_type": "code",
   "execution_count": 12,
   "metadata": {
    "slideshow": {
     "slide_type": "slide"
    }
   },
   "outputs": [],
   "source": [
    "# %load w1b2.py\n"
   ]
  },
  {
   "cell_type": "markdown",
   "metadata": {
    "slideshow": {
     "slide_type": "slide"
    }
   },
   "source": [
    "### Bitwise operations:\n",
    "\n",
    "Operation | Symbol\n",
    "-|-\n",
    "XOR | ^\n",
    "AND | &\n",
    "OR | &#124;\n",
    "NOT | ~\n",
    "Bit shift left | <<\n",
    "Bit shift right | >>\n"
   ]
  },
  {
   "cell_type": "markdown",
   "metadata": {
    "slideshow": {
     "slide_type": "slide"
    }
   },
   "source": [
    "## Exercise 3"
   ]
  },
  {
   "cell_type": "code",
   "execution_count": 13,
   "metadata": {
    "slideshow": {
     "slide_type": "fragment"
    }
   },
   "outputs": [
    {
     "name": "stdout",
     "output_type": "stream",
     "text": [
      "32\n",
      "9872\n",
      "32\n"
     ]
    }
   ],
   "source": [
    "#Use bitwise operations to divide 128 by 4\n",
    "print(f\"{128>>2}\")\n",
    "#Use bitwise operations to multiply 8 by 1234\n",
    "print(f\"{1234<<3}\")\n",
    "#Use bitwise operations to divide 256 by 8\n",
    "print(f\"{256>>3}\")"
   ]
  },
  {
   "cell_type": "markdown",
   "metadata": {
    "slideshow": {
     "slide_type": "slide"
    }
   },
   "source": [
    "## Solution"
   ]
  },
  {
   "cell_type": "code",
   "execution_count": 14,
   "metadata": {
    "slideshow": {
     "slide_type": "slide"
    }
   },
   "outputs": [],
   "source": [
    "# %load w1b3.py\n"
   ]
  },
  {
   "cell_type": "markdown",
   "metadata": {
    "slideshow": {
     "slide_type": "slide"
    }
   },
   "source": [
    "So, these notebooks allow us to **experiement** with our code **quickly** and **tune our parameters** by executing sections of our programs in our browsers. "
   ]
  },
  {
   "cell_type": "markdown",
   "metadata": {
    "slideshow": {
     "slide_type": "slide"
    }
   },
   "source": [
    "### How do we use it?\n",
    "Let's take advantage of the global variables: "
   ]
  },
  {
   "cell_type": "markdown",
   "metadata": {
    "slideshow": {
     "slide_type": "slide"
    }
   },
   "source": [
    "## Exercise 4"
   ]
  },
  {
   "cell_type": "code",
   "execution_count": 15,
   "metadata": {
    "slideshow": {
     "slide_type": "fragment"
    }
   },
   "outputs": [
    {
     "name": "stdout",
     "output_type": "stream",
     "text": [
      "7682\n"
     ]
    }
   ],
   "source": [
    "#set y to be your age in years\n",
    "#use your result from above\n",
    "y = x \n",
    "print(x)\n"
   ]
  },
  {
   "cell_type": "markdown",
   "metadata": {
    "slideshow": {
     "slide_type": "slide"
    }
   },
   "source": [
    "## Solution"
   ]
  },
  {
   "cell_type": "code",
   "execution_count": 16,
   "metadata": {
    "slideshow": {
     "slide_type": "slide"
    }
   },
   "outputs": [],
   "source": [
    "# %load w1b4.py\n"
   ]
  },
  {
   "cell_type": "markdown",
   "metadata": {
    "slideshow": {
     "slide_type": "slide"
    }
   },
   "source": [
    "Be careful: the notebooks are designed to be executed in sequential order: top to bottom. If you skip a cell, you will encounter errors. "
   ]
  },
  {
   "cell_type": "code",
   "execution_count": 17,
   "metadata": {
    "slideshow": {
     "slide_type": "slide"
    }
   },
   "outputs": [
    {
     "ename": "NameError",
     "evalue": "name 'z' is not defined",
     "output_type": "error",
     "traceback": [
      "\u001b[0;31m---------------------------------------------------------------------------\u001b[0m",
      "\u001b[0;31mNameError\u001b[0m                                 Traceback (most recent call last)",
      "\u001b[0;32m<ipython-input-17-bce085e38ec4>\u001b[0m in \u001b[0;36m<module>\u001b[0;34m\u001b[0m\n\u001b[0;32m----> 1\u001b[0;31m \u001b[0my\u001b[0m \u001b[0;34m=\u001b[0m \u001b[0mz\u001b[0m \u001b[0;34m+\u001b[0m \u001b[0;36m1\u001b[0m\u001b[0;34m\u001b[0m\u001b[0;34m\u001b[0m\u001b[0m\n\u001b[0m",
      "\u001b[0;31mNameError\u001b[0m: name 'z' is not defined"
     ]
    }
   ],
   "source": [
    "y = z + 1"
   ]
  },
  {
   "cell_type": "markdown",
   "metadata": {
    "slideshow": {
     "slide_type": "slide"
    }
   },
   "source": [
    "Save your changes frequently:\n",
    "\n",
    "Click File -> Save and Checkpoint\n",
    "\n",
    "or click the Floppy disk icon\n"
   ]
  },
  {
   "cell_type": "markdown",
   "metadata": {
    "slideshow": {
     "slide_type": "slide"
    }
   },
   "source": [
    "Be [Green](http://static1.squarespace.com/static/52ce15f8e4b0874a24183fb9/52ec05a9e4b077a6f438b679/53c580eee4b005c742191b17/1405525906128/?format=1000w) and shut down your notebook:\n",
    "\n",
    "\n",
    "Click File -> Close and Halt\n",
    "\n"
   ]
  },
  {
   "cell_type": "markdown",
   "metadata": {
    "slideshow": {
     "slide_type": "slide"
    }
   },
   "source": [
    "## Magic\n",
    "There are commands specific to ipython to make your self eaiser. You can list them using `%lsmagic`"
   ]
  },
  {
   "cell_type": "code",
   "execution_count": null,
   "metadata": {
    "slideshow": {
     "slide_type": "slide"
    }
   },
   "outputs": [],
   "source": [
    "%lsmagic"
   ]
  },
  {
   "cell_type": "markdown",
   "metadata": {
    "slideshow": {
     "slide_type": "slide"
    }
   },
   "source": [
    "Some of these terms might be intuitive: \n",
    "\n",
    "`%cd`, `%debug`, `%who`, `%perl`, `%timeit`, etc. "
   ]
  },
  {
   "cell_type": "markdown",
   "metadata": {
    "slideshow": {
     "slide_type": "slide"
    }
   },
   "source": [
    "To learn more, use `?` before the command name. <br>\n",
    "Note: `?` will provide help on Python functions as well. \n",
    "\n",
    "Display the docstring for `timeit`"
   ]
  },
  {
   "cell_type": "code",
   "execution_count": null,
   "metadata": {
    "slideshow": {
     "slide_type": "slide"
    }
   },
   "outputs": [],
   "source": [
    "#?time/it\n",
    "?timeit\n"
   ]
  },
  {
   "cell_type": "code",
   "execution_count": null,
   "metadata": {
    "slideshow": {
     "slide_type": "slide"
    }
   },
   "outputs": [],
   "source": [
    "#Use timeit to calculate the execution time for 10^20\n",
    "%timeit 10**20\n",
    "# runs a statement thousands of times (by default) and \n",
    "# then provides the mean of the fastest few"
   ]
  },
  {
   "cell_type": "code",
   "execution_count": 20,
   "metadata": {
    "slideshow": {
     "slide_type": "slide"
    }
   },
   "outputs": [
    {
     "name": "stdout",
     "output_type": "stream",
     "text": [
      "CPU times: user 0 ns, sys: 0 ns, total: 0 ns\n",
      "Wall time: 16.2 µs\n"
     ]
    },
    {
     "data": {
      "text/plain": [
       "100000000000000000000"
      ]
     },
     "execution_count": 20,
     "metadata": {},
     "output_type": "execute_result"
    }
   ],
   "source": [
    "#To Do: Use time to calculate 10^20\n",
    "%time 10**20"
   ]
  },
  {
   "cell_type": "markdown",
   "metadata": {
    "slideshow": {
     "slide_type": "slide"
    }
   },
   "source": [
    "Which one do you think is more accurate, time or timeit? "
   ]
  },
  {
   "cell_type": "code",
   "execution_count": null,
   "metadata": {},
   "outputs": [],
   "source": [
    "?time\n",
    "# %timeit is more accurate becuase it performs more tests then time"
   ]
  },
  {
   "cell_type": "markdown",
   "metadata": {
    "slideshow": {
     "slide_type": "slide"
    }
   },
   "source": [
    "Which one allows more stats?\n",
    "\n",
    "Type `%who`. What do you see?\n",
    "What about `%whos`\n"
   ]
  },
  {
   "cell_type": "code",
   "execution_count": 19,
   "metadata": {},
   "outputs": [],
   "source": [
    "## %whos allows for more stats"
   ]
  },
  {
   "cell_type": "code",
   "execution_count": 18,
   "metadata": {
    "slideshow": {
     "slide_type": "fragment"
    }
   },
   "outputs": [
    {
     "name": "stdout",
     "output_type": "stream",
     "text": [
      "COLLABORATORS\t NAME\t x\t y\t \n",
      "Variable        Type    Data/Info\n",
      "---------------------------------\n",
      "COLLABORATORS   str     \n",
      "NAME            str     \n",
      "x               int     7682\n",
      "y               int     7682\n"
     ]
    }
   ],
   "source": [
    "%who\n",
    "%whos"
   ]
  },
  {
   "cell_type": "markdown",
   "metadata": {
    "slideshow": {
     "slide_type": "slide"
    }
   },
   "source": [
    "Another useful command is `%store`. What do you think it does? "
   ]
  },
  {
   "cell_type": "code",
   "execution_count": 22,
   "metadata": {
    "slideshow": {
     "slide_type": "slide"
    }
   },
   "outputs": [
    {
     "name": "stdout",
     "output_type": "stream",
     "text": [
      "Stored 'name' (str)\n"
     ]
    }
   ],
   "source": [
    "name=\"Hello. My name is Inigo Montoya. You killed my father. Prepare to die.\"\n",
    "%store name > name_of_Montoya.txt\n",
    "?store\n",
    "#create a new notebook now. Test %who and %store\n",
    "#Besides passing, what else does store does? \n",
    "#Hint: See docstring"
   ]
  },
  {
   "cell_type": "code",
   "execution_count": 23,
   "metadata": {},
   "outputs": [
    {
     "name": "stdout",
     "output_type": "stream",
     "text": [
      "hello_world.py  w1b1.py  w1b3.py  w1c1.py  Week 1b IPython.ipynb\r\n",
      "Untitled.ipynb  w1b2.py  w1b4.py  w1c2.py  Week 1c Python.ipynb\r\n"
     ]
    }
   ],
   "source": [
    "%ls\n"
   ]
  },
  {
   "cell_type": "markdown",
   "metadata": {
    "slideshow": {
     "slide_type": "slide"
    }
   },
   "source": [
    "Experiment with `%connect_info` and `%history`"
   ]
  },
  {
   "cell_type": "code",
   "execution_count": 30,
   "metadata": {
    "slideshow": {
     "slide_type": "slide"
    }
   },
   "outputs": [
    {
     "name": "stdout",
     "output_type": "stream",
     "text": [
      "{\n",
      "  \"shell_port\": 35903,\n",
      "  \"iopub_port\": 58256,\n",
      "  \"stdin_port\": 37002,\n",
      "  \"control_port\": 53609,\n",
      "  \"hb_port\": 38312,\n",
      "  \"ip\": \"127.0.0.1\",\n",
      "  \"key\": \"7e9a8765-828e532b3e22fb4f9daf801c\",\n",
      "  \"transport\": \"tcp\",\n",
      "  \"signature_scheme\": \"hmac-sha256\",\n",
      "  \"kernel_name\": \"\"\n",
      "}\n",
      "\n",
      "Paste the above JSON into a file, and connect with:\n",
      "    $> jupyter <app> --existing <file>\n",
      "or, if you are local, you can connect with just:\n",
      "    $> jupyter <app> --existing kernel-6a7d040c-b220-4f02-8d22-825b55e761b7.json\n",
      "or even just:\n",
      "    $> jupyter <app> --existing\n",
      "if this is the most recent Jupyter kernel you have started.\n",
      "#?time/it\n",
      "?timeit\n",
      "#Use timeit to calculate the execution time for 10^20\n",
      "%timeit 10**20\n",
      "# runs a statement thousands of times (by default) and \n",
      "# then provides the mean of the fastest few\n",
      "#To Do: Use time to calculate 10^20\n",
      "%timeit 10**20\n",
      "%time 10**20\n",
      "?time\n",
      "%who\n",
      "%whos\n",
      "%who\n",
      "%whos\n",
      "NAME = \"\"\n",
      "COLLABORATORS = \"\"\n",
      "#Execute a print statement here\n",
      "print(\"Hello WIT!\\nHave a good semester!\")\n",
      "###############My very own note!####################\n",
      "# %load w1b1.py\n",
      "#Solve the math problems below using the tabulated operations.\n",
      "\n",
      "#Calculate and print the number of hours in a year.\n",
      "print(f\"{24*365}\")\n",
      "#What is 5*5*5*5?\n",
      "print(f\"{5*5*5*5}\")\n",
      "#What is the largest unsigned int that we can store in 9 bits? \n",
      "print(f\"{2**9-1}\")\n",
      "#Set x to be your age in days. Assume each month is 30 days and each year is 365 days.\n",
      "x = 365*21+17\n",
      "print(f\"{x}\")\n",
      "# %load w1b2.py\n",
      "#Use bitwise operations to divide 128 by 4\n",
      "print(f\"{128>>2}\")\n",
      "#Use bitwise operations to multiply 8 by 1234\n",
      "print(f\"{1234<<3}\")\n",
      "#Use bitwise operations to divide 256 by 8\n",
      "print(f\"{256>>3}\")\n",
      "# %load w1b3.py\n",
      "#set y to be your age in years\n",
      "#use your result from above\n",
      "y = x \n",
      "print(x)\n",
      "# %load w1b4.py\n",
      "y = z + 1\n",
      "%who\n",
      "%whos\n",
      "## %whos allows for more stats\n",
      "#To Do: Use time to calculate 10^20\n",
      "%time 10**20\n",
      "name=\"Hello. My name is Inigo Montoya. You killed my father. Prepare to die.\"\n",
      "%store name \n",
      "\n",
      "#create a new notebook now. Test %who and %store\n",
      "#Besides passing, what else does store does? \n",
      "#Hint: See docstring\n",
      "name=\"Hello. My name is Inigo Montoya. You killed my father. Prepare to die.\"\n",
      "%store name \n",
      "?store\n",
      "#create a new notebook now. Test %who and %store\n",
      "#Besides passing, what else does store does? \n",
      "#Hint: See docstring\n",
      "%ls\n",
      "%connect_info\n",
      "%history'\"'\n",
      " %load hello_world.py\n",
      " %run hello.py\n",
      "%%perl\n",
      "for(my $idx=0; $idx< 10; $idx++) {\n",
      "    printf \"I will not waste cycles. \\n\"; \n",
      "}\n",
      "%matplotlib inline\n",
      "from ipywidgets import widgets\n",
      "from IPython.html.widgets import *\n",
      "import numpy as np\n",
      "import matplotlib.pyplot as plt\n",
      "\n",
      "t = np.arange(0.0, 1.0, 0.01)\n",
      "\n",
      "def sinPlot(f):\n",
      "    plt.plot(t,np.sin(2*np.pi*t*f))\n",
      "    plt.show()\n",
      "    \n",
      "interact(sinPlot, f=(1., 10., 1.))\n",
      "%matplotlib inline\n",
      "from ipywidgets import widgets\n",
      "from IPython.html.widgets import *\n",
      "import numpy as np\n",
      "import matplotlib.pyplot as plt\n",
      "\n",
      "t = np.arange(0.0, 1.0, 0.01)\n",
      "\n",
      "def sinPlot(f):\n",
      "    plt.plot(t,np.sin(2*np.pi*t*f))\n",
      "    plt.show()\n",
      "    \n",
      "interact(sinPlot, f=(1., 10., 1.))\n",
      "%connect_info\n",
      "%history\n"
     ]
    }
   ],
   "source": [
    "%connect_info\n",
    "%history\n"
   ]
  },
  {
   "cell_type": "code",
   "execution_count": null,
   "metadata": {},
   "outputs": [],
   "source": []
  },
  {
   "cell_type": "markdown",
   "metadata": {
    "slideshow": {
     "slide_type": "slide"
    }
   },
   "source": [
    "We can also load code from existing scripts or run them. \n",
    "\n",
    "Try loading the code and running your script!"
   ]
  },
  {
   "cell_type": "code",
   "execution_count": null,
   "metadata": {
    "slideshow": {
     "slide_type": "fragment"
    }
   },
   "outputs": [],
   "source": [
    "# %load hello_world.py\n",
    "\n",
    "print(\"Hello WIT! We are having a great semester\")\n"
   ]
  },
  {
   "cell_type": "code",
   "execution_count": 32,
   "metadata": {
    "slideshow": {
     "slide_type": "fragment"
    }
   },
   "outputs": [
    {
     "name": "stdout",
     "output_type": "stream",
     "text": [
      "Hello WIT! We are having a great semester\n"
     ]
    },
    {
     "data": {
      "text/plain": [
       "<Figure size 432x288 with 0 Axes>"
      ]
     },
     "metadata": {},
     "output_type": "display_data"
    }
   ],
   "source": [
    " %run hello_world.py"
   ]
  },
  {
   "cell_type": "markdown",
   "metadata": {
    "slideshow": {
     "slide_type": "slide"
    }
   },
   "source": [
    "You can use magic commands to run HTML, javascript, perl, R code or to use SQL for datamanagement. \n",
    "\n",
    "For instance, run the following loop written in Perl:\n",
    "```\n",
    "#activate perl magic\n",
    "for(my $idx=0; $idx < 10; $idx++) {\n",
    "    printf \"I will not waste cycles. \\n\"; \n",
    "}\n",
    "```"
   ]
  },
  {
   "cell_type": "code",
   "execution_count": 27,
   "metadata": {
    "slideshow": {
     "slide_type": "slide"
    }
   },
   "outputs": [
    {
     "name": "stdout",
     "output_type": "stream",
     "text": [
      "I will not waste cycles. \n",
      "I will not waste cycles. \n",
      "I will not waste cycles. \n",
      "I will not waste cycles. \n",
      "I will not waste cycles. \n",
      "I will not waste cycles. \n",
      "I will not waste cycles. \n",
      "I will not waste cycles. \n",
      "I will not waste cycles. \n",
      "I will not waste cycles. \n"
     ]
    }
   ],
   "source": [
    "%%perl\n",
    "for(my $idx=0; $idx< 10; $idx++) {\n",
    "    printf \"I will not waste cycles. \\n\"; \n",
    "}"
   ]
  },
  {
   "cell_type": "markdown",
   "metadata": {
    "slideshow": {
     "slide_type": "slide"
    }
   },
   "source": [
    "These magic commands are what allows one to create dynamic pages. \n",
    "\n",
    "Try the following widget: \n",
    "```python\n",
    "%matplotlib inline\n",
    "\n",
    "from ipywidgets import widgets\n",
    "#from IPython.html.widgets import *\n",
    "import numpy as np\n",
    "import matplotlib.pyplot as plt\n",
    "\n",
    "t = np.arange(0.0, 1.0, 0.01)\n",
    "\n",
    "def sinPlot(f):\n",
    "    plt.plot(t,np.sin(2*np.pi*t*f))\n",
    "    plt.show()\n",
    "    \n",
    "interact(sinPlot, f=(1., 10., 1.))\n",
    "```\n"
   ]
  },
  {
   "cell_type": "code",
   "execution_count": 29,
   "metadata": {
    "slideshow": {
     "slide_type": "slide"
    }
   },
   "outputs": [
    {
     "data": {
      "application/vnd.jupyter.widget-view+json": {
       "model_id": "371e314d16e047e8aea67a800908f134",
       "version_major": 2,
       "version_minor": 0
      },
      "text/plain": [
       "interactive(children=(FloatSlider(value=5.0, description='f', max=10.0, min=1.0, step=1.0), Output()), _dom_cl…"
      ]
     },
     "metadata": {},
     "output_type": "display_data"
    },
    {
     "data": {
      "text/plain": [
       "<function __main__.sinPlot(f)>"
      ]
     },
     "execution_count": 29,
     "metadata": {},
     "output_type": "execute_result"
    }
   ],
   "source": [
    "%matplotlib inline\n",
    "from ipywidgets import widgets\n",
    "from IPython.html.widgets import *\n",
    "import numpy as np\n",
    "import matplotlib.pyplot as plt\n",
    "\n",
    "t = np.arange(0.0, 1.0, 0.01)\n",
    "\n",
    "def sinPlot(f):\n",
    "    plt.plot(t,np.sin(2*np.pi*t*f))\n",
    "    plt.show()\n",
    "    \n",
    "interact(sinPlot, f=(1., 10., 1.))"
   ]
  },
  {
   "cell_type": "markdown",
   "metadata": {
    "slideshow": {
     "slide_type": "slide"
    }
   },
   "source": [
    "There are too many features to list here. \n",
    "\n",
    "See Ref at the bottom if you want to learn more. "
   ]
  },
  {
   "cell_type": "markdown",
   "metadata": {
    "slideshow": {
     "slide_type": "slide"
    }
   },
   "source": [
    "But, another one of my favorites is the multiple cursor selection. \n",
    "\n",
    "Hold `Alt` on your keybord and select all the elements from mylist. \n",
    "\n",
    "Then, delete the `;`; and add `,` to all elements simultaneously. "
   ]
  },
  {
   "cell_type": "code",
   "execution_count": null,
   "metadata": {
    "slideshow": {
     "slide_type": "slide"
    }
   },
   "outputs": [],
   "source": [
    "mylist=[\n",
    "    1,\n",
    "    2,\n",
    "    3,\n",
    "    4,\n",
    "    5,\n",
    "    6,\n",
    "    7,\n",
    "    8,\n",
    "    9,\n",
    "]"
   ]
  },
  {
   "cell_type": "markdown",
   "metadata": {
    "slideshow": {
     "slide_type": "slide"
    }
   },
   "source": [
    "### Conclusion\n",
    "\n",
    "This notebook covered why and how we use the Jupyter notebooks to interact with the server and the python interpreter. \n",
    "\n",
    "Next, we will start discussing the details of the above code: creating functions in python, numpy and matplotlib."
   ]
  },
  {
   "cell_type": "markdown",
   "metadata": {
    "slideshow": {
     "slide_type": "slide"
    }
   },
   "source": [
    "More info / references:\n",
    "\n",
    "Publishing interactive notebooks:\n",
    "__[Publishing notebooks and interactive plots](https://plot.ly/python/ipython-notebook-tutorial/)__\n",
    "\n",
    "More widgettery, text and button examples: \n",
    "__[Building Interactive Dashboards with Jupyter](https://blog.dominodatalab.com/interactive-dashboards-in-jupyter/)\n",
    "\n",
    "More info on the power of notebooks:\n",
    "    https://www.dataquest.io/blog/jupyter-notebook-tips-tricks-shortcuts/\n",
    " "
   ]
  },
  {
   "cell_type": "code",
   "execution_count": null,
   "metadata": {
    "slideshow": {
     "slide_type": "slide"
    }
   },
   "outputs": [],
   "source": []
  }
 ],
 "metadata": {
  "kernelspec": {
   "display_name": "Python 3",
   "language": "python",
   "name": "python3"
  },
  "language_info": {
   "codemirror_mode": {
    "name": "ipython",
    "version": 3
   },
   "file_extension": ".py",
   "mimetype": "text/x-python",
   "name": "python",
   "nbconvert_exporter": "python",
   "pygments_lexer": "ipython3",
   "version": "3.6.7"
  }
 },
 "nbformat": 4,
 "nbformat_minor": 2
}
